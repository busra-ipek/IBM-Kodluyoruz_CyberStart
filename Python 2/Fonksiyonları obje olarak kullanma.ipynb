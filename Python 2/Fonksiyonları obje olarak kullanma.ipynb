{
 "cells": [
  {
   "cell_type": "code",
   "execution_count": 1,
   "id": "c79a2611",
   "metadata": {},
   "outputs": [],
   "source": [
    "l = [1,2,3,4]"
   ]
  },
  {
   "cell_type": "code",
   "execution_count": 2,
   "id": "7e9eef72",
   "metadata": {},
   "outputs": [],
   "source": [
    "def apply(l, f):\n",
    "    \"\"\"\n",
    "    l inputu bir liste,\n",
    "    f listenin tüm elemanlarına uygulanacak fonksiyon\n",
    "    bu fonksiyon sonunda, listenin elemanları fonksiyon uygulanmış haliyle güncellenir.\n",
    "    \"\"\"\n",
    "    \n",
    "    n = len(l)  #listenin eleman sayısı\n",
    "    \n",
    "    for i in range(n):\n",
    "        \n",
    "        l[i] = f(l[i])"
   ]
  },
  {
   "cell_type": "markdown",
   "id": "871c72ab",
   "metadata": {},
   "source": [
    "+ Listenin ilk elemanı f fonksiyonun nun parametresi olarak kullanılır ve değeri güncellenerek , listenin ilk elemanı değişmiş olur.\n",
    "+ Listenin 2. elemanı içinde aynı yol izlenir."
   ]
  },
  {
   "cell_type": "code",
   "execution_count": 3,
   "id": "1a8f8760",
   "metadata": {},
   "outputs": [],
   "source": [
    "def kare(x):\n",
    "    return x**2"
   ]
  },
  {
   "cell_type": "code",
   "execution_count": 5,
   "id": "b3eacef3",
   "metadata": {},
   "outputs": [],
   "source": [
    "apply(l, kare)"
   ]
  },
  {
   "cell_type": "code",
   "execution_count": 6,
   "id": "04ced6fc",
   "metadata": {},
   "outputs": [
    {
     "data": {
      "text/plain": [
       "[1, 4, 9, 16]"
      ]
     },
     "execution_count": 6,
     "metadata": {},
     "output_type": "execute_result"
    }
   ],
   "source": [
    "l"
   ]
  },
  {
   "cell_type": "markdown",
   "id": "7e74bcab",
   "metadata": {},
   "source": [
    "+ Listenin tüm elemanlarına kare fonksiyonu uygulandı ve liste güncellendi."
   ]
  },
  {
   "cell_type": "code",
   "execution_count": 7,
   "id": "5841d7a2",
   "metadata": {},
   "outputs": [],
   "source": [
    "l = [1,2,3,4]"
   ]
  },
  {
   "cell_type": "code",
   "execution_count": 8,
   "id": "d0ba720e",
   "metadata": {},
   "outputs": [],
   "source": [
    "def kup(x):\n",
    "    \n",
    "    return x**3"
   ]
  },
  {
   "cell_type": "code",
   "execution_count": 9,
   "id": "d8640326",
   "metadata": {},
   "outputs": [],
   "source": [
    "apply(l, kup)"
   ]
  },
  {
   "cell_type": "code",
   "execution_count": 10,
   "id": "7ac64814",
   "metadata": {},
   "outputs": [
    {
     "data": {
      "text/plain": [
       "[1, 8, 27, 64]"
      ]
     },
     "execution_count": 10,
     "metadata": {},
     "output_type": "execute_result"
    }
   ],
   "source": [
    "l"
   ]
  },
  {
   "cell_type": "markdown",
   "id": "a400214b",
   "metadata": {},
   "source": [
    "# Fonksiyonlar listesini belirli bir değere uygulamak\n",
    "\n",
    "+ Birden fazla fonksiyon ve sadece bir değer için... "
   ]
  },
  {
   "cell_type": "code",
   "execution_count": 12,
   "id": "e1a4350e",
   "metadata": {},
   "outputs": [],
   "source": [
    "def apply_funcs(f_list,x):\n",
    "    l=[]\n",
    "    for f in f_list:\n",
    "        l.append(f(x))\n",
    "            \n",
    "    return l"
   ]
  },
  {
   "cell_type": "code",
   "execution_count": 14,
   "id": "c1582d8d",
   "metadata": {},
   "outputs": [
    {
     "data": {
      "text/plain": [
       "[25, 125]"
      ]
     },
     "execution_count": 14,
     "metadata": {},
     "output_type": "execute_result"
    }
   ],
   "source": [
    "apply_funcs([kare,kup],5)\n",
    "\n",
    "# 5 değerine sırasıyla kare ve küp fonksiyonları uygulanıyor.\n",
    "# çıkan sonuçlarda boş bir listeye ekleniyor."
   ]
  }
 ],
 "metadata": {
  "kernelspec": {
   "display_name": "Python 3 (ipykernel)",
   "language": "python",
   "name": "python3"
  },
  "language_info": {
   "codemirror_mode": {
    "name": "ipython",
    "version": 3
   },
   "file_extension": ".py",
   "mimetype": "text/x-python",
   "name": "python",
   "nbconvert_exporter": "python",
   "pygments_lexer": "ipython3",
   "version": "3.11.5"
  }
 },
 "nbformat": 4,
 "nbformat_minor": 5
}
