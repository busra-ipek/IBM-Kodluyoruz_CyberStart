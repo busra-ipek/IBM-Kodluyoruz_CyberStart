{
 "cells": [
  {
   "cell_type": "code",
   "execution_count": 10,
   "id": "85f134f8",
   "metadata": {},
   "outputs": [],
   "source": [
    "num_1 = 90000000000"
   ]
  },
  {
   "cell_type": "markdown",
   "id": "ecd5a93d",
   "metadata": {},
   "source": [
    "+ Sayıların arka planda algılnmasını değiştirmeden, burada kaç tane sıfır olduğunu kolay bir yolla bulabiliriz. "
   ]
  },
  {
   "cell_type": "code",
   "execution_count": 11,
   "id": "c72a2185",
   "metadata": {},
   "outputs": [],
   "source": [
    "num_2 = 90_000_000_000"
   ]
  },
  {
   "cell_type": "markdown",
   "id": "71fbed54",
   "metadata": {},
   "source": [
    "+ Sayıların arasına alt çizgi koyarak sayıların okunmasını kolaylaştırabiliriz.\n",
    "\n",
    "+ Bu durum bilgisayarın sayıları algılamasını değiştirmiyor (alt çizgileri görmezden geliyor ) ve bizim için daha okunaklı oluyor."
   ]
  },
  {
   "cell_type": "code",
   "execution_count": 12,
   "id": "f5da2534",
   "metadata": {},
   "outputs": [
    {
     "data": {
      "text/plain": [
       "90000000000"
      ]
     },
     "execution_count": 12,
     "metadata": {},
     "output_type": "execute_result"
    }
   ],
   "source": [
    "num_1"
   ]
  },
  {
   "cell_type": "code",
   "execution_count": 13,
   "id": "ff5a18d5",
   "metadata": {},
   "outputs": [
    {
     "data": {
      "text/plain": [
       "90000000000"
      ]
     },
     "execution_count": 13,
     "metadata": {},
     "output_type": "execute_result"
    }
   ],
   "source": [
    "num_2    #num_1 ile arasında hiçbir fark yok."
   ]
  },
  {
   "cell_type": "code",
   "execution_count": 14,
   "id": "761ce71a",
   "metadata": {},
   "outputs": [
    {
     "data": {
      "text/plain": [
       "0"
      ]
     },
     "execution_count": 14,
     "metadata": {},
     "output_type": "execute_result"
    }
   ],
   "source": [
    "num_1 - num_2"
   ]
  },
  {
   "cell_type": "code",
   "execution_count": 15,
   "id": "86904abc",
   "metadata": {},
   "outputs": [
    {
     "data": {
      "text/plain": [
       "int"
      ]
     },
     "execution_count": 15,
     "metadata": {},
     "output_type": "execute_result"
    }
   ],
   "source": [
    "type(num_1)"
   ]
  },
  {
   "cell_type": "code",
   "execution_count": 16,
   "id": "74b4726c",
   "metadata": {},
   "outputs": [
    {
     "data": {
      "text/plain": [
       "int"
      ]
     },
     "execution_count": 16,
     "metadata": {},
     "output_type": "execute_result"
    }
   ],
   "source": [
    "type(num_2)"
   ]
  },
  {
   "cell_type": "markdown",
   "id": "3f4d7013",
   "metadata": {},
   "source": [
    "+ Bu mantığı floatlar için de yapabiliriz."
   ]
  },
  {
   "cell_type": "code",
   "execution_count": 17,
   "id": "d4920d3c",
   "metadata": {},
   "outputs": [],
   "source": [
    "num_3 = 0.12_11_12"
   ]
  },
  {
   "cell_type": "code",
   "execution_count": 18,
   "id": "7dad6133",
   "metadata": {},
   "outputs": [
    {
     "data": {
      "text/plain": [
       "0.121112"
      ]
     },
     "execution_count": 18,
     "metadata": {},
     "output_type": "execute_result"
    }
   ],
   "source": [
    "num_3"
   ]
  }
 ],
 "metadata": {
  "kernelspec": {
   "display_name": "Python 3 (ipykernel)",
   "language": "python",
   "name": "python3"
  },
  "language_info": {
   "codemirror_mode": {
    "name": "ipython",
    "version": 3
   },
   "file_extension": ".py",
   "mimetype": "text/x-python",
   "name": "python",
   "nbconvert_exporter": "python",
   "pygments_lexer": "ipython3",
   "version": "3.11.5"
  }
 },
 "nbformat": 4,
 "nbformat_minor": 5
}
