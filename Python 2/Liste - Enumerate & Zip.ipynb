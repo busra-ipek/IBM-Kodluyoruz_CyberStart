{
 "cells": [
  {
   "cell_type": "markdown",
   "id": "404b7e5e",
   "metadata": {},
   "source": [
    "# Enumerate\n",
    "\n",
    "+ for ile non-scalar yapısı içerisinde dolaşırken ya elemanları ya da indexleri üzerinde dolanmıştık , burada da ise ikisini aynı anda yapıcaz.\n",
    "\n",
    "+ Variable unpacking konusunda bir tuple, liste gibi yapıların değerlerini birden çok değişkene tek seferde eşitlemiştik. Bu ifadenin aynısını iterasyon ile de yapabiliriz.\n",
    "\n",
    "+ Enumerate fonksiyonu , nesneleri numaralandırmak için kullanılır. Bir listedeki hem elemanı hem de indeksi getirir."
   ]
  },
  {
   "cell_type": "code",
   "execution_count": 15,
   "id": "bdaa2f54",
   "metadata": {},
   "outputs": [],
   "source": [
    "l = [(1,2), (10,20)]"
   ]
  },
  {
   "cell_type": "code",
   "execution_count": 16,
   "id": "1c415af8",
   "metadata": {},
   "outputs": [
    {
     "name": "stdout",
     "output_type": "stream",
     "text": [
      "(1, 2)\n",
      "(10, 20)\n"
     ]
    }
   ],
   "source": [
    "for e in l:\n",
    "    print(e)"
   ]
  },
  {
   "cell_type": "code",
   "execution_count": 17,
   "id": "0eea694e",
   "metadata": {},
   "outputs": [
    {
     "name": "stdout",
     "output_type": "stream",
     "text": [
      "1\n",
      "2\n",
      "---------\n",
      "10\n",
      "20\n",
      "---------\n"
     ]
    }
   ],
   "source": [
    "for e in l:\n",
    "    a, b = e\n",
    "    print(a)\n",
    "    print(b)\n",
    "    print(\"---------\")"
   ]
  },
  {
   "cell_type": "code",
   "execution_count": 18,
   "id": "1b09b8f5",
   "metadata": {},
   "outputs": [
    {
     "name": "stdout",
     "output_type": "stream",
     "text": [
      "Tuple'ın ilk elemanı:  1\n",
      "Tuple'ın ikinci elemanı:  2\n",
      "-----------------------------\n",
      "Tuple'ın ilk elemanı:  10\n",
      "Tuple'ın ikinci elemanı:  20\n",
      "-----------------------------\n"
     ]
    }
   ],
   "source": [
    "for a,b in l:\n",
    "    print(\"Tuple'ın ilk elemanı: \", a)\n",
    "    print(\"Tuple'ın ikinci elemanı: \", b)\n",
    "    print(\"-----------------------------\")"
   ]
  },
  {
   "cell_type": "markdown",
   "id": "6439c087",
   "metadata": {},
   "source": [
    "+ enumerate() fonksiyonu bize (index, element) olarak verir. 2 değişken tanımlarız 1.değişken indexi verirken, 2.değişken indexe karşılık gelen elemanı verir."
   ]
  },
  {
   "cell_type": "code",
   "execution_count": 19,
   "id": "5251c7c0",
   "metadata": {},
   "outputs": [],
   "source": [
    "adlar = [\"Tyler\", \"Blake\", \"Cory\", \"Cameron\"]"
   ]
  },
  {
   "cell_type": "code",
   "execution_count": 20,
   "id": "6f0144fc",
   "metadata": {},
   "outputs": [
    {
     "name": "stdout",
     "output_type": "stream",
     "text": [
      "Tyler\n",
      "Blake\n",
      "Cory\n",
      "Cameron\n"
     ]
    }
   ],
   "source": [
    "for e in adlar:\n",
    "    print(e)"
   ]
  },
  {
   "cell_type": "code",
   "execution_count": 21,
   "id": "6d0b35a9",
   "metadata": {},
   "outputs": [
    {
     "name": "stdout",
     "output_type": "stream",
     "text": [
      "0 Tyler\n",
      "1 Blake\n",
      "2 Cory\n",
      "3 Cameron\n"
     ]
    }
   ],
   "source": [
    "for i,e in enumerate(adlar):\n",
    "    print(i,e)"
   ]
  },
  {
   "cell_type": "code",
   "execution_count": 22,
   "id": "ef2034b5",
   "metadata": {},
   "outputs": [
    {
     "name": "stdout",
     "output_type": "stream",
     "text": [
      "0  indexindeki eleman:  Tyler\n",
      "1  indexindeki eleman:  Blake\n",
      "2  indexindeki eleman:  Cory\n",
      "3  indexindeki eleman:  Cameron\n"
     ]
    }
   ],
   "source": [
    "for i,e in enumerate(adlar):\n",
    "    print(i, \" indexindeki eleman: \",e)"
   ]
  },
  {
   "cell_type": "markdown",
   "id": "e66c77db",
   "metadata": {},
   "source": [
    "+ enumerate() fonksiyonu 0'dan başlamak zorunda değil, özellikle kaçtan başlayacağıını belirtebiliriz.\n",
    "\n",
    "+ i değeri (index değeri) herhangi bir deeğerden başlayabilir. i değeri birer birer artarak ilerler."
   ]
  },
  {
   "cell_type": "code",
   "execution_count": 23,
   "id": "8e853e39",
   "metadata": {},
   "outputs": [
    {
     "name": "stdout",
     "output_type": "stream",
     "text": [
      "1  lokasyonunda bulunan eleman:  Tyler\n",
      "2  lokasyonunda bulunan eleman:  Blake\n",
      "3  lokasyonunda bulunan eleman:  Cory\n",
      "4  lokasyonunda bulunan eleman:  Cameron\n"
     ]
    }
   ],
   "source": [
    "for i,e in enumerate(adlar, start = 1):\n",
    "    print(i, \" lokasyonunda bulunan eleman: \",e)"
   ]
  },
  {
   "cell_type": "code",
   "execution_count": 24,
   "id": "42957c19",
   "metadata": {},
   "outputs": [],
   "source": [
    "adlar = [\"Tyler\", \"Blake\", \"Cory\", \"Cameron\"]"
   ]
  },
  {
   "cell_type": "code",
   "execution_count": 25,
   "id": "87be034e",
   "metadata": {},
   "outputs": [
    {
     "name": "stdout",
     "output_type": "stream",
     "text": [
      "100  lokasyonunda bulunan eleman:  Tyler\n",
      "101  lokasyonunda bulunan eleman:  Blake\n",
      "102  lokasyonunda bulunan eleman:  Cory\n",
      "103  lokasyonunda bulunan eleman:  Cameron\n"
     ]
    }
   ],
   "source": [
    "for i,e in enumerate(adlar, start = 100):  \n",
    "    print(i, \" lokasyonunda bulunan eleman: \",e)\n",
    "    \n",
    "#i değeri 100,101,102,103 diye artarak devam eder."
   ]
  },
  {
   "cell_type": "markdown",
   "id": "8f1835dd",
   "metadata": {},
   "source": [
    "\n",
    "# zip()\n",
    "\n",
    "+ Farklı yapıların içinde paralel iterasyon yapmamızı sağlar."
   ]
  },
  {
   "cell_type": "code",
   "execution_count": 26,
   "id": "a94abb18",
   "metadata": {},
   "outputs": [],
   "source": [
    "ogrenciler = [\"ogrenci_1\",\"ogrenci_2\",\"ogrenci_3\"]"
   ]
  },
  {
   "cell_type": "code",
   "execution_count": 27,
   "id": "dab71eae",
   "metadata": {},
   "outputs": [],
   "source": [
    "notlar = [90,80,72]"
   ]
  },
  {
   "cell_type": "code",
   "execution_count": 28,
   "id": "497a59af",
   "metadata": {},
   "outputs": [
    {
     "name": "stdout",
     "output_type": "stream",
     "text": [
      "ogrenci_1 90\n",
      "ogrenci_2 80\n",
      "ogrenci_3 72\n"
     ]
    }
   ],
   "source": [
    "for i in range(len(ogrenciler)):\n",
    "    s = ogrenciler[i]\n",
    "    g = notlar[i]\n",
    "    \n",
    "    print(s,g)"
   ]
  },
  {
   "cell_type": "code",
   "execution_count": 30,
   "id": "9418de34",
   "metadata": {},
   "outputs": [
    {
     "name": "stdout",
     "output_type": "stream",
     "text": [
      "ogrenci_1 90\n",
      "ogrenci_2 80\n",
      "ogrenci_3 72\n"
     ]
    }
   ],
   "source": [
    "for i in range(len(ogrenciler)):\n",
    "    print(ogrenciler[i],notlar[i])"
   ]
  },
  {
   "cell_type": "code",
   "execution_count": 29,
   "id": "6ac5c61b",
   "metadata": {},
   "outputs": [
    {
     "name": "stdout",
     "output_type": "stream",
     "text": [
      "ogrenci_1 90\n",
      "ogrenci_2 80\n",
      "ogrenci_3 72\n"
     ]
    }
   ],
   "source": [
    "for s,g in zip(ogrenciler,notlar):\n",
    "    print(s,g)"
   ]
  },
  {
   "cell_type": "markdown",
   "id": "ef6e032c",
   "metadata": {},
   "source": [
    "# zip() örnek"
   ]
  },
  {
   "cell_type": "code",
   "execution_count": 33,
   "id": "d8ea088b",
   "metadata": {},
   "outputs": [
    {
     "name": "stdout",
     "output_type": "stream",
     "text": [
      "Total profit: -53200.0 \n",
      "Total profit: 54400.0 \n",
      "Total profit: 55100.0 \n"
     ]
    }
   ],
   "source": [
    "# Her ayda ki karı hesaplama\n",
    "\n",
    "satis = [3500.00, 76300.00, 67200.00]\n",
    "maliyet = [56700.00, 21900.00, 12100.00]\n",
    "\n",
    "for i in range(len(maliyet)):\n",
    "    s = satis[i]\n",
    "    c = maliyet[i]\n",
    "    \n",
    "    kar= s-c\n",
    "    print(f\"Total profit: {kar} \") \n",
    "    \n",
    "#her ay için satis - maliyet hesaplaması yapılır."
   ]
  },
  {
   "cell_type": "code",
   "execution_count": 34,
   "id": "4f8e58a9",
   "metadata": {},
   "outputs": [
    {
     "name": "stdout",
     "output_type": "stream",
     "text": [
      "Total profit: -53200.0 \n",
      "Total profit: 54400.0 \n",
      "Total profit: 55100.0 \n"
     ]
    }
   ],
   "source": [
    "satis = [3500.00, 76300.00, 67200.00]\n",
    "maliyet = [56700.00, 21900.00, 12100.00]\n",
    "\n",
    "for s,c in zip(satis, maliyet):\n",
    "    kar = s-c\n",
    "    print(f\"Total profit: {kar} \")"
   ]
  },
  {
   "cell_type": "markdown",
   "id": "265a1e97",
   "metadata": {},
   "source": [
    "\n",
    "# zip() ile dictionary yaratmak"
   ]
  },
  {
   "cell_type": "code",
   "execution_count": 35,
   "id": "35f2711a",
   "metadata": {},
   "outputs": [],
   "source": [
    "keys = [\"isim\", \"soyad\", \"ulke\", \"is\"]\n",
    "values = [\"Denis\", \"Walker\", \"Turkey\", \"Data scientist\"]"
   ]
  },
  {
   "cell_type": "code",
   "execution_count": 39,
   "id": "6f333dc5",
   "metadata": {},
   "outputs": [],
   "source": [
    "d = {}\n",
    "\n",
    "for k,v in zip(keys, values):\n",
    "    d[k]=v"
   ]
  },
  {
   "cell_type": "code",
   "execution_count": 40,
   "id": "7c31c5f5",
   "metadata": {},
   "outputs": [
    {
     "data": {
      "text/plain": [
       "{'isim': 'Denis', 'soyad': 'Walker', 'ulke': 'Turkey', 'is': 'Data scientist'}"
      ]
     },
     "execution_count": 40,
     "metadata": {},
     "output_type": "execute_result"
    }
   ],
   "source": [
    "d"
   ]
  },
  {
   "cell_type": "code",
   "execution_count": 41,
   "id": "3ff25544",
   "metadata": {},
   "outputs": [],
   "source": [
    "d = {}\n",
    "\n",
    "for i in range(len(keys)):\n",
    "    k=keys[i]\n",
    "    v=values[i]\n",
    "    \n",
    "    d[k] = v #şeklinde de yapılabilirdi."
   ]
  },
  {
   "cell_type": "code",
   "execution_count": 45,
   "id": "60991788",
   "metadata": {},
   "outputs": [
    {
     "data": {
      "text/plain": [
       "{'isim': 'Denis', 'soyad': 'Walker', 'ulke': 'Turkey', 'is': 'Data scientist'}"
      ]
     },
     "execution_count": 45,
     "metadata": {},
     "output_type": "execute_result"
    }
   ],
   "source": [
    "d"
   ]
  },
  {
   "cell_type": "code",
   "execution_count": 48,
   "id": "20274dbd",
   "metadata": {},
   "outputs": [
    {
     "data": {
      "text/plain": [
       "'Denis'"
      ]
     },
     "execution_count": 48,
     "metadata": {},
     "output_type": "execute_result"
    }
   ],
   "source": [
    "d[\"isim\"]"
   ]
  },
  {
   "cell_type": "code",
   "execution_count": 49,
   "id": "b6a41faf",
   "metadata": {},
   "outputs": [
    {
     "data": {
      "text/plain": [
       "'Data scientist'"
      ]
     },
     "execution_count": 49,
     "metadata": {},
     "output_type": "execute_result"
    }
   ],
   "source": [
    "d[\"is\"]"
   ]
  }
 ],
 "metadata": {
  "kernelspec": {
   "display_name": "Python 3 (ipykernel)",
   "language": "python",
   "name": "python3"
  },
  "language_info": {
   "codemirror_mode": {
    "name": "ipython",
    "version": 3
   },
   "file_extension": ".py",
   "mimetype": "text/x-python",
   "name": "python",
   "nbconvert_exporter": "python",
   "pygments_lexer": "ipython3",
   "version": "3.11.5"
  }
 },
 "nbformat": 4,
 "nbformat_minor": 5
}
