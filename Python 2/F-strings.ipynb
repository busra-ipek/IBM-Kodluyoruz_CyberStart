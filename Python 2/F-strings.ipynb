{
 "cells": [
  {
   "cell_type": "markdown",
   "id": "52e3820d",
   "metadata": {},
   "source": [
    "# F-strings\n",
    "\n",
    "+ Değişkenlerin değerini direkt olarak stringlerin içine koymak isteyebiliriz.\n",
    "\n",
    "+ F-string de yapılan tek şey değişkenlerin değerlerini veya hesaplamalarının sonucunu string'in içine gömmek.\n",
    "\n",
    "+ f\"...\" diye göreceğimiz yapının adını String Interpolation diye görebilirsiniz."
   ]
  },
  {
   "cell_type": "code",
   "execution_count": 1,
   "id": "b117b834",
   "metadata": {},
   "outputs": [],
   "source": [
    "x = 2"
   ]
  },
  {
   "cell_type": "markdown",
   "id": "8347089c",
   "metadata": {},
   "source": [
    "+ Diyelim ki ekrana x' in değerini bastırmak istiyoruz. Bu durumda istediğimiz şey \"x'in değeri 2 \" diye bastırmak. Bunu şu şekilde yapabiliriz."
   ]
  },
  {
   "cell_type": "code",
   "execution_count": 2,
   "id": "7eb2bf8b",
   "metadata": {},
   "outputs": [
    {
     "data": {
      "text/plain": [
       "\"x'in değeri 2\""
      ]
     },
     "execution_count": 2,
     "metadata": {},
     "output_type": "execute_result"
    }
   ],
   "source": [
    "\"x'in değeri\" + \" \" + str(x)"
   ]
  },
  {
   "cell_type": "markdown",
   "id": "04d958f2",
   "metadata": {},
   "source": [
    "+ Ama ayrı ayrı yazmaya ihtiyaç olmadan direkt x'in değerini string'in içine gömebiliriz."
   ]
  },
  {
   "cell_type": "code",
   "execution_count": 3,
   "id": "5c51a391",
   "metadata": {},
   "outputs": [
    {
     "data": {
      "text/plain": [
       "\"x'in değeri 2\""
      ]
     },
     "execution_count": 3,
     "metadata": {},
     "output_type": "execute_result"
    }
   ],
   "source": [
    "f\"x'in değeri {x}\" "
   ]
  },
  {
   "cell_type": "markdown",
   "id": "005d332a",
   "metadata": {},
   "source": [
    "+ İçine değer gömeceğimiz string'i tanımlarken başına f yazarak başlıyoruz f\" .... \" . Gömmek istediğimiz değeri/değişkeni süslü parantez içine yazıyoruz f\" ..... {} .... \". Birden çok değer de gömmek isteyebiliriz, o zaman kaç tane yapacaksak o kadar süslü parantez koymamız gerekirdi f\" . . . . . {}. .. . {} .. \"\n",
    "\n",
    "+ Python'ın yaptığı şey süslü parantezin içini hesaplayıp stringin içine gömmek"
   ]
  },
  {
   "cell_type": "code",
   "execution_count": 4,
   "id": "ad24c717",
   "metadata": {},
   "outputs": [
    {
     "data": {
      "text/plain": [
       "\"x'in değerinin iki fazlası 4\""
      ]
     },
     "execution_count": 4,
     "metadata": {},
     "output_type": "execute_result"
    }
   ],
   "source": [
    "f\"x'in değerinin iki fazlası {x+2}\" "
   ]
  },
  {
   "cell_type": "markdown",
   "id": "d4e7eddb",
   "metadata": {},
   "source": [
    "+ {x+2} kısmında python x+2'yi hesapladı ve stringin içine cevabın değerini gömdü."
   ]
  },
  {
   "cell_type": "code",
   "execution_count": 5,
   "id": "f769702e",
   "metadata": {},
   "outputs": [
    {
     "name": "stdout",
     "output_type": "stream",
     "text": [
      "İsim: Büşra\n"
     ]
    }
   ],
   "source": [
    "isim = input(\"İsim: \")"
   ]
  },
  {
   "cell_type": "code",
   "execution_count": 7,
   "id": "dd33b9d0",
   "metadata": {},
   "outputs": [
    {
     "data": {
      "text/plain": [
       "'verilen isim Büşra'"
      ]
     },
     "execution_count": 7,
     "metadata": {},
     "output_type": "execute_result"
    }
   ],
   "source": [
    "f\"verilen isim {isim}\""
   ]
  },
  {
   "cell_type": "code",
   "execution_count": 13,
   "id": "93b8243c",
   "metadata": {},
   "outputs": [],
   "source": [
    "dict = {1:2, 2:4, 3:4, 4:5}"
   ]
  },
  {
   "cell_type": "code",
   "execution_count": 14,
   "id": "f891ff2b",
   "metadata": {},
   "outputs": [
    {
     "data": {
      "text/plain": [
       "'verilen dictionary {1: 2, 2: 4, 3: 4, 4: 5}'"
      ]
     },
     "execution_count": 14,
     "metadata": {},
     "output_type": "execute_result"
    }
   ],
   "source": [
    "f\"verilen dictionary {l}\""
   ]
  },
  {
   "cell_type": "markdown",
   "id": "45e0dcde",
   "metadata": {},
   "source": [
    "+ {} içerisine herhangi bir değer yazılabilir."
   ]
  },
  {
   "cell_type": "code",
   "execution_count": 8,
   "id": "7b3b2b60",
   "metadata": {},
   "outputs": [
    {
     "data": {
      "text/plain": [
       "'verilen isim Büşra'"
      ]
     },
     "execution_count": 8,
     "metadata": {},
     "output_type": "execute_result"
    }
   ],
   "source": [
    "f\"verilen isim {isim.capitalize()}\""
   ]
  },
  {
   "cell_type": "markdown",
   "id": "2474f8e6",
   "metadata": {},
   "source": [
    "+ Süslü parantezin içine fonksiyon da yazabiliriz."
   ]
  },
  {
   "cell_type": "code",
   "execution_count": 15,
   "id": "ab5e25ad",
   "metadata": {},
   "outputs": [],
   "source": [
    "def kare(x):\n",
    "    return x * x"
   ]
  },
  {
   "cell_type": "code",
   "execution_count": 16,
   "id": "02d9103f",
   "metadata": {},
   "outputs": [
    {
     "data": {
      "text/plain": [
       "'10 sayısının karesi 100'"
      ]
     },
     "execution_count": 16,
     "metadata": {},
     "output_type": "execute_result"
    }
   ],
   "source": [
    "x = 10\n",
    "f\"{x} sayısının karesi {kare(x)}\""
   ]
  }
 ],
 "metadata": {
  "kernelspec": {
   "display_name": "Python 3 (ipykernel)",
   "language": "python",
   "name": "python3"
  },
  "language_info": {
   "codemirror_mode": {
    "name": "ipython",
    "version": 3
   },
   "file_extension": ".py",
   "mimetype": "text/x-python",
   "name": "python",
   "nbconvert_exporter": "python",
   "pygments_lexer": "ipython3",
   "version": "3.11.5"
  }
 },
 "nbformat": 4,
 "nbformat_minor": 5
}
