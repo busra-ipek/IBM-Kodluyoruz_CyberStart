{
 "cells": [
  {
   "cell_type": "code",
   "execution_count": 18,
   "id": "23eab661",
   "metadata": {},
   "outputs": [],
   "source": [
    "def square(x):\n",
    "    \n",
    "    res= x*x\n",
    "    \n",
    "    return res"
   ]
  },
  {
   "cell_type": "code",
   "execution_count": 19,
   "id": "1ccc9faa",
   "metadata": {},
   "outputs": [
    {
     "data": {
      "text/plain": [
       "9"
      ]
     },
     "execution_count": 19,
     "metadata": {},
     "output_type": "execute_result"
    }
   ],
   "source": [
    "square(3)"
   ]
  },
  {
   "cell_type": "code",
   "execution_count": 20,
   "id": "ecfe7e37",
   "metadata": {},
   "outputs": [],
   "source": [
    "?square"
   ]
  },
  {
   "cell_type": "code",
   "execution_count": 14,
   "id": "1f34451c",
   "metadata": {},
   "outputs": [],
   "source": [
    "??square"
   ]
  },
  {
   "cell_type": "code",
   "execution_count": 16,
   "id": "25ea9468",
   "metadata": {},
   "outputs": [],
   "source": [
    "def square(x):\n",
    "    \"\"\"\n",
    "    x'in karesini hesaplar.\n",
    "    \"\"\"\n",
    "    return x * x"
   ]
  },
  {
   "cell_type": "code",
   "execution_count": 17,
   "id": "cbfa2a15",
   "metadata": {},
   "outputs": [],
   "source": [
    "?square"
   ]
  },
  {
   "cell_type": "markdown",
   "id": "a3e575e5",
   "metadata": {},
   "source": [
    "+ ?square ifadesi, square fonksiyonu içerisinde yazılan yorum/açıklama satırlarınıı gösterir.\n",
    "\n",
    "+ Herhangi bir yorum satırı yoksa  \"no docstring\"  ifadesini verir."
   ]
  },
  {
   "cell_type": "code",
   "execution_count": 21,
   "id": "3453a707",
   "metadata": {},
   "outputs": [],
   "source": [
    "??square"
   ]
  },
  {
   "cell_type": "markdown",
   "id": "97377f1e",
   "metadata": {},
   "source": [
    "+ ??square ifadesi, square fonksiyonu içerisindeki hem yorum/açıklama satırlarını hem de square fonksiyonunun kaynak kodunu-kodun nasıl yazıldığını gösterir. "
   ]
  }
 ],
 "metadata": {
  "kernelspec": {
   "display_name": "Python 3 (ipykernel)",
   "language": "python",
   "name": "python3"
  },
  "language_info": {
   "codemirror_mode": {
    "name": "ipython",
    "version": 3
   },
   "file_extension": ".py",
   "mimetype": "text/x-python",
   "name": "python",
   "nbconvert_exporter": "python",
   "pygments_lexer": "ipython3",
   "version": "3.11.5"
  }
 },
 "nbformat": 4,
 "nbformat_minor": 5
}
