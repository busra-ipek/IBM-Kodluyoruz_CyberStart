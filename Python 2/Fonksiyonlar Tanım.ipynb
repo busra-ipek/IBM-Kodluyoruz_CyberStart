{
 "cells": [
  {
   "cell_type": "markdown",
   "id": "10a0cc50",
   "metadata": {},
   "source": [
    "# Fonksiyonlar- Functions\n",
    "\n",
    "· Gereksiz kod tekrarından kaçınmak gerekir.\n",
    "\n",
    "· Belirli Fonksiyonalite katan kod bloklarını belirli bir yapı altında tutup, o işleme ihtiyaç duyduğum zaman tekrar tekrar kullanabilen yapılara fonksiyon denir.\n",
    "\n",
    "· Fonksiyonlar kodumuzda abstraction (soyutlama) ve decomposition (problemi küçük parçalara ayırma --> modülerlik) yapmamızı sağlar.\n",
    "\n",
    "# Abstraction\n",
    "\n",
    "Bir araba düşünün:\n",
    "\n",
    "· Araba bizi istediğimiz yere götüren bir araç\n",
    "· Arabanın hareketini sağlayan arka planda çokça mekanizma var\n",
    "· Motor, yanma vs gibi ...\n",
    "· Ama aracı kullanırken bunları hiç düşünmüyoruz, sürmemiz için gerekli olan sadece pedallara basmak ve direksiyonu çevirmek\n",
    "\n",
    "abstraction nın temel mantığı ayrıntılara bakmakdansa bütünü düşünmek. Arabanın nasıl çalıştığının ayrıntısını bilmeme gerek yok arabayı kullanmak için, tek bilmem gereken direksiyon ve pedallar ile nasıl kontrol edebileceğim.\n",
    "\n",
    "Bu mantık yanlış anlaşılmasın. Bu kodun bazı kısımlarını yazmakla ilgilenmeyeceğiz anlamına gelmiyor. İstediğimiz komutlar bütününü bir fonksiyon altında toplayıp (bu örnekte tüm o ateşleme, motorun çalışmasını pedal fonksiyonu altına topladığınızı düşünün), artık o eylemi yapmak istediğim zaman sadece o fonksiyonu çağırıyorum ve bu fonksiyonun yaptığını kullanarak daha komplike davranışlar tanımlıyabiliyorum. Buradaki en önemli nokta, üst üste koyarak inşa\n",
    "ettiğim yapıda yazdığım fonksiyonların ayrıntılarındansa ne yaptıklarını bilip ona göre üzerlerine, onları yapının bir parçası olarak görerek mantık kurmak.\n",
    "\n",
    "Özet olarak: fonksiyonun o işi nasıl yaptığıyla ne yaptığını ayırmak ve ne yaptığına odaklanıp onun üzerine mantık kurmak.\n",
    "\n",
    "# Decomposition \n",
    "\n",
    "+ Elindeki problemi kendi içerisinde anlamlı, daha küçük problemlere bölmek. Birden çok altyapı bir arada çalışıp daha büyük bir sistem oluşturur.\n"
   ]
  }
 ],
 "metadata": {
  "kernelspec": {
   "display_name": "Python 3 (ipykernel)",
   "language": "python",
   "name": "python3"
  },
  "language_info": {
   "codemirror_mode": {
    "name": "ipython",
    "version": 3
   },
   "file_extension": ".py",
   "mimetype": "text/x-python",
   "name": "python",
   "nbconvert_exporter": "python",
   "pygments_lexer": "ipython3",
   "version": "3.11.5"
  }
 },
 "nbformat": 4,
 "nbformat_minor": 5
}
