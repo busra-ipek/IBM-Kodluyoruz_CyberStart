{
 "cells": [
  {
   "cell_type": "code",
   "execution_count": 2,
   "id": "762d6d5c",
   "metadata": {
    "collapsed": true
   },
   "outputs": [
    {
     "data": {
      "text/plain": [
       "'\\nhello fonksiyonu 2 parametre alır. Aldığı 1.parametre end değişkenine denktir.\\nstart = hello --> start ifadesi herhangi bir şey belirtilmediği\\nsürece hep hello olarak alınır.\\n'"
      ]
     },
     "execution_count": 2,
     "metadata": {},
     "output_type": "execute_result"
    }
   ],
   "source": [
    "def hello(end, start = \"Hello\"):\n",
    "    \n",
    "    print(start + \" \" + end)\n",
    "    \n",
    "\"\"\"\n",
    "hello fonksiyonu 2 parametre alır. Aldığı 1.parametre end değişkenine denktir.\n",
    "start = hello --> start ifadesi herhangi bir şey belirtilmediği\n",
    "sürece hep hello olarak alınır.\n",
    "\"\"\""
   ]
  },
  {
   "cell_type": "code",
   "execution_count": 3,
   "id": "d957c367",
   "metadata": {},
   "outputs": [
    {
     "name": "stdout",
     "output_type": "stream",
     "text": [
      "Hello Denis\n"
     ]
    }
   ],
   "source": [
    "hello(\"Denis\")"
   ]
  },
  {
   "cell_type": "code",
   "execution_count": 10,
   "id": "5ef2d41b",
   "metadata": {},
   "outputs": [
    {
     "name": "stdout",
     "output_type": "stream",
     "text": [
      "Hey Denis\n"
     ]
    }
   ],
   "source": [
    "hello(\"Denis\", start = \"Hey\")\n",
    "\n",
    "# start ifadesini özellikle belirttiğimiz için hello yerine Hey yazılır."
   ]
  },
  {
   "cell_type": "code",
   "execution_count": 5,
   "id": "efef8a68",
   "metadata": {},
   "outputs": [
    {
     "name": "stdout",
     "output_type": "stream",
     "text": [
      "Hey Denis\n"
     ]
    }
   ],
   "source": [
    "hello(\"Denis\", \"Hey\")\n",
    "\n",
    "\"\"\"\n",
    "start diye yazmamıza gerek yoktur, ikinci parametreyi girdiğimiz\n",
    "için start değeri zaten değişmiş olur.\n",
    "\"\"\""
   ]
  },
  {
   "cell_type": "code",
   "execution_count": 6,
   "id": "52cd9d71",
   "metadata": {},
   "outputs": [
    {
     "name": "stdout",
     "output_type": "stream",
     "text": [
      "Hello Denis\n"
     ]
    }
   ],
   "source": [
    "hello(\"Denis\")"
   ]
  },
  {
   "cell_type": "code",
   "execution_count": 11,
   "id": "7ae908ab",
   "metadata": {},
   "outputs": [],
   "source": [
    "def power(x, y=1):\n",
    "    \n",
    "    return x ** y\n",
    "\n",
    "# y değeri belirtilmediği sürece fonksiyonun 2.parametresi 1 olur."
   ]
  },
  {
   "cell_type": "code",
   "execution_count": 12,
   "id": "284bd976",
   "metadata": {},
   "outputs": [
    {
     "data": {
      "text/plain": [
       "3"
      ]
     },
     "execution_count": 12,
     "metadata": {},
     "output_type": "execute_result"
    }
   ],
   "source": [
    "power(3)  # power(3,1)' e denk olmuş olur."
   ]
  },
  {
   "cell_type": "code",
   "execution_count": 9,
   "id": "6a23fe88",
   "metadata": {},
   "outputs": [
    {
     "data": {
      "text/plain": [
       "16"
      ]
     },
     "execution_count": 9,
     "metadata": {},
     "output_type": "execute_result"
    }
   ],
   "source": [
    "power(4,2)"
   ]
  },
  {
   "cell_type": "markdown",
   "id": "64aba9fb",
   "metadata": {},
   "source": [
    "\n",
    "+ Predefined değerleri (Parametre girilmedikçe tanımlanmış olan değerler)  kullanılacak olan fonksiyonda predefined olarak vereceğimiz parametreleri en sona yazmalıyız yoksa error verir... "
   ]
  },
  {
   "cell_type": "code",
   "execution_count": 13,
   "id": "9ccf4c44",
   "metadata": {
    "collapsed": true
   },
   "outputs": [
    {
     "ename": "SyntaxError",
     "evalue": "non-default argument follows default argument (1697924448.py, line 1)",
     "output_type": "error",
     "traceback": [
      "\u001b[1;36m  Cell \u001b[1;32mIn[13], line 1\u001b[1;36m\u001b[0m\n\u001b[1;33m    def hello(start=\"Hello\", end):\u001b[0m\n\u001b[1;37m                             ^\u001b[0m\n\u001b[1;31mSyntaxError\u001b[0m\u001b[1;31m:\u001b[0m non-default argument follows default argument\n"
     ]
    }
   ],
   "source": [
    "def hello(start=\"Hello\", end):\n",
    "    \n",
    "    print(start + end)"
   ]
  },
  {
   "cell_type": "markdown",
   "id": "669f6645",
   "metadata": {},
   "source": [
    "+ Birden fazla predifined parametre kullanabiliriz."
   ]
  },
  {
   "cell_type": "code",
   "execution_count": 14,
   "id": "223fa6d0",
   "metadata": {},
   "outputs": [],
   "source": [
    "def f(x, y=1, z=2):\n",
    "    \n",
    "    return x + y + z"
   ]
  },
  {
   "cell_type": "code",
   "execution_count": 15,
   "id": "d8c717d6",
   "metadata": {},
   "outputs": [
    {
     "data": {
      "text/plain": [
       "5"
      ]
     },
     "execution_count": 15,
     "metadata": {},
     "output_type": "execute_result"
    }
   ],
   "source": [
    "f(2)"
   ]
  },
  {
   "cell_type": "code",
   "execution_count": 16,
   "id": "64d49aae",
   "metadata": {},
   "outputs": [
    {
     "data": {
      "text/plain": [
       "9"
      ]
     },
     "execution_count": 16,
     "metadata": {},
     "output_type": "execute_result"
    }
   ],
   "source": [
    "f(2,5)"
   ]
  },
  {
   "cell_type": "code",
   "execution_count": 17,
   "id": "9361e959",
   "metadata": {},
   "outputs": [
    {
     "data": {
      "text/plain": [
       "13"
      ]
     },
     "execution_count": 17,
     "metadata": {},
     "output_type": "execute_result"
    }
   ],
   "source": [
    "f(2,4,7)"
   ]
  }
 ],
 "metadata": {
  "kernelspec": {
   "display_name": "Python 3 (ipykernel)",
   "language": "python",
   "name": "python3"
  },
  "language_info": {
   "codemirror_mode": {
    "name": "ipython",
    "version": 3
   },
   "file_extension": ".py",
   "mimetype": "text/x-python",
   "name": "python",
   "nbconvert_exporter": "python",
   "pygments_lexer": "ipython3",
   "version": "3.11.5"
  }
 },
 "nbformat": 4,
 "nbformat_minor": 5
}
