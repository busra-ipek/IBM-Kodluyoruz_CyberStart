{
 "cells": [
  {
   "cell_type": "markdown",
   "id": "6ae49a16",
   "metadata": {},
   "source": [
    "# List\n",
    "\n",
    "+ Elimizdeki verileri gruplamak iççin kullanılır.\n",
    "\n",
    "+ Birden çok veriyi gruplayıp bir arada tutmak istediğimizde list yapısını kullanırız.\n",
    "\n",
    "+ list'ler tanımlanırken köşeli parantez kullanarak tanımlanır. list'ler  içsel yapı içerdiklerinden non-scalar vaeri tipidir.\n",
    "\n",
    "+ list elemanları arasına \" , \" konulur. "
   ]
  },
  {
   "cell_type": "code",
   "execution_count": 1,
   "id": "f1cc8a92",
   "metadata": {},
   "outputs": [],
   "source": [
    "#Buradaki tüm öğrenci notları bir list yapısında gösterebiliriz.\n",
    "ogrenci_1=67\n",
    "ogrenci_2=89\n",
    "ogrenci_3=97\n",
    "ogrenci_4=54\n",
    "ogrenci_5=47"
   ]
  },
  {
   "cell_type": "code",
   "execution_count": 2,
   "id": "a211fba4",
   "metadata": {},
   "outputs": [],
   "source": [
    "notlar=[67,89,97,54,47]"
   ]
  },
  {
   "cell_type": "code",
   "execution_count": 3,
   "id": "930f4495",
   "metadata": {},
   "outputs": [],
   "source": [
    "#Ya da aşağıdaki gibi de bir list yapısı oluşturulabilir. \n",
    "notlar=[ogrenci_1, ogrenci_2, ogrenci_3, ogrenci_4, ogrenci_5]"
   ]
  },
  {
   "cell_type": "markdown",
   "id": "bee9bfc2",
   "metadata": {},
   "source": [
    "\n",
    "+ Stringlerde karakterlere index numaralarıyla bakabildiğimiz gibi list'lerde de index numarasıyla elemanlr çağrılabilir.\n"
   ]
  },
  {
   "cell_type": "code",
   "execution_count": 4,
   "id": "f2a4cafe",
   "metadata": {},
   "outputs": [
    {
     "data": {
      "text/plain": [
       "67"
      ]
     },
     "execution_count": 4,
     "metadata": {},
     "output_type": "execute_result"
    }
   ],
   "source": [
    "#notlar listesinin ilk elemanına ulaşmak için\n",
    "notlar[0]"
   ]
  },
  {
   "cell_type": "markdown",
   "id": "7c4f0cb9",
   "metadata": {},
   "source": [
    "\n",
    "+ list ypısının içine istediğin veri tipinde eleman koyabilirsin. Çünkü listelerin tek yaptığı şey iççine koyulan elemanları bir arda tutmak.Elemanlar int, float, string hatta list' den bile oluşabilir."
   ]
  },
  {
   "cell_type": "code",
   "execution_count": 6,
   "id": "a478336f",
   "metadata": {
    "scrolled": true
   },
   "outputs": [
    {
     "data": {
      "text/plain": [
       "['a', 'b']"
      ]
     },
     "execution_count": 6,
     "metadata": {},
     "output_type": "execute_result"
    }
   ],
   "source": [
    "[\"a\",\"b\"]"
   ]
  },
  {
   "cell_type": "code",
   "execution_count": 7,
   "id": "4395ed99",
   "metadata": {},
   "outputs": [
    {
     "data": {
      "text/plain": [
       "[True, False]"
      ]
     },
     "execution_count": 7,
     "metadata": {},
     "output_type": "execute_result"
    }
   ],
   "source": [
    "[True, False]"
   ]
  },
  {
   "cell_type": "code",
   "execution_count": 8,
   "id": "78e20745",
   "metadata": {},
   "outputs": [
    {
     "data": {
      "text/plain": [
       "[[1, 2], [3, 4, 5]]"
      ]
     },
     "execution_count": 8,
     "metadata": {},
     "output_type": "execute_result"
    }
   ],
   "source": [
    "[[1,2], [3,4,5]]"
   ]
  },
  {
   "cell_type": "markdown",
   "id": "6394fc82",
   "metadata": {},
   "source": [
    "\n",
    "+ Aynı list' in içine farklı veri tipinde elamanlar karışık olarak koyulabilir.\n"
   ]
  },
  {
   "cell_type": "code",
   "execution_count": 9,
   "id": "c33feec3",
   "metadata": {},
   "outputs": [],
   "source": [
    "list_1=[1,2, \"a\", \"b\", True, 4.75, [1,2,3]]"
   ]
  },
  {
   "cell_type": "code",
   "execution_count": 10,
   "id": "8c36428d",
   "metadata": {},
   "outputs": [
    {
     "data": {
      "text/plain": [
       "[1, 2, 'a', 'b', True, 4.75, [1, 2, 3]]"
      ]
     },
     "execution_count": 10,
     "metadata": {},
     "output_type": "execute_result"
    }
   ],
   "source": [
    "list_1"
   ]
  },
  {
   "cell_type": "markdown",
   "id": "51199596",
   "metadata": {},
   "source": [
    "# Indexing and Slicing\n",
    "\n",
    "\n",
    "+ String konusunda yaptığımız indexleme ve sliciling mantığı  listler için de geçerlidir."
   ]
  },
  {
   "cell_type": "code",
   "execution_count": 11,
   "id": "a393b3e4",
   "metadata": {},
   "outputs": [
    {
     "data": {
      "text/plain": [
       "[67, 89, 97, 54, 47]"
      ]
     },
     "execution_count": 11,
     "metadata": {},
     "output_type": "execute_result"
    }
   ],
   "source": [
    "notlar"
   ]
  },
  {
   "cell_type": "code",
   "execution_count": 12,
   "id": "75940dfd",
   "metadata": {},
   "outputs": [
    {
     "data": {
      "text/plain": [
       "89"
      ]
     },
     "execution_count": 12,
     "metadata": {},
     "output_type": "execute_result"
    }
   ],
   "source": [
    "notlar[1]"
   ]
  },
  {
   "cell_type": "code",
   "execution_count": 13,
   "id": "a895c786",
   "metadata": {},
   "outputs": [
    {
     "data": {
      "text/plain": [
       "47"
      ]
     },
     "execution_count": 13,
     "metadata": {},
     "output_type": "execute_result"
    }
   ],
   "source": [
    "notlar[-1]"
   ]
  },
  {
   "cell_type": "code",
   "execution_count": null,
   "id": "aa599903",
   "metadata": {},
   "outputs": [],
   "source": [
    "notlar[10]"
   ]
  },
  {
   "cell_type": "code",
   "execution_count": 14,
   "id": "684bfdf1",
   "metadata": {},
   "outputs": [
    {
     "data": {
      "text/plain": [
       "[89, 97, 54, 47]"
      ]
     },
     "execution_count": 14,
     "metadata": {},
     "output_type": "execute_result"
    }
   ],
   "source": [
    "notlar[1:]"
   ]
  },
  {
   "cell_type": "code",
   "execution_count": 15,
   "id": "5f537d7e",
   "metadata": {},
   "outputs": [
    {
     "data": {
      "text/plain": [
       "[89, 97]"
      ]
     },
     "execution_count": 15,
     "metadata": {},
     "output_type": "execute_result"
    }
   ],
   "source": [
    "notlar[1:3]"
   ]
  },
  {
   "cell_type": "code",
   "execution_count": 16,
   "id": "fad838a7",
   "metadata": {},
   "outputs": [
    {
     "data": {
      "text/plain": [
       "[67, 89, 97, 54, 47]"
      ]
     },
     "execution_count": 16,
     "metadata": {},
     "output_type": "execute_result"
    }
   ],
   "source": [
    "notlar[:200]"
   ]
  },
  {
   "cell_type": "code",
   "execution_count": 17,
   "id": "39f8b8a0",
   "metadata": {},
   "outputs": [
    {
     "data": {
      "text/plain": [
       "[67, 97, 47]"
      ]
     },
     "execution_count": 17,
     "metadata": {},
     "output_type": "execute_result"
    }
   ],
   "source": [
    "notlar[0:10:2]"
   ]
  },
  {
   "cell_type": "markdown",
   "id": "8c3dc6b9",
   "metadata": {},
   "source": [
    "# Listlerde Eleman Değiştirme\n",
    "\n",
    "+ Stringlerde elemanlar değiştirilemezdi, ımmutable oldukları için.\n",
    "\n",
    "+ Listler mutable veri tipleridir. Yani elemanlar değiştirebilir değerlere sahiptirler.\n"
   ]
  },
  {
   "cell_type": "code",
   "execution_count": 18,
   "id": "f51f5468",
   "metadata": {},
   "outputs": [
    {
     "data": {
      "text/plain": [
       "[67, 89, 97, 54, 47]"
      ]
     },
     "execution_count": 18,
     "metadata": {},
     "output_type": "execute_result"
    }
   ],
   "source": [
    "notlar"
   ]
  },
  {
   "cell_type": "markdown",
   "id": "1f63fb5b",
   "metadata": {},
   "source": [
    "\n",
    "+ İkinci öğrencinin notunu 5 puan arttırmak istiyorsak\n"
   ]
  },
  {
   "cell_type": "code",
   "execution_count": 19,
   "id": "f290c527",
   "metadata": {},
   "outputs": [],
   "source": [
    "notlar[1] += 5    #notlar[1]=notlar[1] + 5"
   ]
  },
  {
   "cell_type": "code",
   "execution_count": 20,
   "id": "5d60cc40",
   "metadata": {},
   "outputs": [
    {
     "data": {
      "text/plain": [
       "[67, 94, 97, 54, 47]"
      ]
     },
     "execution_count": 20,
     "metadata": {},
     "output_type": "execute_result"
    }
   ],
   "source": [
    "notlar"
   ]
  },
  {
   "cell_type": "markdown",
   "id": "95142c05",
   "metadata": {},
   "source": [
    "\n",
    "+ Birden çok elemanı da değiştirebiliriz.\n"
   ]
  },
  {
   "cell_type": "code",
   "execution_count": 22,
   "id": "47cf73cf",
   "metadata": {},
   "outputs": [],
   "source": [
    "liste_2 = [1,2,3,4]"
   ]
  },
  {
   "cell_type": "code",
   "execution_count": 23,
   "id": "0950aa1f",
   "metadata": {},
   "outputs": [
    {
     "data": {
      "text/plain": [
       "[1, 2, 3]"
      ]
     },
     "execution_count": 23,
     "metadata": {},
     "output_type": "execute_result"
    }
   ],
   "source": [
    "liste_2[0:3]"
   ]
  },
  {
   "cell_type": "code",
   "execution_count": 24,
   "id": "73cf759f",
   "metadata": {},
   "outputs": [],
   "source": [
    "liste_2[0:3]= 10,20,30\n",
    "\n",
    "#Listenin 0,1 ve 2. elemanları sırasıyla 10,20 ve 30 değerleriyle değiştirilir."
   ]
  },
  {
   "cell_type": "code",
   "execution_count": 25,
   "id": "0611c69c",
   "metadata": {},
   "outputs": [
    {
     "data": {
      "text/plain": [
       "[10, 20, 30, 4]"
      ]
     },
     "execution_count": 25,
     "metadata": {},
     "output_type": "execute_result"
    }
   ],
   "source": [
    "liste_2"
   ]
  },
  {
   "cell_type": "markdown",
   "id": "8a121ccb",
   "metadata": {},
   "source": [
    "+Değiştirmek için eşit sayıda eleman verilmesi gerekmez.Yani ben listenin 4 elemanının değerini değiştirmek istiyorum. Fakat karşı tarafına 2 yeni değer yazdım. O zaman listenin ilk elemanının değeri değiştirilir ve listenin eleman sayısı 2 olmuş olur.\n",
    "\n"
   ]
  },
  {
   "cell_type": "code",
   "execution_count": 27,
   "id": "5e668699",
   "metadata": {},
   "outputs": [],
   "source": [
    "sayı=[11,22,33,44]"
   ]
  },
  {
   "cell_type": "code",
   "execution_count": 28,
   "id": "22ba4395",
   "metadata": {},
   "outputs": [],
   "source": [
    "sayı[0:len(sayı)]= 15,30"
   ]
  },
  {
   "cell_type": "code",
   "execution_count": 29,
   "id": "87d8b0f5",
   "metadata": {},
   "outputs": [
    {
     "data": {
      "text/plain": [
       "[15, 30]"
      ]
     },
     "execution_count": 29,
     "metadata": {},
     "output_type": "execute_result"
    }
   ],
   "source": [
    "sayı"
   ]
  },
  {
   "cell_type": "code",
   "execution_count": 40,
   "id": "e1830d77",
   "metadata": {},
   "outputs": [],
   "source": [
    "liste_2[0:4]=100,200"
   ]
  },
  {
   "cell_type": "code",
   "execution_count": 41,
   "id": "098c823d",
   "metadata": {},
   "outputs": [
    {
     "data": {
      "text/plain": [
       "[100, 200]"
      ]
     },
     "execution_count": 41,
     "metadata": {},
     "output_type": "execute_result"
    }
   ],
   "source": [
    "liste_2"
   ]
  },
  {
   "cell_type": "code",
   "execution_count": 42,
   "id": "e22eebca",
   "metadata": {},
   "outputs": [],
   "source": [
    "liste_2=[1,2,3,4]"
   ]
  },
  {
   "cell_type": "code",
   "execution_count": 43,
   "id": "54110f59",
   "metadata": {
    "collapsed": true
   },
   "outputs": [
    {
     "ename": "TypeError",
     "evalue": "can only assign an iterable",
     "output_type": "error",
     "traceback": [
      "\u001b[1;31m---------------------------------------------------------------------------\u001b[0m",
      "\u001b[1;31mTypeError\u001b[0m                                 Traceback (most recent call last)",
      "Cell \u001b[1;32mIn[43], line 1\u001b[0m\n\u001b[1;32m----> 1\u001b[0m liste_2[\u001b[38;5;241m0\u001b[39m:\u001b[38;5;241m3\u001b[39m]\u001b[38;5;241m=\u001b[39m\u001b[38;5;241m30\u001b[39m\n",
      "\u001b[1;31mTypeError\u001b[0m: can only assign an iterable"
     ]
    }
   ],
   "source": [
    "liste_2[0:3]=30\n",
    "#Hata verir."
   ]
  },
  {
   "cell_type": "markdown",
   "id": "e493cf45",
   "metadata": {},
   "source": [
    "\n",
    "+ Slicing sonunda tek bir değer yazacaksak yani tüm liste tek bir değerden oluşacaksa verilecek değer [] içerisinde verilmelidir.\n"
   ]
  },
  {
   "cell_type": "code",
   "execution_count": 45,
   "id": "1e19b847",
   "metadata": {},
   "outputs": [],
   "source": [
    "liste_2[0:3]=[30]"
   ]
  },
  {
   "cell_type": "code",
   "execution_count": 46,
   "id": "06b5cf90",
   "metadata": {},
   "outputs": [
    {
     "data": {
      "text/plain": [
       "[30, 4]"
      ]
     },
     "execution_count": 46,
     "metadata": {},
     "output_type": "execute_result"
    }
   ],
   "source": [
    "liste_2"
   ]
  },
  {
   "cell_type": "markdown",
   "id": "ae884127",
   "metadata": {},
   "source": [
    "# len()\n",
    "\n",
    "+ Listenin kaç elemandan oluştuğunu verir.\n"
   ]
  },
  {
   "cell_type": "code",
   "execution_count": 47,
   "id": "05d235d1",
   "metadata": {},
   "outputs": [
    {
     "data": {
      "text/plain": [
       "[30, 4]"
      ]
     },
     "execution_count": 47,
     "metadata": {},
     "output_type": "execute_result"
    }
   ],
   "source": [
    "liste_2"
   ]
  },
  {
   "cell_type": "code",
   "execution_count": 48,
   "id": "cfff731d",
   "metadata": {},
   "outputs": [
    {
     "data": {
      "text/plain": [
       "2"
      ]
     },
     "execution_count": 48,
     "metadata": {},
     "output_type": "execute_result"
    }
   ],
   "source": [
    "len(liste_2)"
   ]
  },
  {
   "cell_type": "code",
   "execution_count": 49,
   "id": "00fc2fa1",
   "metadata": {},
   "outputs": [],
   "source": [
    "s=\"hello\""
   ]
  },
  {
   "cell_type": "code",
   "execution_count": 50,
   "id": "c8eb34a5",
   "metadata": {},
   "outputs": [
    {
     "data": {
      "text/plain": [
       "5"
      ]
     },
     "execution_count": 50,
     "metadata": {},
     "output_type": "execute_result"
    }
   ],
   "source": [
    "len(s)"
   ]
  },
  {
   "cell_type": "markdown",
   "id": "b94d6afc",
   "metadata": {},
   "source": [
    "# List' in sonuna eleman ekleme\n",
    "\n",
    "+ append(): İçine yazılan elemanı listenin sonuna ekler. Sadece 1 eleman ekler.\n",
    "\n",
    "+ extend(): İçine yazılan birden çok elemanı listenin sonuna ekler.Elemanlar köşeli parantez içine yazılmalıdır.\n"
   ]
  },
  {
   "cell_type": "code",
   "execution_count": 62,
   "id": "38926c80",
   "metadata": {},
   "outputs": [],
   "source": [
    "liste=[1,2,3]"
   ]
  },
  {
   "cell_type": "code",
   "execution_count": 64,
   "id": "0b0a2205",
   "metadata": {},
   "outputs": [],
   "source": [
    "liste.append(200)\n",
    "#Listenin son elemanı 200 olur."
   ]
  },
  {
   "cell_type": "code",
   "execution_count": 65,
   "id": "6d1546fb",
   "metadata": {},
   "outputs": [
    {
     "data": {
      "text/plain": [
       "[1, 2, 3, 200]"
      ]
     },
     "execution_count": 65,
     "metadata": {},
     "output_type": "execute_result"
    }
   ],
   "source": [
    "liste"
   ]
  },
  {
   "cell_type": "code",
   "execution_count": 66,
   "id": "4e51ab4c",
   "metadata": {},
   "outputs": [],
   "source": [
    "liste=[1,2,3]"
   ]
  },
  {
   "cell_type": "code",
   "execution_count": 68,
   "id": "4daaaf21",
   "metadata": {},
   "outputs": [],
   "source": [
    "liste.extend([100,200,300])"
   ]
  },
  {
   "cell_type": "code",
   "execution_count": 69,
   "id": "4497e9b4",
   "metadata": {},
   "outputs": [
    {
     "data": {
      "text/plain": [
       "[1, 2, 3, 100, 200, 300]"
      ]
     },
     "execution_count": 69,
     "metadata": {},
     "output_type": "execute_result"
    }
   ],
   "source": [
    "liste"
   ]
  },
  {
   "cell_type": "markdown",
   "id": "3c308e0e",
   "metadata": {},
   "source": [
    "\n",
    "# Spesifik bir indexe eleman ekleme\n",
    "\n",
    "+ insert(): List'in sonuna veya başına değil istediğin numaralı indexe istediğin bir değeri eklemek istediğinde bu metot kullanılır.\n",
    "\n",
    "+ Belirli bir indexe değer eklediğinde o indexdeki ve sonrasındaki elemanlar sağa doğru kayar yani onların indexleri 1 artmış olur.\n"
   ]
  },
  {
   "cell_type": "code",
   "execution_count": 70,
   "id": "cf544708",
   "metadata": {},
   "outputs": [],
   "source": [
    "liste=[1,2,3,4,5]"
   ]
  },
  {
   "cell_type": "code",
   "execution_count": 71,
   "id": "7609302d",
   "metadata": {},
   "outputs": [],
   "source": [
    "liste[0]=100\n",
    "# Bu ifade  0 numaralı indexe sahip olan değeri 100 değeri ile değiştirir."
   ]
  },
  {
   "cell_type": "code",
   "execution_count": 72,
   "id": "95bbbac9",
   "metadata": {},
   "outputs": [
    {
     "data": {
      "text/plain": [
       "[100, 2, 3, 4, 5]"
      ]
     },
     "execution_count": 72,
     "metadata": {},
     "output_type": "execute_result"
    }
   ],
   "source": [
    "liste"
   ]
  },
  {
   "cell_type": "code",
   "execution_count": 73,
   "id": "309d8946",
   "metadata": {},
   "outputs": [],
   "source": [
    "#inser() metotu ise listeden eleman silmez, istenilen indexe o değeri ekler.\n",
    "liste.insert(3,44)"
   ]
  },
  {
   "cell_type": "code",
   "execution_count": 74,
   "id": "58480f02",
   "metadata": {},
   "outputs": [
    {
     "data": {
      "text/plain": [
       "[100, 2, 3, 44, 4, 5]"
      ]
     },
     "execution_count": 74,
     "metadata": {},
     "output_type": "execute_result"
    }
   ],
   "source": [
    "liste"
   ]
  },
  {
   "cell_type": "markdown",
   "id": "26601ae1",
   "metadata": {},
   "source": [
    "# remove() metotu\n",
    "\n",
    "+ Belirli bir elemanı listeden silmemizi sağlar. İstenen eleman listede yoksa error verir.\n",
    "\n",
    "+ Error verme sorunun try-expect ile çözebiliriz.\n"
   ]
  },
  {
   "cell_type": "code",
   "execution_count": null,
   "id": "ec7dc800",
   "metadata": {},
   "outputs": [],
   "source": [
    "\"\"\"\n",
    "     try:\n",
    "        liste.remove(40)\n",
    "     expect ValueError:\n",
    "        pass\n",
    "\"\"\""
   ]
  },
  {
   "cell_type": "markdown",
   "id": "806df778",
   "metadata": {},
   "source": [
    "\n",
    "+ remove() metodu sadece ilk gördüğü değeri siler. Yani listede\n",
    "birden fazla aynı değer varsa en küçük indexe sahip olanı\n",
    "silecektir.\n"
   ]
  },
  {
   "cell_type": "code",
   "execution_count": 78,
   "id": "34ed729b",
   "metadata": {},
   "outputs": [],
   "source": [
    "liste=[1,2,3,4]"
   ]
  },
  {
   "cell_type": "code",
   "execution_count": 80,
   "id": "1efc334b",
   "metadata": {
    "collapsed": true
   },
   "outputs": [
    {
     "ename": "ValueError",
     "evalue": "list.remove(x): x not in list",
     "output_type": "error",
     "traceback": [
      "\u001b[1;31m---------------------------------------------------------------------------\u001b[0m",
      "\u001b[1;31mValueError\u001b[0m                                Traceback (most recent call last)",
      "Cell \u001b[1;32mIn[80], line 1\u001b[0m\n\u001b[1;32m----> 1\u001b[0m liste\u001b[38;5;241m.\u001b[39mremove(\u001b[38;5;241m40\u001b[39m)\n",
      "\u001b[1;31mValueError\u001b[0m: list.remove(x): x not in list"
     ]
    }
   ],
   "source": [
    "liste.remove(40)\n",
    "# 40 değeri listede yoktur, hata verir."
   ]
  },
  {
   "cell_type": "code",
   "execution_count": 86,
   "id": "df5eae85",
   "metadata": {},
   "outputs": [],
   "source": [
    "liste=[1,2,3,4,40,30,40]"
   ]
  },
  {
   "cell_type": "code",
   "execution_count": 88,
   "id": "b6750668",
   "metadata": {},
   "outputs": [],
   "source": [
    "liste.remove(40)\n",
    "# 4. indexde ki 40 değerini siler."
   ]
  },
  {
   "cell_type": "code",
   "execution_count": 89,
   "id": "cd311164",
   "metadata": {},
   "outputs": [
    {
     "data": {
      "text/plain": [
       "[1, 2, 3, 4, 30, 40]"
      ]
     },
     "execution_count": 89,
     "metadata": {},
     "output_type": "execute_result"
    }
   ],
   "source": [
    "liste"
   ]
  },
  {
   "cell_type": "markdown",
   "id": "64212be5",
   "metadata": {},
   "source": [
    "\n",
    "# pop() \n",
    "\n",
    "+ Listede belirli indexdeki elemanı silmeye ve o değeri döndürmeye yarayan metottur.\n",
    "\n",
    "+ remove() sadece siler, pop() hem siler hem de o değeri döndürür.\n"
   ]
  },
  {
   "cell_type": "code",
   "execution_count": 91,
   "id": "67dc1490",
   "metadata": {},
   "outputs": [],
   "source": [
    "liste=[1,2,3,4,5,6]"
   ]
  },
  {
   "cell_type": "code",
   "execution_count": 92,
   "id": "adf5fed2",
   "metadata": {},
   "outputs": [
    {
     "data": {
      "text/plain": [
       "2"
      ]
     },
     "execution_count": 92,
     "metadata": {},
     "output_type": "execute_result"
    }
   ],
   "source": [
    "liste.pop(1)\n",
    "\n",
    "#Listeden 1 indexe sahip olan elemanı siler ve onu çıktı olarak gösterir."
   ]
  },
  {
   "cell_type": "code",
   "execution_count": 93,
   "id": "c279c5cc",
   "metadata": {},
   "outputs": [
    {
     "data": {
      "text/plain": [
       "[1, 3, 4, 5, 6]"
      ]
     },
     "execution_count": 93,
     "metadata": {},
     "output_type": "execute_result"
    }
   ],
   "source": [
    "liste"
   ]
  },
  {
   "cell_type": "code",
   "execution_count": 94,
   "id": "cd20ff89",
   "metadata": {},
   "outputs": [],
   "source": [
    "liste=[1,2,3,4,5,6]"
   ]
  },
  {
   "cell_type": "code",
   "execution_count": 95,
   "id": "a823d675",
   "metadata": {},
   "outputs": [
    {
     "data": {
      "text/plain": [
       "6"
      ]
     },
     "execution_count": 95,
     "metadata": {},
     "output_type": "execute_result"
    }
   ],
   "source": [
    "liste.pop(1) + 4\n",
    "# int bir değer çıkar çünkü pop sileceği çelemanı döndürür."
   ]
  },
  {
   "cell_type": "code",
   "execution_count": 96,
   "id": "3df78171",
   "metadata": {},
   "outputs": [
    {
     "data": {
      "text/plain": [
       "[1, 3, 4, 5, 6]"
      ]
     },
     "execution_count": 96,
     "metadata": {},
     "output_type": "execute_result"
    }
   ],
   "source": [
    "liste"
   ]
  },
  {
   "cell_type": "code",
   "execution_count": 97,
   "id": "f490283e",
   "metadata": {
    "collapsed": true
   },
   "outputs": [
    {
     "ename": "IndexError",
     "evalue": "pop index out of range",
     "output_type": "error",
     "traceback": [
      "\u001b[1;31m---------------------------------------------------------------------------\u001b[0m",
      "\u001b[1;31mIndexError\u001b[0m                                Traceback (most recent call last)",
      "Cell \u001b[1;32mIn[97], line 1\u001b[0m\n\u001b[1;32m----> 1\u001b[0m liste\u001b[38;5;241m.\u001b[39mpop(\u001b[38;5;241m100\u001b[39m)\n",
      "\u001b[1;31mIndexError\u001b[0m: pop index out of range"
     ]
    }
   ],
   "source": [
    "liste.pop(100)\n",
    "\n",
    "# error verir 100 indexe sahip eleman olmadığı için."
   ]
  },
  {
   "cell_type": "markdown",
   "id": "893e7a4f",
   "metadata": {},
   "source": [
    "# count()\n",
    "\n",
    "+ count(): İçine yazılan değerin listede kaç adet olduğunu gösterir."
   ]
  },
  {
   "cell_type": "code",
   "execution_count": 100,
   "id": "d313c11d",
   "metadata": {},
   "outputs": [],
   "source": [
    "liste=[1,2,45,4,5,7,1]"
   ]
  },
  {
   "cell_type": "code",
   "execution_count": 101,
   "id": "8d73f479",
   "metadata": {},
   "outputs": [
    {
     "data": {
      "text/plain": [
       "2"
      ]
     },
     "execution_count": 101,
     "metadata": {},
     "output_type": "execute_result"
    }
   ],
   "source": [
    "liste.count(1)"
   ]
  },
  {
   "cell_type": "code",
   "execution_count": 103,
   "id": "6fd9e18d",
   "metadata": {},
   "outputs": [
    {
     "data": {
      "text/plain": [
       "1"
      ]
     },
     "execution_count": 103,
     "metadata": {},
     "output_type": "execute_result"
    }
   ],
   "source": [
    "liste.count(45)"
   ]
  },
  {
   "cell_type": "code",
   "execution_count": 104,
   "id": "9be3681a",
   "metadata": {},
   "outputs": [
    {
     "data": {
      "text/plain": [
       "0"
      ]
     },
     "execution_count": 104,
     "metadata": {},
     "output_type": "execute_result"
    }
   ],
   "source": [
    "liste.count(100)"
   ]
  },
  {
   "attachments": {
    "Ekran%20g%C3%B6r%C3%BCnt%C3%BCs%C3%BC%202024-04-28%20210230.png": {
     "image/png": "[encoded data removed]"
    }
   },
   "cell_type": "markdown",
   "id": "bfe6b10f",
   "metadata": {},
   "source": [
    "\n",
    "# Aliasing\n",
    "\n",
    "+ Listeler bilgisayarın hafızasında int, float gibi veri tiplerinin tutulma şeklinden biraz daha farklı tutulur.\n",
    "\n",
    "+ a=7 dediğimiz zaman hafızada a adında bir kutucuk oluşturulur.\n",
    "\n",
    "![Ekran%20g%C3%B6r%C3%BCnt%C3%BCs%C3%BC%202024-04-28%20210230.png](attachment:Ekran%20g%C3%B6r%C3%BCnt%C3%BCs%C3%BC%202024-04-28%20210230.png)\n",
    "\n",
    "+ a hafızada direkt o kutucuğun adı olur.\n",
    "\n",
    "+ Fakat listelerde durum böyle değil. b=[1,2,3] adında bir liste oluşturalım. Burada b kutunun adı değil , kutuyu işaret eden etiketin adı olur.\n",
    " "
   ]
  },
  {
   "cell_type": "code",
   "execution_count": 116,
   "id": "65048e5d",
   "metadata": {},
   "outputs": [],
   "source": [
    "# Kutunun adı değişkenin adıyla aynı olduğu zaman bu işlemler yapılır.\n",
    "\n",
    "a=7\n",
    "\n",
    "c=a\n"
   ]
  },
  {
   "cell_type": "code",
   "execution_count": 108,
   "id": "702f1157",
   "metadata": {},
   "outputs": [
    {
     "data": {
      "text/plain": [
       "7"
      ]
     },
     "execution_count": 108,
     "metadata": {},
     "output_type": "execute_result"
    }
   ],
   "source": [
    "c"
   ]
  },
  {
   "cell_type": "code",
   "execution_count": 114,
   "id": "6a32895a",
   "metadata": {},
   "outputs": [],
   "source": [
    "a=a+1"
   ]
  },
  {
   "cell_type": "code",
   "execution_count": 110,
   "id": "8c9126c8",
   "metadata": {},
   "outputs": [
    {
     "data": {
      "text/plain": [
       "8"
      ]
     },
     "execution_count": 110,
     "metadata": {},
     "output_type": "execute_result"
    }
   ],
   "source": [
    "a"
   ]
  },
  {
   "cell_type": "code",
   "execution_count": 115,
   "id": "b2438a8f",
   "metadata": {},
   "outputs": [
    {
     "data": {
      "text/plain": [
       "7"
      ]
     },
     "execution_count": 115,
     "metadata": {},
     "output_type": "execute_result"
    }
   ],
   "source": [
    "c"
   ]
  },
  {
   "cell_type": "markdown",
   "id": "9c77431b",
   "metadata": {},
   "source": [
    "\n",
    "+ a değerini güncellesek bile c güncellenmiyor. Çünkü c sadece a kutusunun değerine eşit olmuş oldu, kutunun kendisine değil.\n",
    "\n",
    "+ Bu durumu listelerde yaptığımızda...\n"
   ]
  },
  {
   "cell_type": "code",
   "execution_count": 124,
   "id": "274deaba",
   "metadata": {},
   "outputs": [],
   "source": [
    "b=[1,2,3,4,5]\n",
    "\n",
    "b2=b # b etiketi kopyalanmış oluyor, kutu değil.\n",
    "\n",
    "# Hem b etiketi  hem de b2 etiketi aynı kutuyu işaret etmiş oluyor."
   ]
  },
  {
   "cell_type": "code",
   "execution_count": 118,
   "id": "49ccfe33",
   "metadata": {},
   "outputs": [
    {
     "data": {
      "text/plain": [
       "[1, 2, 3, 4, 5]"
      ]
     },
     "execution_count": 118,
     "metadata": {},
     "output_type": "execute_result"
    }
   ],
   "source": [
    "b"
   ]
  },
  {
   "cell_type": "code",
   "execution_count": 119,
   "id": "61dd7142",
   "metadata": {},
   "outputs": [
    {
     "data": {
      "text/plain": [
       "[1, 2, 3, 4, 5]"
      ]
     },
     "execution_count": 119,
     "metadata": {},
     "output_type": "execute_result"
    }
   ],
   "source": [
    "b2"
   ]
  },
  {
   "cell_type": "code",
   "execution_count": 120,
   "id": "63a675aa",
   "metadata": {},
   "outputs": [],
   "source": [
    "b[0]=200"
   ]
  },
  {
   "cell_type": "code",
   "execution_count": 121,
   "id": "d68423fb",
   "metadata": {},
   "outputs": [
    {
     "data": {
      "text/plain": [
       "[200, 2, 3, 4, 5]"
      ]
     },
     "execution_count": 121,
     "metadata": {},
     "output_type": "execute_result"
    }
   ],
   "source": [
    "b"
   ]
  },
  {
   "cell_type": "code",
   "execution_count": 122,
   "id": "954b33fa",
   "metadata": {},
   "outputs": [
    {
     "data": {
      "text/plain": [
       "[200, 2, 3, 4, 5]"
      ]
     },
     "execution_count": 122,
     "metadata": {},
     "output_type": "execute_result"
    }
   ],
   "source": [
    "b2"
   ]
  },
  {
   "cell_type": "markdown",
   "id": "dd056c73",
   "metadata": {},
   "source": [
    "\n",
    "+ b2 listesi de güncellendi.\n",
    "\n",
    "+ Çünkü b2=b dediğimizde b2, b etiketinin değerine eşit oldu. İki etikette aynı kutuyu gösteriyor bu yüzden b listesini güncelleyince b2 listesi de güncelleniyor.\n",
    "\n",
    "+ Bu sebeple b listesinde yapılan güncellemeler, b2 listesine de aynı şekilde yansıyor.\n"
   ]
  },
  {
   "attachments": {
    "Ekran%20g%C3%B6r%C3%BCnt%C3%BCs%C3%BC%202024-04-28%20210243.png": {
     "image/png": "[encoded data removed]"
    }
   },
   "cell_type": "markdown",
   "id": "e9ee123d",
   "metadata": {},
   "source": [
    "\n",
    "+ copy() metodu:Aynı değerlere sahip farklı bir kutu oluşturuluyor. O kutu kopyalanmış oluyor.\n",
    "\n",
    "![Ekran%20g%C3%B6r%C3%BCnt%C3%BCs%C3%BC%202024-04-28%20210243.png](attachment:Ekran%20g%C3%B6r%C3%BCnt%C3%BCs%C3%BC%202024-04-28%20210243.png)\n",
    "\n",
    "+ Yukarıdaki kopyalama işleminde b2=b.copy() uygulandığı zaman b2 ve b etiketleri farklı kutuları işaret etmiş olurlar. Bu yüzden b 'yi değiştirmek b2'yi etkilemeyecektir.\n",
    "\n"
   ]
  },
  {
   "cell_type": "code",
   "execution_count": 125,
   "id": "3e56f417",
   "metadata": {},
   "outputs": [],
   "source": [
    "b2=b.copy()"
   ]
  },
  {
   "cell_type": "code",
   "execution_count": 126,
   "id": "ecc80cc0",
   "metadata": {},
   "outputs": [
    {
     "data": {
      "text/plain": [
       "[1, 2, 3, 4, 5]"
      ]
     },
     "execution_count": 126,
     "metadata": {},
     "output_type": "execute_result"
    }
   ],
   "source": [
    "b"
   ]
  },
  {
   "cell_type": "code",
   "execution_count": 127,
   "id": "15c6affb",
   "metadata": {},
   "outputs": [
    {
     "data": {
      "text/plain": [
       "[1, 2, 3, 4, 5]"
      ]
     },
     "execution_count": 127,
     "metadata": {},
     "output_type": "execute_result"
    }
   ],
   "source": [
    "b2"
   ]
  },
  {
   "cell_type": "code",
   "execution_count": 129,
   "id": "1ac515b4",
   "metadata": {},
   "outputs": [],
   "source": [
    "b[0]=300"
   ]
  },
  {
   "cell_type": "code",
   "execution_count": 130,
   "id": "8e68ab91",
   "metadata": {},
   "outputs": [
    {
     "data": {
      "text/plain": [
       "[300, 2, 3, 4, 5]"
      ]
     },
     "execution_count": 130,
     "metadata": {},
     "output_type": "execute_result"
    }
   ],
   "source": [
    "b"
   ]
  },
  {
   "cell_type": "code",
   "execution_count": 131,
   "id": "854f9bef",
   "metadata": {},
   "outputs": [
    {
     "data": {
      "text/plain": [
       "[1, 2, 3, 4, 5]"
      ]
     },
     "execution_count": 131,
     "metadata": {},
     "output_type": "execute_result"
    }
   ],
   "source": [
    "b2"
   ]
  },
  {
   "cell_type": "markdown",
   "id": "0d16e617",
   "metadata": {},
   "source": [
    "\n",
    "# Listlerde  Concatenation \n",
    "\n",
    "+ \" + \" operatörü ile listlerde birleştirme/concatenation yapılır."
   ]
  },
  {
   "cell_type": "code",
   "execution_count": 132,
   "id": "dbdd3bd8",
   "metadata": {},
   "outputs": [],
   "source": [
    "l= [1,2,3]"
   ]
  },
  {
   "cell_type": "code",
   "execution_count": 133,
   "id": "f3690d1b",
   "metadata": {},
   "outputs": [],
   "source": [
    "l2=[4,5,6]"
   ]
  },
  {
   "cell_type": "code",
   "execution_count": 134,
   "id": "600b11f6",
   "metadata": {},
   "outputs": [
    {
     "data": {
      "text/plain": [
       "[1, 2, 3]"
      ]
     },
     "execution_count": 134,
     "metadata": {},
     "output_type": "execute_result"
    }
   ],
   "source": [
    "l"
   ]
  },
  {
   "cell_type": "code",
   "execution_count": 138,
   "id": "3b859dd6",
   "metadata": {},
   "outputs": [
    {
     "data": {
      "text/plain": [
       "[1, 2, 3, 4, 5, 6]"
      ]
     },
     "execution_count": 138,
     "metadata": {},
     "output_type": "execute_result"
    }
   ],
   "source": [
    "l + l2\n",
    "# İki liste birleştirilir ama l ve l2 listelerinin değerleri değişmez."
   ]
  },
  {
   "cell_type": "code",
   "execution_count": 136,
   "id": "87405231",
   "metadata": {},
   "outputs": [
    {
     "data": {
      "text/plain": [
       "[1, 2, 3]"
      ]
     },
     "execution_count": 136,
     "metadata": {},
     "output_type": "execute_result"
    }
   ],
   "source": [
    "l"
   ]
  },
  {
   "cell_type": "code",
   "execution_count": 137,
   "id": "26fee302",
   "metadata": {},
   "outputs": [
    {
     "data": {
      "text/plain": [
       "[4, 5, 6]"
      ]
     },
     "execution_count": 137,
     "metadata": {},
     "output_type": "execute_result"
    }
   ],
   "source": [
    "l2"
   ]
  },
  {
   "cell_type": "code",
   "execution_count": 140,
   "id": "5baa5034",
   "metadata": {},
   "outputs": [],
   "source": [
    "\"\"\"\n",
    "    l+l2' yi bir değişkene atarsak o zaman bu değerler \n",
    "    hafızada tutulmuş olur.\n",
    "\"\"\"\n",
    "l3= l + l2"
   ]
  },
  {
   "cell_type": "code",
   "execution_count": 141,
   "id": "3872b59a",
   "metadata": {},
   "outputs": [
    {
     "data": {
      "text/plain": [
       "[1, 2, 3, 4, 5, 6]"
      ]
     },
     "execution_count": 141,
     "metadata": {},
     "output_type": "execute_result"
    }
   ],
   "source": [
    "l3"
   ]
  },
  {
   "cell_type": "markdown",
   "id": "e3da75d2",
   "metadata": {},
   "source": [
    "\n",
    "# Belirli bir elemanın indexini bulma\n",
    "\n",
    "+ index() ifadesinde parantez içine yazdığımız eleman listenin içindeyse o elemanın indexini bize verir. \n",
    "\n",
    "+ Listede bir elemandan birden fazla varsa ilk hangi indexte görülüyorsa o index değerini verir.\n",
    "\n",
    "+ Listede olmayan değerler iççin de error verir.\n",
    "\n"
   ]
  },
  {
   "cell_type": "code",
   "execution_count": 142,
   "id": "7362a461",
   "metadata": {},
   "outputs": [],
   "source": [
    "l=[1,2,3,4,2,5,6]"
   ]
  },
  {
   "cell_type": "code",
   "execution_count": 143,
   "id": "3d7b0034",
   "metadata": {},
   "outputs": [
    {
     "data": {
      "text/plain": [
       "[1, 2, 3, 4, 2, 5, 6]"
      ]
     },
     "execution_count": 143,
     "metadata": {},
     "output_type": "execute_result"
    }
   ],
   "source": [
    "l"
   ]
  },
  {
   "cell_type": "code",
   "execution_count": 144,
   "id": "82a43fc3",
   "metadata": {},
   "outputs": [
    {
     "data": {
      "text/plain": [
       "1"
      ]
     },
     "execution_count": 144,
     "metadata": {},
     "output_type": "execute_result"
    }
   ],
   "source": [
    "l.index(2)\n",
    "# 2 değeri hem 1. hem de 4. indexde bulunur."
   ]
  },
  {
   "cell_type": "code",
   "execution_count": 147,
   "id": "2534e8a0",
   "metadata": {},
   "outputs": [
    {
     "data": {
      "text/plain": [
       "3"
      ]
     },
     "execution_count": 147,
     "metadata": {},
     "output_type": "execute_result"
    }
   ],
   "source": [
    "l.index(4)"
   ]
  },
  {
   "cell_type": "code",
   "execution_count": 148,
   "id": "6ae7966e",
   "metadata": {
    "collapsed": true
   },
   "outputs": [
    {
     "ename": "ValueError",
     "evalue": "7 is not in list",
     "output_type": "error",
     "traceback": [
      "\u001b[1;31m---------------------------------------------------------------------------\u001b[0m",
      "\u001b[1;31mValueError\u001b[0m                                Traceback (most recent call last)",
      "Cell \u001b[1;32mIn[148], line 1\u001b[0m\n\u001b[1;32m----> 1\u001b[0m l\u001b[38;5;241m.\u001b[39mindex(\u001b[38;5;241m7\u001b[39m)\n",
      "\u001b[1;31mValueError\u001b[0m: 7 is not in list"
     ]
    }
   ],
   "source": [
    "l.index(7)"
   ]
  },
  {
   "cell_type": "markdown",
   "id": "9d417fc0",
   "metadata": {},
   "source": [
    "\n",
    "# List elemanlarını tersine çevirme \n",
    "\n",
    "+ reverse() metodu ile liste tersten yazdırılır.\n",
    "\n",
    "+ Tersten yazdırma işlemi slicing ile de yapılabilir. Fakat burada listeyi tersine yazdırır ama hafızada yeni listeyi tersten kaydetmez. Bunun için tersten yazdırılan liste bir değişkene atanmalıdır.\n",
    "\n"
   ]
  },
  {
   "cell_type": "code",
   "execution_count": 149,
   "id": "d3f446d9",
   "metadata": {},
   "outputs": [],
   "source": [
    "l=[1,2,3,4]"
   ]
  },
  {
   "cell_type": "code",
   "execution_count": 150,
   "id": "40b8f37d",
   "metadata": {},
   "outputs": [],
   "source": [
    "l.reverse()  #inplace yani l'yi günceller."
   ]
  },
  {
   "cell_type": "code",
   "execution_count": 151,
   "id": "60408a14",
   "metadata": {},
   "outputs": [
    {
     "data": {
      "text/plain": [
       "[4, 3, 2, 1]"
      ]
     },
     "execution_count": 151,
     "metadata": {},
     "output_type": "execute_result"
    }
   ],
   "source": [
    "l"
   ]
  },
  {
   "cell_type": "code",
   "execution_count": 152,
   "id": "236435de",
   "metadata": {},
   "outputs": [],
   "source": [
    "l=[1,2,3,4]"
   ]
  },
  {
   "cell_type": "code",
   "execution_count": 153,
   "id": "a95d9ca9",
   "metadata": {},
   "outputs": [
    {
     "data": {
      "text/plain": [
       "[4, 3, 2, 1]"
      ]
     },
     "execution_count": 153,
     "metadata": {},
     "output_type": "execute_result"
    }
   ],
   "source": [
    "l[::-1] #liste tersten yazdırılır ama hafızada böyle kaydedilmez."
   ]
  },
  {
   "cell_type": "code",
   "execution_count": 154,
   "id": "1879d69b",
   "metadata": {},
   "outputs": [
    {
     "data": {
      "text/plain": [
       "[1, 2, 3, 4]"
      ]
     },
     "execution_count": 154,
     "metadata": {},
     "output_type": "execute_result"
    }
   ],
   "source": [
    "l"
   ]
  },
  {
   "cell_type": "code",
   "execution_count": 155,
   "id": "a5c2be95",
   "metadata": {},
   "outputs": [],
   "source": [
    "l3=l[::-1]"
   ]
  },
  {
   "cell_type": "code",
   "execution_count": 156,
   "id": "12b1452f",
   "metadata": {},
   "outputs": [
    {
     "data": {
      "text/plain": [
       "[4, 3, 2, 1]"
      ]
     },
     "execution_count": 156,
     "metadata": {},
     "output_type": "execute_result"
    }
   ],
   "source": [
    "l3"
   ]
  },
  {
   "cell_type": "code",
   "execution_count": 157,
   "id": "f822594a",
   "metadata": {},
   "outputs": [
    {
     "data": {
      "text/plain": [
       "[1, 2, 3, 4]"
      ]
     },
     "execution_count": 157,
     "metadata": {},
     "output_type": "execute_result"
    }
   ],
   "source": [
    "l"
   ]
  },
  {
   "cell_type": "markdown",
   "id": "27cdebc3",
   "metadata": {},
   "source": [
    "\n",
    "# List elemanlarını sıralama \n",
    "\n",
    "+ sorted() metodu orjinal listeyi güncellemez, hafızaya kaydetmez\n",
    "\n",
    "+ sort() ve sorted() metotları ikisi de default olarak küçükten büyüğe sıralar. Sayısal verilerde sayısal değerlere göre, stringlerde ise alfabetik sıraya göre sıralar.\n"
   ]
  },
  {
   "cell_type": "code",
   "execution_count": 158,
   "id": "9c4c0b5f",
   "metadata": {},
   "outputs": [],
   "source": [
    "l=[\"b\",\"c\",\"d\",\"a\"]"
   ]
  },
  {
   "cell_type": "code",
   "execution_count": 159,
   "id": "ace1d48a",
   "metadata": {},
   "outputs": [
    {
     "data": {
      "text/plain": [
       "['a', 'b', 'c', 'd']"
      ]
     },
     "execution_count": 159,
     "metadata": {},
     "output_type": "execute_result"
    }
   ],
   "source": [
    "sorted(l) #liste elamanlarını alfabetik olarak sıralar."
   ]
  },
  {
   "cell_type": "code",
   "execution_count": 163,
   "id": "c888a829",
   "metadata": {},
   "outputs": [
    {
     "data": {
      "text/plain": [
       "['a', 'b', 'c', 'd']"
      ]
     },
     "execution_count": 163,
     "metadata": {},
     "output_type": "execute_result"
    }
   ],
   "source": [
    "l3= sorted(l)\n",
    "l3"
   ]
  },
  {
   "cell_type": "markdown",
   "id": "aff8a879",
   "metadata": {},
   "source": [
    " \n",
    "+ sort() metodu ise listeyi hem sıralar hem de günceller, sıralandığı gibi liste hafızaya kaydedilir.\n"
   ]
  },
  {
   "cell_type": "code",
   "execution_count": 160,
   "id": "d601bbc4",
   "metadata": {},
   "outputs": [],
   "source": [
    "l=[\"b\",\"c\",\"d\",\"a\"]"
   ]
  },
  {
   "cell_type": "code",
   "execution_count": 161,
   "id": "94c4a967",
   "metadata": {},
   "outputs": [],
   "source": [
    "l.sort()"
   ]
  },
  {
   "cell_type": "code",
   "execution_count": 162,
   "id": "732053ec",
   "metadata": {},
   "outputs": [
    {
     "data": {
      "text/plain": [
       "['a', 'b', 'c', 'd']"
      ]
     },
     "execution_count": 162,
     "metadata": {},
     "output_type": "execute_result"
    }
   ],
   "source": [
    "l"
   ]
  },
  {
   "cell_type": "code",
   "execution_count": 164,
   "id": "64aa7803",
   "metadata": {},
   "outputs": [],
   "source": [
    "l1=[10,5,-2,4,-1,8]"
   ]
  },
  {
   "cell_type": "code",
   "execution_count": 165,
   "id": "28c856d4",
   "metadata": {},
   "outputs": [
    {
     "data": {
      "text/plain": [
       "[-2, -1, 4, 5, 8, 10]"
      ]
     },
     "execution_count": 165,
     "metadata": {},
     "output_type": "execute_result"
    }
   ],
   "source": [
    "sorted(l1)"
   ]
  },
  {
   "cell_type": "code",
   "execution_count": 167,
   "id": "6db57cec",
   "metadata": {},
   "outputs": [
    {
     "data": {
      "text/plain": [
       "[10, 5, -2, 4, -1, 8]"
      ]
     },
     "execution_count": 167,
     "metadata": {},
     "output_type": "execute_result"
    }
   ],
   "source": [
    "l1"
   ]
  },
  {
   "cell_type": "code",
   "execution_count": 168,
   "id": "1c71b801",
   "metadata": {},
   "outputs": [],
   "source": [
    "l1.sort()"
   ]
  },
  {
   "cell_type": "code",
   "execution_count": 169,
   "id": "e936745d",
   "metadata": {},
   "outputs": [
    {
     "data": {
      "text/plain": [
       "[-2, -1, 4, 5, 8, 10]"
      ]
     },
     "execution_count": 169,
     "metadata": {},
     "output_type": "execute_result"
    }
   ],
   "source": [
    "l1"
   ]
  },
  {
   "cell_type": "code",
   "execution_count": 176,
   "id": "5dfb2e87",
   "metadata": {},
   "outputs": [],
   "source": [
    "l=[\"a\",\"2\",\"b\",\"3\",\"c\",\"1\",\"d\",\"5\",\"4\"]"
   ]
  },
  {
   "cell_type": "markdown",
   "id": "88576668",
   "metadata": {},
   "source": [
    "\n",
    "+ harfler ve sayılar karışık verildiyse (ama hepsi string ifadedir)  önce sayılar kendi içerisinde sonra harfler kendi içerisnde küçükten büyüğe doğru sıralanır.\n",
    "\n",
    "+ int ve string ifadeler birlikte olsaydı sıralama yapmazdı error verirdi."
   ]
  },
  {
   "cell_type": "code",
   "execution_count": 177,
   "id": "7a0b28c1",
   "metadata": {},
   "outputs": [],
   "source": [
    "l.sort()"
   ]
  },
  {
   "cell_type": "code",
   "execution_count": 178,
   "id": "28cf05b1",
   "metadata": {},
   "outputs": [
    {
     "data": {
      "text/plain": [
       "['1', '2', '3', '4', '5', 'a', 'b', 'c', 'd']"
      ]
     },
     "execution_count": 178,
     "metadata": {},
     "output_type": "execute_result"
    }
   ],
   "source": [
    "l"
   ]
  },
  {
   "cell_type": "code",
   "execution_count": 179,
   "id": "215051ac",
   "metadata": {},
   "outputs": [],
   "source": [
    "l=[[7,10,3],[5,12,4]]"
   ]
  },
  {
   "cell_type": "markdown",
   "id": "6bdfa097",
   "metadata": {},
   "source": [
    "\n",
    "+ Bu listede sıralama yapılırken içerdeki listelerin ilk elemanları karşılaştırılarak listeleme yapılır. İlk elemanı küçük olan liste sol tarafa geçer."
   ]
  },
  {
   "cell_type": "code",
   "execution_count": 180,
   "id": "0c36cb24",
   "metadata": {},
   "outputs": [],
   "source": [
    "l.sort()"
   ]
  },
  {
   "cell_type": "code",
   "execution_count": 181,
   "id": "0ad32b6b",
   "metadata": {},
   "outputs": [
    {
     "data": {
      "text/plain": [
       "[[5, 12, 4], [7, 10, 3]]"
      ]
     },
     "execution_count": 181,
     "metadata": {},
     "output_type": "execute_result"
    }
   ],
   "source": [
    "l"
   ]
  }
 ],
 "metadata": {
  "kernelspec": {
   "display_name": "Python 3 (ipykernel)",
   "language": "python",
   "name": "python3"
  },
  "language_info": {
   "codemirror_mode": {
    "name": "ipython",
    "version": 3
   },
   "file_extension": ".py",
   "mimetype": "text/x-python",
   "name": "python",
   "nbconvert_exporter": "python",
   "pygments_lexer": "ipython3",
   "version": "3.11.5"
  }
 },
 "nbformat": 4,
 "nbformat_minor": 5
}
