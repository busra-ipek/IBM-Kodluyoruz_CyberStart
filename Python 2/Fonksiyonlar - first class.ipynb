{
 "cells": [
  {
   "cell_type": "markdown",
   "id": "361a53d2",
   "metadata": {},
   "source": [
    "\n",
    "# First Class Function\n",
    "\n",
    "+ Fonksiyonların diğer veri tipleri gibi manipüle edilebilir ve başka fonksiyonlara argüman olarak verilebilir.\n",
    "\n",
    "+ Bir fonksiyonu bir değişkene atayabiliriz."
   ]
  },
  {
   "cell_type": "code",
   "execution_count": 1,
   "id": "895a0585",
   "metadata": {},
   "outputs": [],
   "source": [
    "def kare(x):\n",
    "    \n",
    "    return x**2"
   ]
  },
  {
   "cell_type": "code",
   "execution_count": 7,
   "id": "8c3bc16d",
   "metadata": {},
   "outputs": [],
   "source": [
    "a = kare"
   ]
  },
  {
   "cell_type": "code",
   "execution_count": 9,
   "id": "f21242a4",
   "metadata": {},
   "outputs": [
    {
     "data": {
      "text/plain": [
       "25"
      ]
     },
     "execution_count": 9,
     "metadata": {},
     "output_type": "execute_result"
    }
   ],
   "source": [
    "kare(5)"
   ]
  },
  {
   "cell_type": "code",
   "execution_count": 8,
   "id": "a81d20d3",
   "metadata": {},
   "outputs": [
    {
     "data": {
      "text/plain": [
       "25"
      ]
     },
     "execution_count": 8,
     "metadata": {},
     "output_type": "execute_result"
    }
   ],
   "source": [
    "a(5)"
   ]
  },
  {
   "cell_type": "markdown",
   "id": "aad36865",
   "metadata": {},
   "source": [
    "+ Bir fonksiyonu başka bir fonksiyona argüman/parametre olarak verebiliriz."
   ]
  },
  {
   "cell_type": "code",
   "execution_count": 5,
   "id": "ff36c9aa",
   "metadata": {},
   "outputs": [],
   "source": [
    "def f2(x, f):\n",
    "    \n",
    "    return f(x) + 4\n",
    "\n",
    "# f inputu, girilen x değerini parametre olarak alan bir fonksiyondur."
   ]
  },
  {
   "cell_type": "code",
   "execution_count": null,
   "id": "079e5f30",
   "metadata": {},
   "outputs": [],
   "source": [
    "f2(3,kare)"
   ]
  },
  {
   "cell_type": "code",
   "execution_count": 10,
   "id": "923e2046",
   "metadata": {},
   "outputs": [],
   "source": [
    "def f3(x):\n",
    "    \n",
    "    return x ** 5"
   ]
  },
  {
   "cell_type": "code",
   "execution_count": 11,
   "id": "f838c40c",
   "metadata": {},
   "outputs": [
    {
     "data": {
      "text/plain": [
       "36"
      ]
     },
     "execution_count": 11,
     "metadata": {},
     "output_type": "execute_result"
    }
   ],
   "source": [
    "f2(2,f3)"
   ]
  }
 ],
 "metadata": {
  "kernelspec": {
   "display_name": "Python 3 (ipykernel)",
   "language": "python",
   "name": "python3"
  },
  "language_info": {
   "codemirror_mode": {
    "name": "ipython",
    "version": 3
   },
   "file_extension": ".py",
   "mimetype": "text/x-python",
   "name": "python",
   "nbconvert_exporter": "python",
   "pygments_lexer": "ipython3",
   "version": "3.11.5"
  }
 },
 "nbformat": 4,
 "nbformat_minor": 5
}
