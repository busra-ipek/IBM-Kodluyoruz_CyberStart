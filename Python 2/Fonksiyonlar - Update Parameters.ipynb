{
 "cells": [
  {
   "cell_type": "markdown",
   "id": "3407ab88",
   "metadata": {},
   "source": [
    "# Argümanların değerlerinin güncellenip güncellenmediği durumlar\n",
    "\n",
    "+ Fonksiyona verilen inputların orjinal değerlerinin güncellenip güncellenmemesi inputların veri tipine bağlıdır."
   ]
  },
  {
   "cell_type": "markdown",
   "id": "755b21f3",
   "metadata": {},
   "source": [
    "\n",
    "+ Integer ve Float değişkenlerin değerleri değişmez."
   ]
  },
  {
   "cell_type": "code",
   "execution_count": 1,
   "id": "a609566d",
   "metadata": {},
   "outputs": [],
   "source": [
    "a = 2"
   ]
  },
  {
   "cell_type": "code",
   "execution_count": 2,
   "id": "2b66523f",
   "metadata": {},
   "outputs": [],
   "source": [
    "def f(x):\n",
    "    x = 4\n",
    "    return x"
   ]
  },
  {
   "cell_type": "code",
   "execution_count": 5,
   "id": "f4fafcd8",
   "metadata": {},
   "outputs": [
    {
     "data": {
      "text/plain": [
       "4"
      ]
     },
     "execution_count": 5,
     "metadata": {},
     "output_type": "execute_result"
    }
   ],
   "source": [
    "f(a)\n",
    "# fonksiyonda x de yapılan değişiklik a'nın gerçek değerini değiştirmez\n",
    "# a değişkeni fonksiyonda kullanılırsa hangi değeri alacağı çıktı olarak verilir."
   ]
  },
  {
   "cell_type": "code",
   "execution_count": 4,
   "id": "8b9e78e5",
   "metadata": {},
   "outputs": [
    {
     "data": {
      "text/plain": [
       "2"
      ]
     },
     "execution_count": 4,
     "metadata": {},
     "output_type": "execute_result"
    }
   ],
   "source": [
    "a"
   ]
  },
  {
   "cell_type": "code",
   "execution_count": 6,
   "id": "091e80c6",
   "metadata": {},
   "outputs": [],
   "source": [
    "b = 3.4"
   ]
  },
  {
   "cell_type": "code",
   "execution_count": 7,
   "id": "ea8478db",
   "metadata": {},
   "outputs": [
    {
     "data": {
      "text/plain": [
       "4"
      ]
     },
     "execution_count": 7,
     "metadata": {},
     "output_type": "execute_result"
    }
   ],
   "source": [
    "f(b)"
   ]
  },
  {
   "cell_type": "code",
   "execution_count": 8,
   "id": "83f9efac",
   "metadata": {},
   "outputs": [
    {
     "data": {
      "text/plain": [
       "3.4"
      ]
     },
     "execution_count": 8,
     "metadata": {},
     "output_type": "execute_result"
    }
   ],
   "source": [
    "b"
   ]
  },
  {
   "cell_type": "markdown",
   "id": "f1cc88d6",
   "metadata": {},
   "source": [
    "# Listler"
   ]
  },
  {
   "cell_type": "code",
   "execution_count": 9,
   "id": "c85d0dff",
   "metadata": {},
   "outputs": [],
   "source": [
    "l = [1,2,3]"
   ]
  },
  {
   "cell_type": "code",
   "execution_count": 10,
   "id": "2438595d",
   "metadata": {},
   "outputs": [],
   "source": [
    "l2 = l"
   ]
  },
  {
   "cell_type": "code",
   "execution_count": 11,
   "id": "46b4c3e8",
   "metadata": {},
   "outputs": [
    {
     "data": {
      "text/plain": [
       "[1, 2, 3]"
      ]
     },
     "execution_count": 11,
     "metadata": {},
     "output_type": "execute_result"
    }
   ],
   "source": [
    "l"
   ]
  },
  {
   "cell_type": "code",
   "execution_count": 12,
   "id": "0585f568",
   "metadata": {},
   "outputs": [
    {
     "data": {
      "text/plain": [
       "[1, 2, 3]"
      ]
     },
     "execution_count": 12,
     "metadata": {},
     "output_type": "execute_result"
    }
   ],
   "source": [
    "l2"
   ]
  },
  {
   "cell_type": "code",
   "execution_count": 13,
   "id": "cfad17a3",
   "metadata": {},
   "outputs": [],
   "source": [
    "l2[1] = 20"
   ]
  },
  {
   "cell_type": "code",
   "execution_count": 16,
   "id": "dbe24ed1",
   "metadata": {},
   "outputs": [
    {
     "data": {
      "text/plain": [
       "[1, 20, 3]"
      ]
     },
     "execution_count": 16,
     "metadata": {},
     "output_type": "execute_result"
    }
   ],
   "source": [
    "l2 # l2 listesinde eleman değişince l listesinde de değişiklik olur."
   ]
  },
  {
   "cell_type": "code",
   "execution_count": 17,
   "id": "79f7df75",
   "metadata": {},
   "outputs": [
    {
     "data": {
      "text/plain": [
       "[1, 20, 3]"
      ]
     },
     "execution_count": 17,
     "metadata": {},
     "output_type": "execute_result"
    }
   ],
   "source": [
    "l # Çünkü l ve l2 etiket isimleridir ve aynı kutucuğu işaret ederler."
   ]
  },
  {
   "cell_type": "code",
   "execution_count": 18,
   "id": "c213a87c",
   "metadata": {},
   "outputs": [],
   "source": [
    "l = [1,2,3]"
   ]
  },
  {
   "cell_type": "code",
   "execution_count": 19,
   "id": "28a33534",
   "metadata": {},
   "outputs": [],
   "source": [
    "def f(l):\n",
    "    l[0]= \"a\"\n",
    "    return l"
   ]
  },
  {
   "cell_type": "code",
   "execution_count": 23,
   "id": "6f239a9b",
   "metadata": {},
   "outputs": [
    {
     "data": {
      "text/plain": [
       "['a', 2, 3]"
      ]
     },
     "execution_count": 23,
     "metadata": {},
     "output_type": "execute_result"
    }
   ],
   "source": [
    "f(l) "
   ]
  },
  {
   "cell_type": "markdown",
   "id": "502ef856",
   "metadata": {},
   "source": [
    "+ f(l) fonksiyonu aynen l gibi bir etiket olur ve l'nin işaret ettiği kutucuğu işaret eder. Herhangi bir değişiklik yapıldığı zaman kutunun içeriği de değişmiş olur. Yani l listesinin orjinal hali de değişmiştir.\n",
    "\n",
    "+ f fonksiyonuna return l ifadesi yazmasak bile liste değişir. Fakat f(l) yi çalıştırdığımızda herhangi bir değer döndürmez."
   ]
  },
  {
   "cell_type": "code",
   "execution_count": 24,
   "id": "c1f13118",
   "metadata": {},
   "outputs": [
    {
     "data": {
      "text/plain": [
       "['a', 2, 3]"
      ]
     },
     "execution_count": 24,
     "metadata": {},
     "output_type": "execute_result"
    }
   ],
   "source": [
    "l"
   ]
  },
  {
   "cell_type": "code",
   "execution_count": 39,
   "id": "b20f09f6",
   "metadata": {},
   "outputs": [],
   "source": [
    "l = [1, 2, 3]"
   ]
  },
  {
   "cell_type": "code",
   "execution_count": 40,
   "id": "7d51a2d4",
   "metadata": {},
   "outputs": [],
   "source": [
    "l2 = l.copy()\n",
    "# dediğimizde l etiketi başka bir kutuyu l2 etiketi başka bir kutuyu işaret eder."
   ]
  },
  {
   "cell_type": "code",
   "execution_count": 41,
   "id": "7de86709",
   "metadata": {},
   "outputs": [
    {
     "data": {
      "text/plain": [
       "[1, 2, 3]"
      ]
     },
     "execution_count": 41,
     "metadata": {},
     "output_type": "execute_result"
    }
   ],
   "source": [
    "l2"
   ]
  },
  {
   "cell_type": "code",
   "execution_count": 42,
   "id": "251595c8",
   "metadata": {},
   "outputs": [
    {
     "data": {
      "text/plain": [
       "[1, 2, 3]"
      ]
     },
     "execution_count": 42,
     "metadata": {},
     "output_type": "execute_result"
    }
   ],
   "source": [
    "l"
   ]
  },
  {
   "cell_type": "code",
   "execution_count": 43,
   "id": "dd82a21e",
   "metadata": {},
   "outputs": [],
   "source": [
    "l2[0] = 10"
   ]
  },
  {
   "cell_type": "code",
   "execution_count": 44,
   "id": "d474950e",
   "metadata": {},
   "outputs": [
    {
     "data": {
      "text/plain": [
       "[10, 2, 3]"
      ]
     },
     "execution_count": 44,
     "metadata": {},
     "output_type": "execute_result"
    }
   ],
   "source": [
    "l2"
   ]
  },
  {
   "cell_type": "code",
   "execution_count": 46,
   "id": "b1ae77d5",
   "metadata": {},
   "outputs": [
    {
     "data": {
      "text/plain": [
       "[1, 2, 3]"
      ]
     },
     "execution_count": 46,
     "metadata": {},
     "output_type": "execute_result"
    }
   ],
   "source": [
    "l # l2' de değişiklik olunca l'de değişiklik olmaz."
   ]
  },
  {
   "cell_type": "code",
   "execution_count": 27,
   "id": "2b610ed8",
   "metadata": {},
   "outputs": [],
   "source": [
    "def f(x):\n",
    "    x[0] = 2\n",
    "    \n",
    "    return x\n",
    "# fonksiyon tanımlanırken değişken isimlerinin bir önemi yoktur.\n",
    "# Burada önemli olan değişkenin bir liste olmasıdır."
   ]
  },
  {
   "cell_type": "code",
   "execution_count": 28,
   "id": "cf5a0d16",
   "metadata": {},
   "outputs": [],
   "source": [
    "def f(penguen):\n",
    "    penguen[0] = 2\n",
    "    \n",
    "    return penguen"
   ]
  },
  {
   "cell_type": "code",
   "execution_count": 29,
   "id": "49338ef9",
   "metadata": {},
   "outputs": [
    {
     "data": {
      "text/plain": [
       "[2, 2, 3]"
      ]
     },
     "execution_count": 29,
     "metadata": {},
     "output_type": "execute_result"
    }
   ],
   "source": [
    "f(l)"
   ]
  },
  {
   "cell_type": "code",
   "execution_count": 30,
   "id": "ccfab427",
   "metadata": {},
   "outputs": [
    {
     "data": {
      "text/plain": [
       "[2, 2, 3]"
      ]
     },
     "execution_count": 30,
     "metadata": {},
     "output_type": "execute_result"
    }
   ],
   "source": [
    "l"
   ]
  },
  {
   "cell_type": "code",
   "execution_count": 47,
   "id": "0b0c6076",
   "metadata": {},
   "outputs": [],
   "source": [
    "l = [1, 2, 3]"
   ]
  },
  {
   "cell_type": "code",
   "execution_count": 48,
   "id": "6bb63122",
   "metadata": {},
   "outputs": [],
   "source": [
    "def f(x):\n",
    "    \n",
    "    l2 = l.copy()\n",
    "    l2[2] = 7\n",
    "    \n",
    "    return l2"
   ]
  },
  {
   "cell_type": "code",
   "execution_count": 49,
   "id": "32da179a",
   "metadata": {},
   "outputs": [
    {
     "data": {
      "text/plain": [
       "[1, 2, 7]"
      ]
     },
     "execution_count": 49,
     "metadata": {},
     "output_type": "execute_result"
    }
   ],
   "source": [
    "f(l)"
   ]
  },
  {
   "cell_type": "code",
   "execution_count": 50,
   "id": "5ba7f226",
   "metadata": {},
   "outputs": [
    {
     "data": {
      "text/plain": [
       "[1, 2, 3]"
      ]
     },
     "execution_count": 50,
     "metadata": {},
     "output_type": "execute_result"
    }
   ],
   "source": [
    "l"
   ]
  }
 ],
 "metadata": {
  "kernelspec": {
   "display_name": "Python 3 (ipykernel)",
   "language": "python",
   "name": "python3"
  },
  "language_info": {
   "codemirror_mode": {
    "name": "ipython",
    "version": 3
   },
   "file_extension": ".py",
   "mimetype": "text/x-python",
   "name": "python",
   "nbconvert_exporter": "python",
   "pygments_lexer": "ipython3",
   "version": "3.11.5"
  }
 },
 "nbformat": 4,
 "nbformat_minor": 5
}
