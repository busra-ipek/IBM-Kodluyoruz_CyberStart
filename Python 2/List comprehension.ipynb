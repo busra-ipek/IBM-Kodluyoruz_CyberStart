{
 "cells": [
  {
   "cell_type": "markdown",
   "id": "dced6363",
   "metadata": {},
   "source": [
    "# List Comprehensions\n",
    "\n",
    "+  Bu konuda liste oluşturma veya eleman ekleme gibi konulara daha farklı yollardan çözümler yapılmaktadır."
   ]
  },
  {
   "cell_type": "markdown",
   "id": "70c0afe0",
   "metadata": {},
   "source": [
    "+ 1' den 10 kadar olan sayıların karelerinden bir liste oluşturma..."
   ]
  },
  {
   "cell_type": "code",
   "execution_count": 6,
   "id": "6c908016",
   "metadata": {},
   "outputs": [],
   "source": [
    "squares =[]\n",
    "\n",
    "for i in range (1,11):\n",
    "    squares.append(i*i)\n",
    "    \n",
    "#i değerlerinin karesi liste sonuna eklenir...    \n",
    "    "
   ]
  },
  {
   "cell_type": "code",
   "execution_count": 7,
   "id": "3fe5ae23",
   "metadata": {},
   "outputs": [
    {
     "data": {
      "text/plain": [
       "[1, 4, 9, 16, 25, 36, 49, 64, 81, 100]"
      ]
     },
     "execution_count": 7,
     "metadata": {},
     "output_type": "execute_result"
    }
   ],
   "source": [
    "squares"
   ]
  },
  {
   "cell_type": "markdown",
   "id": "fc9877a4",
   "metadata": {},
   "source": [
    "+ Bu ifadenin aynısını list compherison kullanarak yapabiliriz."
   ]
  },
  {
   "cell_type": "code",
   "execution_count": 8,
   "id": "0bc52f39",
   "metadata": {},
   "outputs": [],
   "source": [
    "squares =[ i*i for i in range (1,11)]"
   ]
  },
  {
   "cell_type": "code",
   "execution_count": 9,
   "id": "7e660bc1",
   "metadata": {},
   "outputs": [
    {
     "data": {
      "text/plain": [
       "[1, 4, 9, 16, 25, 36, 49, 64, 81, 100]"
      ]
     },
     "execution_count": 9,
     "metadata": {},
     "output_type": "execute_result"
    }
   ],
   "source": [
    "squares"
   ]
  },
  {
   "cell_type": "markdown",
   "id": "11de2fc0",
   "metadata": {},
   "source": [
    "+ List comprehension ve fonksiyon mantığını birleştirme "
   ]
  },
  {
   "cell_type": "code",
   "execution_count": 10,
   "id": "cb9926a1",
   "metadata": {},
   "outputs": [],
   "source": [
    "def cube(x) :\n",
    "    return x * x * x  # x**3 veya x^3 anlamına gelir."
   ]
  },
  {
   "cell_type": "code",
   "execution_count": 11,
   "id": "7aad11ed",
   "metadata": {},
   "outputs": [],
   "source": [
    "cubes= [cube(x) for x in range (1,11)]\n",
    "\n",
    "# For döngüsünden alınan x değerleri ('den 10'a kadar) cube() fonksiyonuna girer."
   ]
  },
  {
   "cell_type": "code",
   "execution_count": 12,
   "id": "aba98d08",
   "metadata": {},
   "outputs": [
    {
     "data": {
      "text/plain": [
       "[1, 8, 27, 64, 125, 216, 343, 512, 729, 1000]"
      ]
     },
     "execution_count": 12,
     "metadata": {},
     "output_type": "execute_result"
    }
   ],
   "source": [
    "cubes"
   ]
  },
  {
   "cell_type": "markdown",
   "id": "1d183bd6",
   "metadata": {},
   "source": [
    "# List comprehension'larda contiditional yapıların kullanılması "
   ]
  },
  {
   "cell_type": "code",
   "execution_count": 13,
   "id": "d05dc4fc",
   "metadata": {},
   "outputs": [
    {
     "name": "stdout",
     "output_type": "stream",
     "text": [
      "[1, 4, 9, 16, 25, 36, 49, 64, 81, 100]\n"
     ]
    }
   ],
   "source": [
    "squares = [1, 4, 9, 16, 25, 36, 49, 64, 81, 100]\n",
    "\n",
    "print(squares)"
   ]
  },
  {
   "cell_type": "code",
   "execution_count": 14,
   "id": "b05a7fa1",
   "metadata": {},
   "outputs": [],
   "source": [
    "# squares listesindeki  tek sayı elemanlardan yeni bir liste yaratmak\n",
    "\n",
    "odd_squares = [e for e in squares if e % 2 == 1]"
   ]
  },
  {
   "cell_type": "markdown",
   "id": "1bb112b2",
   "metadata": {},
   "source": [
    "\n",
    "+ Açılan köşeli parantezin sağındaki e değişkeni odd_squares listesinin elemanlarını oluşturur. \n",
    "+ e 'den sonraki ifadeler sırasıyla çalıştırılır. For döngüsüyle e değişkeni squares listesinin elemanlarına eşit olur.\n",
    "+ e değişkeni her aldığı değerde if ile sağlanan koşul kontrol edilir. Eğer aldığı değer 2' ye bölündüğünde kalan değer 1'e eşitse e değeri odd_squares listesine eleman olarak eklenir.\n",
    "+ Yukarıdaki tüm işlemler squares listesinin her elemanı için tekrarlanır."
   ]
  },
  {
   "cell_type": "code",
   "execution_count": 15,
   "id": "224571ce",
   "metadata": {},
   "outputs": [
    {
     "data": {
      "text/plain": [
       "[1, 9, 25, 49, 81]"
      ]
     },
     "execution_count": 15,
     "metadata": {},
     "output_type": "execute_result"
    }
   ],
   "source": [
    "odd_squares"
   ]
  },
  {
   "cell_type": "code",
   "execution_count": 16,
   "id": "f9a3ff25",
   "metadata": {},
   "outputs": [],
   "source": [
    "# Yukarıdaki test mantığını fonksiyonla da sağlayabilirdik.\n",
    "\n",
    "def is_odd(x): #tek mi? diye bakıyor.\n",
    "    \n",
    "    if x % 2 == 0:\n",
    "        return False\n",
    "    if x % 2 == 1:\n",
    "        return True"
   ]
  },
  {
   "cell_type": "code",
   "execution_count": 20,
   "id": "f62527a4",
   "metadata": {},
   "outputs": [],
   "source": [
    "def is_odd(x):\n",
    "    \n",
    "    if x % 2 == 1:\n",
    "        return True\n",
    "    else:\n",
    "        return False"
   ]
  },
  {
   "cell_type": "code",
   "execution_count": 17,
   "id": "61702b79",
   "metadata": {},
   "outputs": [],
   "source": [
    "odd_squares = [e for e in squares if is_odd(e)]"
   ]
  },
  {
   "cell_type": "code",
   "execution_count": 18,
   "id": "4c8b5b39",
   "metadata": {},
   "outputs": [
    {
     "data": {
      "text/plain": [
       "[1, 9, 25, 49, 81]"
      ]
     },
     "execution_count": 18,
     "metadata": {},
     "output_type": "execute_result"
    }
   ],
   "source": [
    "odd_squares"
   ]
  },
  {
   "cell_type": "code",
   "execution_count": 23,
   "id": "8dd0ec72",
   "metadata": {},
   "outputs": [],
   "source": [
    "def empty(x):  #Bu listenin sonucu hep false döndürür.\n",
    "    \n",
    "    if x % 2 == 0:\n",
    "        return False\n",
    "    \n",
    "    if x % 2 ==1:\n",
    "        return False"
   ]
  },
  {
   "cell_type": "code",
   "execution_count": 24,
   "id": "29fb6248",
   "metadata": {},
   "outputs": [],
   "source": [
    "empty_squares = [e for e in squares if empty(e)]\n",
    "\n",
    "# empty_squares listesine hiçbir eleman eklenmez, liste boş kalır."
   ]
  },
  {
   "cell_type": "code",
   "execution_count": 25,
   "id": "de2f919b",
   "metadata": {},
   "outputs": [
    {
     "data": {
      "text/plain": [
       "[]"
      ]
     },
     "execution_count": 25,
     "metadata": {},
     "output_type": "execute_result"
    }
   ],
   "source": [
    "empty_squares"
   ]
  },
  {
   "cell_type": "code",
   "execution_count": 28,
   "id": "4cfb1214",
   "metadata": {},
   "outputs": [],
   "source": [
    "def is_even(x):  #X çiftse fonksiyon True döner.\n",
    "    \n",
    "    if x % 2 == 0:\n",
    "        return True\n",
    "    \n",
    "    if x % 2 ==1:\n",
    "        return False"
   ]
  },
  {
   "cell_type": "code",
   "execution_count": 31,
   "id": "dfdc5ff9",
   "metadata": {},
   "outputs": [],
   "source": [
    "even_squares = [e for e in squares if is_even(e)]\n",
    "\n",
    "# Çift değerler listeye eklenir."
   ]
  },
  {
   "cell_type": "code",
   "execution_count": 32,
   "id": "4eab7efc",
   "metadata": {},
   "outputs": [
    {
     "data": {
      "text/plain": [
       "[4, 16, 36, 64, 100]"
      ]
     },
     "execution_count": 32,
     "metadata": {},
     "output_type": "execute_result"
    }
   ],
   "source": [
    "even_squares"
   ]
  },
  {
   "cell_type": "code",
   "execution_count": 33,
   "id": "87563121",
   "metadata": {},
   "outputs": [
    {
     "data": {
      "text/plain": [
       "[1, 4, 9, 16, 25, 36, 49, 64, 81, 100]"
      ]
     },
     "execution_count": 33,
     "metadata": {},
     "output_type": "execute_result"
    }
   ],
   "source": [
    "squares"
   ]
  },
  {
   "cell_type": "code",
   "execution_count": 36,
   "id": "323e275e",
   "metadata": {},
   "outputs": [],
   "source": [
    "weird_squares = [e if e % 2 == 0 else -1 for e in squares]"
   ]
  },
  {
   "cell_type": "markdown",
   "id": "c4a68677",
   "metadata": {},
   "source": [
    "+ squares listesinden çift sayılar aynen kalır,\n",
    "tek olan sayılar yerine ise -1 yazılır. Tüm elemanlar bu şekilde \n",
    "yeni listeye eklenir."
   ]
  },
  {
   "cell_type": "code",
   "execution_count": 37,
   "id": "5363eaea",
   "metadata": {},
   "outputs": [
    {
     "data": {
      "text/plain": [
       "[-1, 4, -1, 16, -1, 36, -1, 64, -1, 100]"
      ]
     },
     "execution_count": 37,
     "metadata": {},
     "output_type": "execute_result"
    }
   ],
   "source": [
    "weird_squares"
   ]
  },
  {
   "cell_type": "code",
   "execution_count": 38,
   "id": "551c70cf",
   "metadata": {},
   "outputs": [],
   "source": [
    "ultra_weird_squares = [e if e % 2 == 0 else -1 for e in squares if is_even(e)]\n",
    "\n",
    "# Listede sadece çift olan sayılar yer alır."
   ]
  },
  {
   "cell_type": "code",
   "execution_count": 39,
   "id": "506e889b",
   "metadata": {},
   "outputs": [
    {
     "data": {
      "text/plain": [
       "[4, 16, 36, 64, 100]"
      ]
     },
     "execution_count": 39,
     "metadata": {},
     "output_type": "execute_result"
    }
   ],
   "source": [
    "ultra_weird_squares"
   ]
  },
  {
   "cell_type": "markdown",
   "id": "9388a136",
   "metadata": {},
   "source": [
    "# Set Comprehension "
   ]
  },
  {
   "cell_type": "code",
   "execution_count": 40,
   "id": "c0afcab5",
   "metadata": {},
   "outputs": [],
   "source": [
    "numbers = [1,2,3,4,5,6,7,1,2]"
   ]
  },
  {
   "cell_type": "code",
   "execution_count": 41,
   "id": "f47f598e",
   "metadata": {},
   "outputs": [],
   "source": [
    "set_numbers = {s for s in numbers if s in [1,2,3,4,5,6,1,2]}\n",
    "\n",
    "# set yapısı olduğu için tekrar eden sayılar olmaz."
   ]
  },
  {
   "cell_type": "code",
   "execution_count": 42,
   "id": "dddf270c",
   "metadata": {},
   "outputs": [
    {
     "data": {
      "text/plain": [
       "{1, 2, 3, 4, 5, 6}"
      ]
     },
     "execution_count": 42,
     "metadata": {},
     "output_type": "execute_result"
    }
   ],
   "source": [
    "set_numbers"
   ]
  },
  {
   "cell_type": "code",
   "execution_count": 45,
   "id": "618ede1f",
   "metadata": {},
   "outputs": [],
   "source": [
    "# Bu şekilde de yapılabilir.\n",
    "set_comp = {s for s in numbers}"
   ]
  },
  {
   "cell_type": "code",
   "execution_count": 46,
   "id": "99017016",
   "metadata": {},
   "outputs": [
    {
     "data": {
      "text/plain": [
       "{1, 2, 3, 4, 5, 6, 7}"
      ]
     },
     "execution_count": 46,
     "metadata": {},
     "output_type": "execute_result"
    }
   ],
   "source": [
    "set_comp"
   ]
  },
  {
   "cell_type": "markdown",
   "id": "b48baee4",
   "metadata": {},
   "source": [
    " # Dictionary comprehension"
   ]
  },
  {
   "cell_type": "code",
   "execution_count": 50,
   "id": "0cb3f222",
   "metadata": {},
   "outputs": [],
   "source": [
    "square_dict = {e:e*e for e in range(1,11)}\n",
    "\n",
    "# e değerleri (1 --> 10) dict için key olurken, e*e değerleri ise value olur."
   ]
  },
  {
   "cell_type": "code",
   "execution_count": 51,
   "id": "740a9235",
   "metadata": {},
   "outputs": [
    {
     "data": {
      "text/plain": [
       "{1: 1, 2: 4, 3: 9, 4: 16, 5: 25, 6: 36, 7: 49, 8: 64, 9: 81, 10: 100}"
      ]
     },
     "execution_count": 51,
     "metadata": {},
     "output_type": "execute_result"
    }
   ],
   "source": [
    "square_dict"
   ]
  },
  {
   "cell_type": "code",
   "execution_count": 52,
   "id": "33e23884",
   "metadata": {},
   "outputs": [
    {
     "data": {
      "text/plain": [
       "81"
      ]
     },
     "execution_count": 52,
     "metadata": {},
     "output_type": "execute_result"
    }
   ],
   "source": [
    "square_dict[9]"
   ]
  },
  {
   "cell_type": "markdown",
   "id": "d4ea9604",
   "metadata": {},
   "source": [
    " # Nested list comprehension"
   ]
  },
  {
   "cell_type": "code",
   "execution_count": 53,
   "id": "4860edb7",
   "metadata": {},
   "outputs": [],
   "source": [
    "m= [[ j for j in range(7) ] for i in range(5)]\n",
    "\n",
    "# i =0 iken j değerleri 0'dan 6 ya kadar ardı ardına yazılır.\n",
    "# i=1 olur ve tekrar j değerleri yazılır. Bu iç içe for döngüsüdür."
   ]
  },
  {
   "cell_type": "code",
   "execution_count": 55,
   "id": "eb0a93e6",
   "metadata": {},
   "outputs": [],
   "source": [
    "m= [[ j for j in range(7) ] for _ in range(5)] #yazılabilir."
   ]
  },
  {
   "cell_type": "code",
   "execution_count": 56,
   "id": "4e585224",
   "metadata": {},
   "outputs": [
    {
     "data": {
      "text/plain": [
       "[[0, 1, 2, 3, 4, 5, 6],\n",
       " [0, 1, 2, 3, 4, 5, 6],\n",
       " [0, 1, 2, 3, 4, 5, 6],\n",
       " [0, 1, 2, 3, 4, 5, 6],\n",
       " [0, 1, 2, 3, 4, 5, 6]]"
      ]
     },
     "execution_count": 56,
     "metadata": {},
     "output_type": "execute_result"
    }
   ],
   "source": [
    "m"
   ]
  },
  {
   "cell_type": "code",
   "execution_count": 57,
   "id": "ea750fe3",
   "metadata": {},
   "outputs": [],
   "source": [
    "m =[[10,11,12], [13,14], [15,16,17,18]]"
   ]
  },
  {
   "cell_type": "code",
   "execution_count": 58,
   "id": "d1795e63",
   "metadata": {},
   "outputs": [
    {
     "name": "stdout",
     "output_type": "stream",
     "text": [
      "[10, 11, 12]\n",
      "[13, 14]\n",
      "[15, 16, 17, 18]\n"
     ]
    }
   ],
   "source": [
    "for l in m:\n",
    "    print(l)"
   ]
  },
  {
   "cell_type": "code",
   "execution_count": 61,
   "id": "f892ef43",
   "metadata": {},
   "outputs": [
    {
     "name": "stdout",
     "output_type": "stream",
     "text": [
      "[10, 11, 12]\n",
      "10\n",
      "11\n",
      "12\n",
      "[13, 14]\n",
      "13\n",
      "14\n",
      "[15, 16, 17, 18]\n",
      "15\n",
      "16\n",
      "17\n",
      "18\n"
     ]
    }
   ],
   "source": [
    "new_m= []\n",
    "\n",
    "for l in m:\n",
    "    print(l)\n",
    "    for e in l:\n",
    "        new_m.append(e)\n",
    "        print(e)"
   ]
  },
  {
   "cell_type": "markdown",
   "id": "e6a3cec0",
   "metadata": {},
   "source": [
    "+ m listesinin içinde bulunan listelerdeki elemanlar sanki hepsi ayrı elemanmış gibi new_m listesine eklendiler.\n",
    "\n",
    "+ l : m listesinin elemanları (3) tane iken...... e: l listesinin elemanı olur.(9)"
   ]
  },
  {
   "cell_type": "code",
   "execution_count": 62,
   "id": "0b5c3ce0",
   "metadata": {},
   "outputs": [
    {
     "data": {
      "text/plain": [
       "[10, 11, 12, 13, 14, 15, 16, 17, 18]"
      ]
     },
     "execution_count": 62,
     "metadata": {},
     "output_type": "execute_result"
    }
   ],
   "source": [
    "new_m"
   ]
  },
  {
   "cell_type": "code",
   "execution_count": 63,
   "id": "77d0a47f",
   "metadata": {},
   "outputs": [
    {
     "data": {
      "text/plain": [
       "[[10, 11, 12], [13, 14], [15, 16, 17, 18]]"
      ]
     },
     "execution_count": 63,
     "metadata": {},
     "output_type": "execute_result"
    }
   ],
   "source": [
    "m"
   ]
  },
  {
   "cell_type": "code",
   "execution_count": 64,
   "id": "37c2bbc9",
   "metadata": {},
   "outputs": [],
   "source": [
    "# matrixi list comprehension ile flat etmek\n",
    "\n",
    "flatten_m = [e for l in m for e in l]\n",
    "\n",
    "# iç içe for döngüsüdür. m --> l --> e 'nin elemanı olur."
   ]
  },
  {
   "cell_type": "code",
   "execution_count": 65,
   "id": "0cf7b5bb",
   "metadata": {},
   "outputs": [
    {
     "data": {
      "text/plain": [
       "[10, 11, 12, 13, 14, 15, 16, 17, 18]"
      ]
     },
     "execution_count": 65,
     "metadata": {},
     "output_type": "execute_result"
    }
   ],
   "source": [
    "flatten_m"
   ]
  },
  {
   "cell_type": "code",
   "execution_count": 66,
   "id": "23bf506b",
   "metadata": {},
   "outputs": [],
   "source": [
    "#Sadece çift değerleri kabul edecek.\n",
    "\n",
    "flatten_m = [e for l in m for e in l if e % 2 ==0]\n",
    "\n",
    "# flatten_m listesine eklenecek elemanlar e değişkenine ait elemanlardır."
   ]
  },
  {
   "cell_type": "code",
   "execution_count": 67,
   "id": "1de8a4ce",
   "metadata": {},
   "outputs": [
    {
     "data": {
      "text/plain": [
       "[10, 12, 14, 16, 18]"
      ]
     },
     "execution_count": 67,
     "metadata": {},
     "output_type": "execute_result"
    }
   ],
   "source": [
    "flatten_m"
   ]
  }
 ],
 "metadata": {
  "kernelspec": {
   "display_name": "Python 3 (ipykernel)",
   "language": "python",
   "name": "python3"
  },
  "language_info": {
   "codemirror_mode": {
    "name": "ipython",
    "version": 3
   },
   "file_extension": ".py",
   "mimetype": "text/x-python",
   "name": "python",
   "nbconvert_exporter": "python",
   "pygments_lexer": "ipython3",
   "version": "3.11.5"
  }
 },
 "nbformat": 4,
 "nbformat_minor": 5
}
