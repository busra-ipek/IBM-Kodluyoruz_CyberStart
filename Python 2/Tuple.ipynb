{
 "cells": [
  {
   "cell_type": "markdown",
   "id": "fea255f0",
   "metadata": {},
   "source": [
    "# Tuple\n",
    "\n",
    "+ Tuple veri tipi listeler gibi birden çok veri tipini bir arda tutmamızı sağlar.\n",
    "\n",
    "+ Listelerden farklı olarak tuple'lar immutabledır. Yani değerleri değiştirilemez.\n",
    "\n",
    "+ Tuple elemanları () içerisinde tanımlanır.\n",
    "\n",
    "+ Tuplelar listeler gibi farklı veri tiplerinden oluşabilirler. Elemanları tuple bile olabilir.\n",
    "\n",
    "+ Listelerdeki gibi indexleme yapılabilir."
   ]
  },
  {
   "cell_type": "code",
   "execution_count": 1,
   "id": "1fea2710",
   "metadata": {},
   "outputs": [],
   "source": [
    "x=10\n",
    "y=34\n",
    "konum=(10,34)"
   ]
  },
  {
   "cell_type": "code",
   "execution_count": 5,
   "id": "3123e291",
   "metadata": {},
   "outputs": [
    {
     "data": {
      "text/plain": [
       "10"
      ]
     },
     "execution_count": 5,
     "metadata": {},
     "output_type": "execute_result"
    }
   ],
   "source": [
    "konum[0]  # 0 indexine sahip olan eleman gösterilir."
   ]
  },
  {
   "cell_type": "code",
   "execution_count": 6,
   "id": "14359223",
   "metadata": {},
   "outputs": [
    {
     "data": {
      "text/plain": [
       "(10, 34)"
      ]
     },
     "execution_count": 6,
     "metadata": {},
     "output_type": "execute_result"
    }
   ],
   "source": [
    "konum[:]\n",
    "# Tüm elemanlar gösterilir."
   ]
  },
  {
   "cell_type": "code",
   "execution_count": 7,
   "id": "27e51577",
   "metadata": {
    "collapsed": true
   },
   "outputs": [
    {
     "ename": "TypeError",
     "evalue": "'tuple' object does not support item assignment",
     "output_type": "error",
     "traceback": [
      "\u001b[1;31m---------------------------------------------------------------------------\u001b[0m",
      "\u001b[1;31mTypeError\u001b[0m                                 Traceback (most recent call last)",
      "Cell \u001b[1;32mIn[7], line 1\u001b[0m\n\u001b[1;32m----> 1\u001b[0m konum[\u001b[38;5;241m0\u001b[39m]\u001b[38;5;241m=\u001b[39m\u001b[38;5;241m100\u001b[39m\n",
      "\u001b[1;31mTypeError\u001b[0m: 'tuple' object does not support item assignment"
     ]
    }
   ],
   "source": [
    "konum[0]=100   # Tuple da eleman değerleri değiştirilemez."
   ]
  },
  {
   "cell_type": "code",
   "execution_count": 8,
   "id": "76ef4d3d",
   "metadata": {},
   "outputs": [],
   "source": [
    "t=(1,2,3,\"a\")"
   ]
  },
  {
   "cell_type": "code",
   "execution_count": 9,
   "id": "1cc1aebb",
   "metadata": {},
   "outputs": [
    {
     "data": {
      "text/plain": [
       "(1, 2, 3, 'a')"
      ]
     },
     "execution_count": 9,
     "metadata": {},
     "output_type": "execute_result"
    }
   ],
   "source": [
    "t"
   ]
  },
  {
   "cell_type": "code",
   "execution_count": 10,
   "id": "ba90034d",
   "metadata": {},
   "outputs": [],
   "source": [
    "t=((1,2),3)"
   ]
  },
  {
   "cell_type": "code",
   "execution_count": 11,
   "id": "46f00602",
   "metadata": {},
   "outputs": [
    {
     "data": {
      "text/plain": [
       "(1, 2)"
      ]
     },
     "execution_count": 11,
     "metadata": {},
     "output_type": "execute_result"
    }
   ],
   "source": [
    "t[0]"
   ]
  },
  {
   "cell_type": "code",
   "execution_count": 12,
   "id": "3ec34849",
   "metadata": {},
   "outputs": [
    {
     "data": {
      "text/plain": [
       "3"
      ]
     },
     "execution_count": 12,
     "metadata": {},
     "output_type": "execute_result"
    }
   ],
   "source": [
    "t[1]"
   ]
  },
  {
   "cell_type": "code",
   "execution_count": 14,
   "id": "f9b4f58f",
   "metadata": {},
   "outputs": [],
   "source": [
    "t=([1,2,3], 2 ,(1,2)) \n",
    "\n",
    "# Bu t isimli tuple int,listve tuple veri tiplerini tutmaktadır."
   ]
  },
  {
   "cell_type": "code",
   "execution_count": 15,
   "id": "506bac3c",
   "metadata": {},
   "outputs": [
    {
     "data": {
      "text/plain": [
       "([1, 2, 3], 2, (1, 2))"
      ]
     },
     "execution_count": 15,
     "metadata": {},
     "output_type": "execute_result"
    }
   ],
   "source": [
    "t"
   ]
  },
  {
   "cell_type": "code",
   "execution_count": 16,
   "id": "073f2af4",
   "metadata": {},
   "outputs": [],
   "source": [
    "t[0][0]=23 #tuple içindeki listenin ilk elemanının değerini değiştirir.\n",
    "\n",
    "\"\"\" t'nin 0 indexine sahip elemanı bir liste olduğu için değerleri\n",
    "değiştirilebilir. \"\"\""
   ]
  },
  {
   "cell_type": "code",
   "execution_count": 17,
   "id": "ce900f4a",
   "metadata": {},
   "outputs": [
    {
     "data": {
      "text/plain": [
       "([23, 2, 3], 2, (1, 2))"
      ]
     },
     "execution_count": 17,
     "metadata": {},
     "output_type": "execute_result"
    }
   ],
   "source": [
    "t"
   ]
  },
  {
   "cell_type": "markdown",
   "id": "610ea3a9",
   "metadata": {},
   "source": [
    "\n",
    "# Elemanların değerlerini değiştirmek\n",
    "\n",
    "+ x ve y' nin değerlerini değiştirmek istiyorsak..."
   ]
  },
  {
   "cell_type": "code",
   "execution_count": 18,
   "id": "c9db5188",
   "metadata": {},
   "outputs": [],
   "source": [
    "x=2\n",
    "y=3"
   ]
  },
  {
   "cell_type": "code",
   "execution_count": 19,
   "id": "36976794",
   "metadata": {},
   "outputs": [],
   "source": [
    "temp=x\n",
    "x=y\n",
    "y=temp"
   ]
  },
  {
   "cell_type": "code",
   "execution_count": 20,
   "id": "e5914414",
   "metadata": {},
   "outputs": [
    {
     "data": {
      "text/plain": [
       "3"
      ]
     },
     "execution_count": 20,
     "metadata": {},
     "output_type": "execute_result"
    }
   ],
   "source": [
    "x"
   ]
  },
  {
   "cell_type": "code",
   "execution_count": 21,
   "id": "df47d363",
   "metadata": {},
   "outputs": [
    {
     "data": {
      "text/plain": [
       "2"
      ]
     },
     "execution_count": 21,
     "metadata": {},
     "output_type": "execute_result"
    }
   ],
   "source": [
    "y"
   ]
  },
  {
   "cell_type": "markdown",
   "id": "532aebef",
   "metadata": {},
   "source": [
    "+ Yukarıdaki ifadeyi tuple ile 1 satırda yapabiliriz."
   ]
  },
  {
   "cell_type": "code",
   "execution_count": 22,
   "id": "08a554b7",
   "metadata": {},
   "outputs": [],
   "source": [
    "x=2\n",
    "y=3"
   ]
  },
  {
   "cell_type": "code",
   "execution_count": 23,
   "id": "36ad3ed7",
   "metadata": {},
   "outputs": [],
   "source": [
    "(x,y)=(y,x)"
   ]
  },
  {
   "cell_type": "code",
   "execution_count": 24,
   "id": "3ccdc3f5",
   "metadata": {},
   "outputs": [
    {
     "data": {
      "text/plain": [
       "3"
      ]
     },
     "execution_count": 24,
     "metadata": {},
     "output_type": "execute_result"
    }
   ],
   "source": [
    "x"
   ]
  },
  {
   "cell_type": "code",
   "execution_count": 25,
   "id": "271ccdf8",
   "metadata": {},
   "outputs": [
    {
     "data": {
      "text/plain": [
       "2"
      ]
     },
     "execution_count": 25,
     "metadata": {},
     "output_type": "execute_result"
    }
   ],
   "source": [
    "y"
   ]
  },
  {
   "cell_type": "markdown",
   "id": "7b078741",
   "metadata": {},
   "source": [
    "\n",
    "+ Python'da bir tuple tanımlarken aslında parantez koymamıza bile gerek yok. Çünkü 1,2,3,\"a,\"b\"... gibi ifdeleri parantezsiz belirtsek de python bu ifadeyi tuple olarak kabul eder.\n"
   ]
  },
  {
   "cell_type": "code",
   "execution_count": 26,
   "id": "b40f87eb",
   "metadata": {},
   "outputs": [
    {
     "data": {
      "text/plain": [
       "(1, 2, 3, 4)"
      ]
     },
     "execution_count": 26,
     "metadata": {},
     "output_type": "execute_result"
    }
   ],
   "source": [
    "1,2,3,4"
   ]
  },
  {
   "cell_type": "code",
   "execution_count": 27,
   "id": "e3b95603",
   "metadata": {},
   "outputs": [],
   "source": [
    "a=1,2,3,4"
   ]
  },
  {
   "cell_type": "code",
   "execution_count": 28,
   "id": "ef7bf444",
   "metadata": {},
   "outputs": [
    {
     "data": {
      "text/plain": [
       "(1, 2, 3, 4)"
      ]
     },
     "execution_count": 28,
     "metadata": {},
     "output_type": "execute_result"
    }
   ],
   "source": [
    "a"
   ]
  },
  {
   "cell_type": "code",
   "execution_count": 29,
   "id": "b0f630f7",
   "metadata": {},
   "outputs": [
    {
     "data": {
      "text/plain": [
       "tuple"
      ]
     },
     "execution_count": 29,
     "metadata": {},
     "output_type": "execute_result"
    }
   ],
   "source": [
    "type(a)"
   ]
  },
  {
   "cell_type": "code",
   "execution_count": 30,
   "id": "9d6723ed",
   "metadata": {},
   "outputs": [],
   "source": [
    "x=2\n",
    "y=3"
   ]
  },
  {
   "cell_type": "code",
   "execution_count": 31,
   "id": "2f0410a4",
   "metadata": {},
   "outputs": [],
   "source": [
    "x,y = y,x"
   ]
  },
  {
   "cell_type": "code",
   "execution_count": 32,
   "id": "f8025468",
   "metadata": {},
   "outputs": [
    {
     "data": {
      "text/plain": [
       "3"
      ]
     },
     "execution_count": 32,
     "metadata": {},
     "output_type": "execute_result"
    }
   ],
   "source": [
    "x"
   ]
  },
  {
   "cell_type": "code",
   "execution_count": 33,
   "id": "bf8232eb",
   "metadata": {},
   "outputs": [
    {
     "data": {
      "text/plain": [
       "2"
      ]
     },
     "execution_count": 33,
     "metadata": {},
     "output_type": "execute_result"
    }
   ],
   "source": [
    "y"
   ]
  },
  {
   "cell_type": "markdown",
   "id": "85cc1789",
   "metadata": {},
   "source": [
    "+ Eleman değiştirme işlemi listelerle de yapılabilir."
   ]
  },
  {
   "cell_type": "code",
   "execution_count": 34,
   "id": "a030f408",
   "metadata": {},
   "outputs": [],
   "source": [
    "x=2    \n",
    "y=3"
   ]
  },
  {
   "cell_type": "code",
   "execution_count": 35,
   "id": "29ef9186",
   "metadata": {},
   "outputs": [],
   "source": [
    "[x,y] =[y,x]"
   ]
  },
  {
   "cell_type": "code",
   "execution_count": 36,
   "id": "06c68495",
   "metadata": {},
   "outputs": [
    {
     "data": {
      "text/plain": [
       "3"
      ]
     },
     "execution_count": 36,
     "metadata": {},
     "output_type": "execute_result"
    }
   ],
   "source": [
    "x"
   ]
  },
  {
   "cell_type": "code",
   "execution_count": 37,
   "id": "5ab6f488",
   "metadata": {},
   "outputs": [
    {
     "data": {
      "text/plain": [
       "2"
      ]
     },
     "execution_count": 37,
     "metadata": {},
     "output_type": "execute_result"
    }
   ],
   "source": [
    "y"
   ]
  },
  {
   "cell_type": "markdown",
   "id": "0920ba02",
   "metadata": {},
   "source": [
    "\n",
    "\n",
    "# Tuple ve List'lerde eleman kontrolü\n",
    "\n",
    "+ Belirli bir elemanın listede veya tuple'da var mı kontrol edilmesi \" in \" keywordu ile yapılır.\n",
    "\n",
    "+ Sorgulanacak Değer........in........Liste/Tuple Adı\n"
   ]
  },
  {
   "cell_type": "code",
   "execution_count": 38,
   "id": "5f2c9b42",
   "metadata": {},
   "outputs": [],
   "source": [
    "l=[1,2,3,4]"
   ]
  },
  {
   "cell_type": "code",
   "execution_count": 39,
   "id": "499dd247",
   "metadata": {},
   "outputs": [
    {
     "data": {
      "text/plain": [
       "False"
      ]
     },
     "execution_count": 39,
     "metadata": {},
     "output_type": "execute_result"
    }
   ],
   "source": [
    "40 in l"
   ]
  },
  {
   "cell_type": "code",
   "execution_count": 40,
   "id": "d8528f58",
   "metadata": {},
   "outputs": [
    {
     "data": {
      "text/plain": [
       "True"
      ]
     },
     "execution_count": 40,
     "metadata": {},
     "output_type": "execute_result"
    }
   ],
   "source": [
    "2 in l"
   ]
  },
  {
   "cell_type": "code",
   "execution_count": 41,
   "id": "5e54dad3",
   "metadata": {},
   "outputs": [],
   "source": [
    "t=(1,2,3,4)"
   ]
  },
  {
   "cell_type": "code",
   "execution_count": 42,
   "id": "5bdb58d3",
   "metadata": {},
   "outputs": [
    {
     "data": {
      "text/plain": [
       "False"
      ]
     },
     "execution_count": 42,
     "metadata": {},
     "output_type": "execute_result"
    }
   ],
   "source": [
    "45 in t"
   ]
  },
  {
   "cell_type": "code",
   "execution_count": 43,
   "id": "96a01635",
   "metadata": {},
   "outputs": [
    {
     "data": {
      "text/plain": [
       "True"
      ]
     },
     "execution_count": 43,
     "metadata": {},
     "output_type": "execute_result"
    }
   ],
   "source": [
    "3 in t"
   ]
  }
 ],
 "metadata": {
  "kernelspec": {
   "display_name": "Python 3 (ipykernel)",
   "language": "python",
   "name": "python3"
  },
  "language_info": {
   "codemirror_mode": {
    "name": "ipython",
    "version": 3
   },
   "file_extension": ".py",
   "mimetype": "text/x-python",
   "name": "python",
   "nbconvert_exporter": "python",
   "pygments_lexer": "ipython3",
   "version": "3.11.5"
  }
 },
 "nbformat": 4,
 "nbformat_minor": 5
}
