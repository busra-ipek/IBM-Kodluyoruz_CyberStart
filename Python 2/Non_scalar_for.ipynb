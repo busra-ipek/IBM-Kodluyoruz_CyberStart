{
 "cells": [
  {
   "cell_type": "markdown",
   "id": "98ca2dfa",
   "metadata": {},
   "source": [
    "\n",
    "# Non scalar veri tiplerinde For\n",
    "\n",
    "+ list,tuple ve dictionary non-scalar veri tipleridir. Burada for kullanarak bu yapıların elemanlarına iterasyon yapılacaktır.\n",
    "\n",
    "+ for <değişken>......  in......-nesne-"
   ]
  },
  {
   "cell_type": "markdown",
   "id": "5e481f00",
   "metadata": {},
   "source": [
    "\n",
    "# Listelerde iterasyon\n"
   ]
  },
  {
   "cell_type": "code",
   "execution_count": 24,
   "id": "57f20b3a",
   "metadata": {},
   "outputs": [],
   "source": [
    "notlar=[90,72,81,54]"
   ]
  },
  {
   "cell_type": "code",
   "execution_count": 3,
   "id": "40ab9717",
   "metadata": {},
   "outputs": [
    {
     "name": "stdout",
     "output_type": "stream",
     "text": [
      "90\n",
      "72\n",
      "81\n",
      "54\n"
     ]
    }
   ],
   "source": [
    "for e in notlar:\n",
    "    print(e)"
   ]
  },
  {
   "cell_type": "markdown",
   "id": "e93dbaf5",
   "metadata": {},
   "source": [
    "\n",
    "+ Bu sınıftaki not ortalamasına bakmak istiyorsak"
   ]
  },
  {
   "cell_type": "code",
   "execution_count": 4,
   "id": "8792e08a",
   "metadata": {},
   "outputs": [
    {
     "name": "stdout",
     "output_type": "stream",
     "text": [
      "Sınıfın not ortalaması:  74.25\n"
     ]
    }
   ],
   "source": [
    "toplam=0\n",
    "\n",
    "for e in notlar:\n",
    "    toplam=toplam + e   #toplam+=e\n",
    "    \n",
    "ortalama=toplam/ len(notlar)\n",
    "print(\"Sınıfın not ortalaması: \",ortalama)\n",
    "    "
   ]
  },
  {
   "cell_type": "markdown",
   "id": "a86bafe8",
   "metadata": {},
   "source": [
    "+ Yukarıda e değişkeninin herhangi bir anlamı yoktur, istersen adını farklı bir şey de koyabilirsin."
   ]
  },
  {
   "cell_type": "markdown",
   "id": "41bc9df1",
   "metadata": {},
   "source": [
    "+ Bu ortlamanın aynısını range() fonksiyonu ile de yapabilirdik\n",
    "\n",
    "+ for e in notlar diyince ilk iterasyonda e nin değeri 90, ikincisinde 72 ... olarak devam etti\n",
    "\n",
    "+  range() ile indexlerde iterasyon yapıp indexing ile değerlerine de ulaşabilirdim (range belirli bir listenin indexlerinde iterasyon yapmamı sağlamıyor, range(len(notlar)) diyince bize 0,1,2 .. len(notlar)-1 sayılarını verecek, bunlar da listenin indexleriyle örtüşüyor, yoksa range() index verir diye birşey yoktur.)\n"
   ]
  },
  {
   "cell_type": "code",
   "execution_count": 9,
   "id": "8aef6d64",
   "metadata": {},
   "outputs": [
    {
     "name": "stdout",
     "output_type": "stream",
     "text": [
      "iteration:  1\n",
      "iteration:  2\n",
      "iteration:  3\n"
     ]
    }
   ],
   "source": [
    "for i in range(1,4):\n",
    "    print(\"iteration: \",i)"
   ]
  },
  {
   "cell_type": "code",
   "execution_count": 7,
   "id": "1c3f1a14",
   "metadata": {},
   "outputs": [
    {
     "name": "stdout",
     "output_type": "stream",
     "text": [
      "Sınıfın not ortalaması:  74.25\n"
     ]
    }
   ],
   "source": [
    "toplam=0\n",
    "\n",
    "for i in range(len(notlar)):\n",
    "    toplam+= notlar[i]     # i değişkeni sırasıyla 0,1,2,3 değerlerini alır.\n",
    "\n",
    "ortalama=toplam/ len(notlar)\n",
    "print(\"Sınıfın not ortalaması: \",ortalama)"
   ]
  },
  {
   "cell_type": "markdown",
   "id": "732bfe2d",
   "metadata": {},
   "source": [
    "\n",
    "+ Diyelim ki her öğrenicinin puanı 5 artsın.Listenin indexlerine erişip değerleri güncelleyebiliriz."
   ]
  },
  {
   "cell_type": "code",
   "execution_count": 34,
   "id": "051aa96b",
   "metadata": {},
   "outputs": [],
   "source": [
    "notlar=[90,72,81,54]"
   ]
  },
  {
   "cell_type": "code",
   "execution_count": 26,
   "id": "210553d5",
   "metadata": {},
   "outputs": [
    {
     "name": "stdout",
     "output_type": "stream",
     "text": [
      "90\n"
     ]
    }
   ],
   "source": [
    "for e in notlar:\n",
    "    print(e)\n",
    "    break\n",
    "# e listenin ilk değerini alır ve for döngüsünü bitirir."
   ]
  },
  {
   "cell_type": "code",
   "execution_count": 21,
   "id": "ff554d5e",
   "metadata": {},
   "outputs": [
    {
     "name": "stdout",
     "output_type": "stream",
     "text": [
      "[95, 77, 86, 59]\n"
     ]
    }
   ],
   "source": [
    "for i in range(len(notlar)):\n",
    "    notlar[i]=notlar[i]+ 5\n",
    "\n",
    "print(notlar)"
   ]
  },
  {
   "cell_type": "markdown",
   "id": "b0ad3519",
   "metadata": {},
   "source": [
    "\n",
    "+ Burada e değişkeni sadece notlar listesinin içindeki değerlere sırasıyla eşit olur. e değişkenini değiştirmek listenin elemanlarında herhangi bir değişiklik yapmaz."
   ]
  },
  {
   "cell_type": "code",
   "execution_count": null,
   "id": "b84f7e42",
   "metadata": {},
   "outputs": [],
   "source": [
    "for e in notlar:\n",
    "    print(e)"
   ]
  },
  {
   "cell_type": "code",
   "execution_count": 16,
   "id": "8e391b9c",
   "metadata": {},
   "outputs": [
    {
     "name": "stdout",
     "output_type": "stream",
     "text": [
      "69\n"
     ]
    }
   ],
   "source": [
    "for e in notlar:\n",
    "    e= e + 10\n",
    "# Döngüden çıkarken son e değeri e= 59 + 10 olur. print ifadesi de son e değerini yazdırır.\n",
    "    \n",
    "print(e)"
   ]
  },
  {
   "cell_type": "code",
   "execution_count": 30,
   "id": "8750b001",
   "metadata": {},
   "outputs": [
    {
     "name": "stdout",
     "output_type": "stream",
     "text": [
      "90\n",
      "100\n",
      "[90, 72, 81, 54]\n",
      "--------\n",
      "72\n",
      "82\n",
      "[90, 72, 81, 54]\n",
      "--------\n",
      "81\n",
      "91\n",
      "[90, 72, 81, 54]\n",
      "--------\n",
      "54\n",
      "64\n",
      "[90, 72, 81, 54]\n",
      "--------\n",
      "[90, 72, 81, 54]\n"
     ]
    }
   ],
   "source": [
    "for e in notlar:\n",
    "    print(e)\n",
    "    e= e + 10\n",
    "    print(e)\n",
    "    print(notlar)\n",
    "    print(\"--------\")\n",
    "\n",
    "print(notlar)"
   ]
  },
  {
   "cell_type": "markdown",
   "id": "79500416",
   "metadata": {},
   "source": [
    "\n",
    "+ Notlar listesini güncellemek istiyorsak range(ile indexlerinde iterasyon yaparız."
   ]
  },
  {
   "cell_type": "code",
   "execution_count": 32,
   "id": "1705f5de",
   "metadata": {},
   "outputs": [
    {
     "name": "stdout",
     "output_type": "stream",
     "text": [
      "[95, 77, 86, 59]\n"
     ]
    }
   ],
   "source": [
    "for i in range(len(notlar)):\n",
    "    notlar[i] += 5\n",
    "\n",
    "print(notlar)"
   ]
  },
  {
   "cell_type": "code",
   "execution_count": 37,
   "id": "046e7b7a",
   "metadata": {},
   "outputs": [],
   "source": [
    "notlar=[90,72,81,54]"
   ]
  },
  {
   "cell_type": "markdown",
   "id": "f835f613",
   "metadata": {},
   "source": [
    "\n",
    "+ Continue: döngünün bir sonraki iterasyondan devam etmesini sağlar.\n",
    "\n",
    "+ Öğretmen 2.öğrencinin kağıdını doğru okumuş, 2.öğrenci (index=1) hariç her öğrencinin notunu 5 arttıracak."
   ]
  },
  {
   "cell_type": "code",
   "execution_count": 38,
   "id": "2488c88a",
   "metadata": {},
   "outputs": [
    {
     "name": "stdout",
     "output_type": "stream",
     "text": [
      "[95, 72, 86, 59]\n"
     ]
    }
   ],
   "source": [
    "for e in range(len(notlar)):\n",
    "    if (e==1):\n",
    "        continue\n",
    "    notlar[e]= notlar[e] + 5\n",
    "# 2.not hariç her not 5 puan artar.    \n",
    "print(notlar)"
   ]
  },
  {
   "cell_type": "markdown",
   "id": "2f2c2967",
   "metadata": {},
   "source": [
    "\n",
    "+ Break: Döngü içerisinde belirli bir koşul sağlandığı zaman döngüden çıkılmasını/bitirilmesini sağlar.\n",
    "\n",
    "+ Diyelim ki bir liste içinde belirli bir eleman var mı diye bakacağız. Elemanı bulunca aramaya devam edilmeyecek.\n",
    "\n",
    "+ İlk kullanıcıya hangi sayıyı aradığını soracağız, sonra bu sayı var mı diye bakacağız.\n"
   ]
  },
  {
   "cell_type": "code",
   "execution_count": 47,
   "id": "c7845f1d",
   "metadata": {},
   "outputs": [
    {
     "name": "stdout",
     "output_type": "stream",
     "text": [
      "7\n"
     ]
    }
   ],
   "source": [
    "liste1=[1,2,3,4,6,7,9,12,2,432,13,21]\n",
    "sayi=12\n",
    "\n",
    "for e in range(len(liste1)):\n",
    "    if(sayi==liste1[e]):\n",
    "        break\n",
    "print(e)"
   ]
  },
  {
   "cell_type": "code",
   "execution_count": 50,
   "id": "d90a62e2",
   "metadata": {},
   "outputs": [
    {
     "name": "stdout",
     "output_type": "stream",
     "text": [
      "Aradığınız sayı kaçtır? 100\n",
      "2\n",
      "3\n",
      "40\n",
      "15\n",
      "100\n",
      "Buldum sayıyı!\n"
     ]
    }
   ],
   "source": [
    "sayi1=int(input(\"Aradığınız sayı kaçtır? \"))\n",
    "\n",
    "l=[2,3,40,15,100,1,24]\n",
    "\n",
    "for e in l:\n",
    "    print(e)\n",
    "    if (sayi1==e):\n",
    "        print(\"Buldum sayıyı!\")\n",
    "        break"
   ]
  },
  {
   "cell_type": "markdown",
   "id": "1744b7b8",
   "metadata": {},
   "source": [
    "\n",
    "# Tuple' larda iterasyon\n",
    "\n",
    "+ Listelerde iterasyondan hiçbir farkı yoktur. Sadece tupleda değerleri güncelleyemiyoruz. Bunun sebebide değerlerin immutable olmasındandır."
   ]
  },
  {
   "cell_type": "code",
   "execution_count": 51,
   "id": "3ae5523d",
   "metadata": {},
   "outputs": [],
   "source": [
    "t=(1,2,3,4)"
   ]
  },
  {
   "cell_type": "code",
   "execution_count": 52,
   "id": "44b76b6c",
   "metadata": {},
   "outputs": [
    {
     "name": "stdout",
     "output_type": "stream",
     "text": [
      "1\n",
      "2\n",
      "3\n",
      "4\n"
     ]
    }
   ],
   "source": [
    "for e in t:\n",
    "    print(e)"
   ]
  },
  {
   "cell_type": "code",
   "execution_count": 53,
   "id": "fb8352e2",
   "metadata": {},
   "outputs": [
    {
     "name": "stdout",
     "output_type": "stream",
     "text": [
      "10\n"
     ]
    }
   ],
   "source": [
    "toplam = 0\n",
    "\n",
    "for e in t:\n",
    "    toplam += e\n",
    "    \n",
    "print(toplam)"
   ]
  },
  {
   "cell_type": "code",
   "execution_count": 57,
   "id": "dd93f283",
   "metadata": {},
   "outputs": [
    {
     "name": "stdout",
     "output_type": "stream",
     "text": [
      "1\n",
      "2\n",
      "3\n",
      "4\n"
     ]
    }
   ],
   "source": [
    "for i in range(len(t)):\n",
    "    print(t[i])"
   ]
  },
  {
   "cell_type": "code",
   "execution_count": 58,
   "id": "f7b3a3ec",
   "metadata": {
    "collapsed": true
   },
   "outputs": [
    {
     "ename": "TypeError",
     "evalue": "'tuple' object does not support item assignment",
     "output_type": "error",
     "traceback": [
      "\u001b[1;31m---------------------------------------------------------------------------\u001b[0m",
      "\u001b[1;31mTypeError\u001b[0m                                 Traceback (most recent call last)",
      "Cell \u001b[1;32mIn[58], line 2\u001b[0m\n\u001b[0;32m      1\u001b[0m \u001b[38;5;28;01mfor\u001b[39;00m i \u001b[38;5;129;01min\u001b[39;00m \u001b[38;5;28mrange\u001b[39m(\u001b[38;5;28mlen\u001b[39m(t)):\n\u001b[1;32m----> 2\u001b[0m     t[i] \u001b[38;5;241m+\u001b[39m\u001b[38;5;241m=\u001b[39m\u001b[38;5;241m2\u001b[39m\n",
      "\u001b[1;31mTypeError\u001b[0m: 'tuple' object does not support item assignment"
     ]
    }
   ],
   "source": [
    "for i in range(len(t)):\n",
    "    t[i] +=2\n",
    "# Burada hata verir, çünkü tuple değerleri değiştirelemez."
   ]
  },
  {
   "cell_type": "markdown",
   "id": "32f13dd9",
   "metadata": {},
   "source": [
    "\n",
    "# Dictionary'lerde iterasyon\n",
    "\n",
    "+ Burada durum biraz farklıdır. Çünkü default olarak elemanlarda dolaş diyince key değerlerinde iterasyon yapılır.\n",
    "\n",
    "+ İterasyon yapıldığında sadece key değerleri gösterilir.\n",
    "\n"
   ]
  },
  {
   "cell_type": "code",
   "execution_count": 59,
   "id": "0c4cacbc",
   "metadata": {},
   "outputs": [],
   "source": [
    "dict= {\"student_1\":[90,89], \"student_2\":[80,83], \"student_3\":[72,68]}"
   ]
  },
  {
   "cell_type": "code",
   "execution_count": 61,
   "id": "64892893",
   "metadata": {},
   "outputs": [
    {
     "name": "stdout",
     "output_type": "stream",
     "text": [
      "student_1\n",
      "student_2\n",
      "student_3\n"
     ]
    }
   ],
   "source": [
    "for k in dict:\n",
    "    print(k)\n",
    "#key değerleri gösterilir."
   ]
  },
  {
   "cell_type": "markdown",
   "id": "a49d24be",
   "metadata": {},
   "source": [
    "\n",
    "+ Dictionaryde value değerlerine ulaşmak istiyorsak..."
   ]
  },
  {
   "cell_type": "code",
   "execution_count": 63,
   "id": "94e4af1a",
   "metadata": {},
   "outputs": [
    {
     "name": "stdout",
     "output_type": "stream",
     "text": [
      "[90, 89]\n",
      "[80, 83]\n",
      "[72, 68]\n"
     ]
    }
   ],
   "source": [
    "for k in dict:\n",
    "    value=dict[k]\n",
    "    print(value)\n",
    "\n",
    "#Sadece value değerleri gösterilir."
   ]
  },
  {
   "cell_type": "markdown",
   "id": "65fb9f8d",
   "metadata": {},
   "source": [
    "\n",
    "+ Veya dict.values() diyerek value'larında iterasyon yapabilirim. Burada for <değişken> in <obje> yapısında <değişken> int vs gibi şeyler değil liste gibi yapılar da olabilir iterasyon içerisinde, burada da öyle oldu\n",
    "\n",
    "+ bu .values() dan dolayı olan bir şey değil, dictionary'nin value'ları int olsa böyle olmazdı"
   ]
  },
  {
   "cell_type": "code",
   "execution_count": 64,
   "id": "97ae0510",
   "metadata": {},
   "outputs": [],
   "source": [
    "d= {\"student_1\":90, \"student_2\":80, \"student_3\":72}"
   ]
  },
  {
   "cell_type": "code",
   "execution_count": 65,
   "id": "cf154d1a",
   "metadata": {},
   "outputs": [
    {
     "name": "stdout",
     "output_type": "stream",
     "text": [
      "90\n",
      "80\n",
      "72\n"
     ]
    }
   ],
   "source": [
    "for v in d.values():\n",
    "    print(v)"
   ]
  },
  {
   "cell_type": "code",
   "execution_count": 66,
   "id": "148662bb",
   "metadata": {},
   "outputs": [],
   "source": [
    "dict= {\"student_1\":[90,89], \"student_2\":[80,83], \"student_3\":[72,68]}"
   ]
  },
  {
   "cell_type": "code",
   "execution_count": 68,
   "id": "45bb6d98",
   "metadata": {},
   "outputs": [
    {
     "name": "stdout",
     "output_type": "stream",
     "text": [
      "[90, 89]\n",
      "[80, 83]\n",
      "[72, 68]\n"
     ]
    }
   ],
   "source": [
    "for v in dict.values():\n",
    "    print(v)\n",
    "# Burada v her iterasyonda  int'dır."
   ]
  },
  {
   "cell_type": "markdown",
   "id": "0eb1a06a",
   "metadata": {},
   "source": [
    "+ 85'den fazla alan biri var mı diye bakalım ve bu kişi kim olduğunu bulmak isteyelim.\n",
    "\n",
    "+ for döngüsünden keys değişkeni sırasıyla key değerlerini alır. d[keys] ifadesi de value değerlerine eşit olur."
   ]
  },
  {
   "cell_type": "code",
   "execution_count": 71,
   "id": "d9dc165f",
   "metadata": {},
   "outputs": [
    {
     "name": "stdout",
     "output_type": "stream",
     "text": [
      "student_1 notu  90\n",
      "student_2 notu  80\n"
     ]
    }
   ],
   "source": [
    "d= {\"student_1\":90, \"student_2\":80, \"student_3\":72}\n",
    "\n",
    "for keys in d:\n",
    "    values=d[keys]  #d[key]=value\n",
    "    if(values >= 80):\n",
    "        print(keys, \"notu \" ,d[keys])\n"
   ]
  },
  {
   "cell_type": "code",
   "execution_count": 72,
   "id": "3f2ac2d3",
   "metadata": {},
   "outputs": [
    {
     "name": "stdout",
     "output_type": "stream",
     "text": [
      "student_1\n"
     ]
    }
   ],
   "source": [
    "for k in d:\n",
    "    value=d[k]\n",
    "    \n",
    "    if value > 85 :\n",
    "        print(k)"
   ]
  },
  {
   "cell_type": "markdown",
   "id": "2ca84d67",
   "metadata": {},
   "source": [
    "\n",
    "+ Aynı anda hem key hem de value değerlerinde iterasyon yapmak için..\n",
    "\n",
    "+ Variable unpacking konusunda bir tuple, liste gibi yapıların değerlerini birden çok değişkene tek seferde eşitlemeyi görmüştük. Bu durumun aynısı iterasyonda da yapabiliriz."
   ]
  },
  {
   "cell_type": "code",
   "execution_count": 73,
   "id": "6e864538",
   "metadata": {},
   "outputs": [
    {
     "name": "stdout",
     "output_type": "stream",
     "text": [
      "key değeri:  student_1 value değeri:  90\n",
      "key değeri:  student_2 value değeri:  80\n",
      "key değeri:  student_3 value değeri:  72\n"
     ]
    }
   ],
   "source": [
    "for k,v in d.items():\n",
    "    print(\"key değeri: \", k, \"value değeri: \",v)"
   ]
  }
 ],
 "metadata": {
  "kernelspec": {
   "display_name": "Python 3 (ipykernel)",
   "language": "python",
   "name": "python3"
  },
  "language_info": {
   "codemirror_mode": {
    "name": "ipython",
    "version": 3
   },
   "file_extension": ".py",
   "mimetype": "text/x-python",
   "name": "python",
   "nbconvert_exporter": "python",
   "pygments_lexer": "ipython3",
   "version": "3.11.5"
  }
 },
 "nbformat": 4,
 "nbformat_minor": 5
}
