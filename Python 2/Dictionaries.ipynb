{
 "cells": [
  {
   "cell_type": "markdown",
   "id": "147562b3",
   "metadata": {},
   "source": [
    "# Dictionaries"
   ]
  },
  {
   "cell_type": "code",
   "execution_count": 1,
   "id": "441a7251",
   "metadata": {},
   "outputs": [],
   "source": [
    "#Listeler ile üç öğrencinin notları tutulabilir.\n",
    "\n",
    "notlar= [80,72,95]"
   ]
  },
  {
   "cell_type": "markdown",
   "id": "f6505f27",
   "metadata": {},
   "source": [
    "\n",
    "+ Yukarıdaki listeye göre ilk eleman 1.öğrenciyi, ikinci eleman 2.öğrenciyi... gösterir.\n",
    "\n",
    "+ Liste kullanarak aynı zamanda bu notlara sahip olan öğrencilerin isimlerinide tutmak istiyorsak yeni bir  liste oluşturmamız gerekir.\n",
    "\n",
    "+ Yeni oluşturacağımız liste ile notlar listesinin eleman sayısı aynı olmalıdır. Aralarındaki ilişkiye göre notlar[0] ilk öğrencinin notunu, isim[0] ise ilk öğrencinin ismini verir.\n"
   ]
  },
  {
   "cell_type": "code",
   "execution_count": 2,
   "id": "01340644",
   "metadata": {},
   "outputs": [],
   "source": [
    "isim=[\"Deniz\",\"Ege\",\"Gizem\"]"
   ]
  },
  {
   "cell_type": "code",
   "execution_count": 3,
   "id": "f44665e2",
   "metadata": {},
   "outputs": [
    {
     "data": {
      "text/plain": [
       "'Deniz'"
      ]
     },
     "execution_count": 3,
     "metadata": {},
     "output_type": "execute_result"
    }
   ],
   "source": [
    "isim[0]"
   ]
  },
  {
   "cell_type": "code",
   "execution_count": 4,
   "id": "0c9a55b7",
   "metadata": {},
   "outputs": [
    {
     "data": {
      "text/plain": [
       "80"
      ]
     },
     "execution_count": 4,
     "metadata": {},
     "output_type": "execute_result"
    }
   ],
   "source": [
    "notlar[0]"
   ]
  },
  {
   "cell_type": "code",
   "execution_count": 6,
   "id": "feb2c136",
   "metadata": {},
   "outputs": [
    {
     "name": "stdout",
     "output_type": "stream",
     "text": [
      "Deniz adlı öğrencinin notu:  80\n"
     ]
    }
   ],
   "source": [
    "print(isim[0], \"adlı öğrencinin notu: \",notlar[0])"
   ]
  },
  {
   "cell_type": "markdown",
   "id": "ef341421",
   "metadata": {},
   "source": [
    "\n",
    "+ Öğrenci numaralarını  da eklemek istersek yine yeni bir liste oluşturmamız gerekiyor.\n",
    "\n",
    "+ Bu durumda yeni özellik eklemek için yeni bir liste oluşturmak gerekiyor.\n",
    "\n",
    "\n"
   ]
  },
  {
   "cell_type": "markdown",
   "id": "5c382460",
   "metadata": {},
   "source": [
    "\n",
    "+ Her eklenen özellik için yeni liste oluşturmak istemiyorsak dictionary veri yapısını kullanırız.\n",
    "\n",
    "+ Dictionary yapısının elemanlarına erişmek için belirli key'ler kullanılır ve kullanılan key'ler bize value'leri verir.\n",
    "\n",
    "+ Dictionaryleri süslü parantez - {} kullanarak tanımlarız.\n",
    "\n",
    "+ Liste: [] Tuple:() Dictionary: {}\n",
    "\n",
    "+ Dictionary yapısı {key1:value1, key2:value2, key3:value3 ...}şeklindedir.\n",
    "\n"
   ]
  },
  {
   "cell_type": "markdown",
   "id": "e010164a",
   "metadata": {},
   "source": [
    "\n",
    "+ İçerisindeki değerlere ulaşmak için diğer non-scalar veri tiplerinde olduğu gibi [] kullanılır fakat dictionary'lerin elemanlarına ulaşmak için indexler değil belirlediğimiz key'ler kullanılır.\n",
    "\n",
    "+ Dictionary'lerin keyleri immutable (değiştirelemez) yapıdadırlar. Value'leri ise mutable (değiştirilebilir) ve immutable yapıda olabilir. \n",
    "\n",
    "+ Veriler ise int,float,bool,string,list,tuple,setve dictionary olabilir.\n"
   ]
  },
  {
   "cell_type": "code",
   "execution_count": 7,
   "id": "bc57ab5d",
   "metadata": {},
   "outputs": [],
   "source": [
    "notlar={\"Deniz\":80 ,\"Ege\": 72, \"Gizem\": 95}"
   ]
  },
  {
   "cell_type": "code",
   "execution_count": 8,
   "id": "07d54e6b",
   "metadata": {},
   "outputs": [
    {
     "data": {
      "text/plain": [
       "72"
      ]
     },
     "execution_count": 8,
     "metadata": {},
     "output_type": "execute_result"
    }
   ],
   "source": [
    "notlar[\"Ege\"]"
   ]
  },
  {
   "cell_type": "code",
   "execution_count": 10,
   "id": "842b29a1",
   "metadata": {},
   "outputs": [],
   "source": [
    "ogrenciler = {\"Deniz\": {\"not\":80,\"ogrenci_no\":703}, \"Ege\": {\"not\":72,\"ogrenci_no\":408}, \"Gizem\": {\"not\":95, \"ogrenci_no\":690}}"
   ]
  },
  {
   "cell_type": "code",
   "execution_count": 11,
   "id": "c1ba6caf",
   "metadata": {
    "scrolled": true
   },
   "outputs": [
    {
     "data": {
      "text/plain": [
       "72"
      ]
     },
     "execution_count": 11,
     "metadata": {},
     "output_type": "execute_result"
    }
   ],
   "source": [
    "ogrenciler[\"Ege\"][\"not\"]"
   ]
  },
  {
   "cell_type": "code",
   "execution_count": 14,
   "id": "ec7a849f",
   "metadata": {},
   "outputs": [
    {
     "data": {
      "text/plain": [
       "{'not': 95, 'ogrenci_no': 690}"
      ]
     },
     "execution_count": 14,
     "metadata": {},
     "output_type": "execute_result"
    }
   ],
   "source": [
    "ogrenciler[\"Gizem\"]"
   ]
  },
  {
   "cell_type": "code",
   "execution_count": 12,
   "id": "dbb6eb2f",
   "metadata": {},
   "outputs": [
    {
     "data": {
      "text/plain": [
       "408"
      ]
     },
     "execution_count": 12,
     "metadata": {},
     "output_type": "execute_result"
    }
   ],
   "source": [
    "ogrenciler[\"Ege\"][\"ogrenci_no\"]"
   ]
  },
  {
   "cell_type": "markdown",
   "id": "e5f69683",
   "metadata": {},
   "source": [
    "\n",
    "# Olmayan bir elemanı sorgulama\n",
    "\n",
    "+ Olmayan bir key ile sorgulama yaparsak hata verir."
   ]
  },
  {
   "cell_type": "code",
   "execution_count": 15,
   "id": "966c8fcd",
   "metadata": {
    "collapsed": true
   },
   "outputs": [
    {
     "ename": "KeyError",
     "evalue": "'Murat'",
     "output_type": "error",
     "traceback": [
      "\u001b[1;31m---------------------------------------------------------------------------\u001b[0m",
      "\u001b[1;31mKeyError\u001b[0m                                  Traceback (most recent call last)",
      "Cell \u001b[1;32mIn[15], line 1\u001b[0m\n\u001b[1;32m----> 1\u001b[0m ogrenciler[\u001b[38;5;124m\"\u001b[39m\u001b[38;5;124mMurat\u001b[39m\u001b[38;5;124m\"\u001b[39m]\n",
      "\u001b[1;31mKeyError\u001b[0m: 'Murat'"
     ]
    }
   ],
   "source": [
    "#ogrenciler adlı dictionaryde Murat adında bir key yoktur.\n",
    "ogrenciler[\"Murat\"]"
   ]
  },
  {
   "cell_type": "markdown",
   "id": "820c787d",
   "metadata": {},
   "source": [
    "\n",
    "# Integer indexing ile eleman sorgusu yapma\n",
    "\n",
    "+ Dictionary'ler key-value mantığı ile çalışırlar. Bu yüzden notlar[0] gibi bir sorgu yaptığımızda \" 0 adında bir key var mı? \" diye bakıyor 0 adında bir key yoksa hata veriyor.\n"
   ]
  },
  {
   "cell_type": "code",
   "execution_count": 16,
   "id": "69e555d6",
   "metadata": {
    "scrolled": true
   },
   "outputs": [
    {
     "data": {
      "text/plain": [
       "{'Deniz': 80, 'Ege': 72, 'Gizem': 95}"
      ]
     },
     "execution_count": 16,
     "metadata": {},
     "output_type": "execute_result"
    }
   ],
   "source": [
    "notlar"
   ]
  },
  {
   "cell_type": "code",
   "execution_count": 17,
   "id": "d5331a34",
   "metadata": {
    "collapsed": true
   },
   "outputs": [
    {
     "ename": "KeyError",
     "evalue": "0",
     "output_type": "error",
     "traceback": [
      "\u001b[1;31m---------------------------------------------------------------------------\u001b[0m",
      "\u001b[1;31mKeyError\u001b[0m                                  Traceback (most recent call last)",
      "Cell \u001b[1;32mIn[17], line 1\u001b[0m\n\u001b[1;32m----> 1\u001b[0m notlar[\u001b[38;5;241m0\u001b[39m]\n",
      "\u001b[1;31mKeyError\u001b[0m: 0"
     ]
    }
   ],
   "source": [
    "notlar[0]"
   ]
  },
  {
   "cell_type": "markdown",
   "id": "89fb09ca",
   "metadata": {},
   "source": [
    "\n",
    "# Value değerlerini değiştirme\n",
    "\n",
    "+ Ege isimli öğrencinin notuna 5 puan eklemek için..."
   ]
  },
  {
   "cell_type": "code",
   "execution_count": 18,
   "id": "b140665e",
   "metadata": {},
   "outputs": [
    {
     "data": {
      "text/plain": [
       "{'Deniz': 80, 'Ege': 72, 'Gizem': 95}"
      ]
     },
     "execution_count": 18,
     "metadata": {},
     "output_type": "execute_result"
    }
   ],
   "source": [
    "notlar"
   ]
  },
  {
   "cell_type": "code",
   "execution_count": 19,
   "id": "9b466c3c",
   "metadata": {},
   "outputs": [],
   "source": [
    "notlar[\"Ege\"]= notlar[\"Ege\"]+ 5\n",
    "#Ege isimli key'in value değerine (int-float ise) 5 eklenir.\n"
   ]
  },
  {
   "cell_type": "code",
   "execution_count": 20,
   "id": "7197ae0a",
   "metadata": {},
   "outputs": [
    {
     "data": {
      "text/plain": [
       "77"
      ]
     },
     "execution_count": 20,
     "metadata": {},
     "output_type": "execute_result"
    }
   ],
   "source": [
    "notlar[\"Ege\"]"
   ]
  },
  {
   "cell_type": "markdown",
   "id": "eeb43e56",
   "metadata": {},
   "source": [
    "\n",
    "# len()\n",
    "\n",
    "+ len() fonksiyonu bize dictionarylerde kaç tane key varsa onun sayısını gösterir.\n"
   ]
  },
  {
   "cell_type": "code",
   "execution_count": 21,
   "id": "d4b190c2",
   "metadata": {},
   "outputs": [
    {
     "data": {
      "text/plain": [
       "{'Deniz': 80, 'Ege': 77, 'Gizem': 95}"
      ]
     },
     "execution_count": 21,
     "metadata": {},
     "output_type": "execute_result"
    }
   ],
   "source": [
    "notlar"
   ]
  },
  {
   "cell_type": "code",
   "execution_count": 22,
   "id": "fffe4c72",
   "metadata": {},
   "outputs": [
    {
     "data": {
      "text/plain": [
       "3"
      ]
     },
     "execution_count": 22,
     "metadata": {},
     "output_type": "execute_result"
    }
   ],
   "source": [
    "len(notlar)"
   ]
  },
  {
   "cell_type": "code",
   "execution_count": 23,
   "id": "1cfc69f9",
   "metadata": {},
   "outputs": [
    {
     "data": {
      "text/plain": [
       "{'Deniz': {'not': 80, 'ogrenci_no': 703},\n",
       " 'Ege': {'not': 72, 'ogrenci_no': 408},\n",
       " 'Gizem': {'not': 95, 'ogrenci_no': 690}}"
      ]
     },
     "execution_count": 23,
     "metadata": {},
     "output_type": "execute_result"
    }
   ],
   "source": [
    "ogrenciler"
   ]
  },
  {
   "cell_type": "code",
   "execution_count": 24,
   "id": "2c3aecc4",
   "metadata": {},
   "outputs": [
    {
     "data": {
      "text/plain": [
       "3"
      ]
     },
     "execution_count": 24,
     "metadata": {},
     "output_type": "execute_result"
    }
   ],
   "source": [
    "len(ogrenciler)"
   ]
  },
  {
   "cell_type": "markdown",
   "id": "a0488f9e",
   "metadata": {},
   "source": [
    "\n",
    "# Eleman ekleme\n",
    "\n",
    "+ Dictionary_ismi [key] = value yaparsak dictionarye yeni bir key eleman eklenmiş olur."
   ]
  },
  {
   "cell_type": "code",
   "execution_count": 25,
   "id": "bef6c316",
   "metadata": {},
   "outputs": [
    {
     "data": {
      "text/plain": [
       "{'Deniz': 80, 'Ege': 77, 'Gizem': 95}"
      ]
     },
     "execution_count": 25,
     "metadata": {},
     "output_type": "execute_result"
    }
   ],
   "source": [
    "notlar"
   ]
  },
  {
   "cell_type": "code",
   "execution_count": 28,
   "id": "1495a7ad",
   "metadata": {},
   "outputs": [],
   "source": [
    "notlar[\"Mert\"]= 58\n",
    "\n",
    "#Eğer burada value değerini vermeseydik hata verirdi.Çünkü dictionaryde\n",
    "# Mert isimli bir key arardı."
   ]
  },
  {
   "cell_type": "code",
   "execution_count": 29,
   "id": "436a6a11",
   "metadata": {},
   "outputs": [
    {
     "data": {
      "text/plain": [
       "{'Deniz': 80, 'Ege': 77, 'Gizem': 95, 'Mert': 58}"
      ]
     },
     "execution_count": 29,
     "metadata": {},
     "output_type": "execute_result"
    }
   ],
   "source": [
    "notlar"
   ]
  },
  {
   "cell_type": "markdown",
   "id": "7ba30197",
   "metadata": {},
   "source": [
    "\n",
    "# Eleman  Silme\n",
    "\n",
    "+ Eleman silme işlemini \" del \" keywordu ile yapabiliriz."
   ]
  },
  {
   "cell_type": "code",
   "execution_count": 30,
   "id": "d36e8350",
   "metadata": {},
   "outputs": [
    {
     "data": {
      "text/plain": [
       "{'Deniz': 80, 'Ege': 77, 'Gizem': 95, 'Mert': 58}"
      ]
     },
     "execution_count": 30,
     "metadata": {},
     "output_type": "execute_result"
    }
   ],
   "source": [
    "notlar"
   ]
  },
  {
   "cell_type": "code",
   "execution_count": 31,
   "id": "b33fafb5",
   "metadata": {},
   "outputs": [],
   "source": [
    "del notlar[\"Mert\"]"
   ]
  },
  {
   "cell_type": "code",
   "execution_count": 32,
   "id": "2d88eb30",
   "metadata": {},
   "outputs": [
    {
     "data": {
      "text/plain": [
       "{'Deniz': 80, 'Ege': 77, 'Gizem': 95}"
      ]
     },
     "execution_count": 32,
     "metadata": {},
     "output_type": "execute_result"
    }
   ],
   "source": [
    "notlar"
   ]
  },
  {
   "cell_type": "markdown",
   "id": "f84b7016",
   "metadata": {},
   "source": [
    "\n",
    "# Sadece Immutable tipindeki veriler key olabilir\n",
    "\n",
    "+ Bir dictionaryde bulunan her key ve her value değeri farklı veri tipinde olabilir.\n",
    "\n",
    "+ key1-int...value1:string /// key2-string...value2:float olabilir. Herhangi bir kısıtlama yoktur.\n",
    "\n",
    "+ Fakat key olarak list tipinde eleman olamaz. Çünkü listler immutable değerlere sahiptirler bu yüzden key olamazlar.\n"
   ]
  },
  {
   "cell_type": "code",
   "execution_count": 33,
   "id": "dbf0568e",
   "metadata": {},
   "outputs": [],
   "source": [
    "d= {1:2, 3:\"b\"}\n",
    "# value'ler farklı veri tipindedir."
   ]
  },
  {
   "cell_type": "code",
   "execution_count": 34,
   "id": "ac3c9293",
   "metadata": {},
   "outputs": [
    {
     "data": {
      "text/plain": [
       "2"
      ]
     },
     "execution_count": 34,
     "metadata": {},
     "output_type": "execute_result"
    }
   ],
   "source": [
    "d[1]"
   ]
  },
  {
   "cell_type": "code",
   "execution_count": 35,
   "id": "06f5c7c3",
   "metadata": {},
   "outputs": [
    {
     "data": {
      "text/plain": [
       "'b'"
      ]
     },
     "execution_count": 35,
     "metadata": {},
     "output_type": "execute_result"
    }
   ],
   "source": [
    "d[3]"
   ]
  },
  {
   "cell_type": "code",
   "execution_count": 36,
   "id": "eab64314",
   "metadata": {},
   "outputs": [],
   "source": [
    "d2= {(1,2):\"a\", (4,5): [1,2,3]}"
   ]
  },
  {
   "cell_type": "code",
   "execution_count": 37,
   "id": "f3af6183",
   "metadata": {},
   "outputs": [
    {
     "data": {
      "text/plain": [
       "'a'"
      ]
     },
     "execution_count": 37,
     "metadata": {},
     "output_type": "execute_result"
    }
   ],
   "source": [
    "d2[(1,2)]"
   ]
  },
  {
   "cell_type": "code",
   "execution_count": 38,
   "id": "493f9121",
   "metadata": {},
   "outputs": [
    {
     "data": {
      "text/plain": [
       "[1, 2, 3]"
      ]
     },
     "execution_count": 38,
     "metadata": {},
     "output_type": "execute_result"
    }
   ],
   "source": [
    "d2[(4,5)]"
   ]
  },
  {
   "cell_type": "code",
   "execution_count": 39,
   "id": "4d0b7db4",
   "metadata": {
    "collapsed": true
   },
   "outputs": [
    {
     "ename": "TypeError",
     "evalue": "unhashable type: 'list'",
     "output_type": "error",
     "traceback": [
      "\u001b[1;31m---------------------------------------------------------------------------\u001b[0m",
      "\u001b[1;31mTypeError\u001b[0m                                 Traceback (most recent call last)",
      "Cell \u001b[1;32mIn[39], line 1\u001b[0m\n\u001b[1;32m----> 1\u001b[0m d3 \u001b[38;5;241m=\u001b[39m {[\u001b[38;5;241m1\u001b[39m,\u001b[38;5;241m2\u001b[39m]:\u001b[38;5;241m4\u001b[39m}\n",
      "\u001b[1;31mTypeError\u001b[0m: unhashable type: 'list'"
     ]
    }
   ],
   "source": [
    "d3 = {[1,2]:4}\n",
    "# Key değeri list tipinde [] olmamalıdır.\n"
   ]
  },
  {
   "cell_type": "markdown",
   "id": "646e041c",
   "metadata": {},
   "source": [
    "\n",
    "# Boş bir dictionary oluşturma"
   ]
  },
  {
   "cell_type": "code",
   "execution_count": 40,
   "id": "baf7b9c5",
   "metadata": {},
   "outputs": [],
   "source": [
    "d={}"
   ]
  },
  {
   "cell_type": "code",
   "execution_count": 41,
   "id": "1dfff528",
   "metadata": {},
   "outputs": [
    {
     "data": {
      "text/plain": [
       "{}"
      ]
     },
     "execution_count": 41,
     "metadata": {},
     "output_type": "execute_result"
    }
   ],
   "source": [
    "d"
   ]
  },
  {
   "cell_type": "code",
   "execution_count": 42,
   "id": "70bb1801",
   "metadata": {},
   "outputs": [],
   "source": [
    "d[1]=\"a\""
   ]
  },
  {
   "cell_type": "code",
   "execution_count": 43,
   "id": "356b45c7",
   "metadata": {},
   "outputs": [
    {
     "data": {
      "text/plain": [
       "{1: 'a'}"
      ]
     },
     "execution_count": 43,
     "metadata": {},
     "output_type": "execute_result"
    }
   ],
   "source": [
    "d"
   ]
  },
  {
   "cell_type": "markdown",
   "id": "8d42a2b6",
   "metadata": {},
   "source": [
    "\n",
    "# Bir değer keyler arasında var mı sorgusu yapma\n",
    "\n",
    "+ Bir elemanın dictionary içinde olup olmadığını sorgulamak, list ve tuple'larda sorgulama yapmaktan daha hızlıdır.\n",
    "\n",
    "+ List vet tuple'larda sorgulama in keywordu ile yapılırdı. Dictionary'lerde de bu şekilde yapılır.\n",
    "\n",
    "+ Sorgulanacak_deger...in...list/tuple/dictionary_adı\n",
    "\n",
    "+ Dictionary'de sorgulamada key değerleri sorgulanır.\n"
   ]
  },
  {
   "cell_type": "code",
   "execution_count": 44,
   "id": "de04f9c9",
   "metadata": {},
   "outputs": [
    {
     "data": {
      "text/plain": [
       "{'Deniz': 80, 'Ege': 77, 'Gizem': 95}"
      ]
     },
     "execution_count": 44,
     "metadata": {},
     "output_type": "execute_result"
    }
   ],
   "source": [
    "notlar"
   ]
  },
  {
   "cell_type": "code",
   "execution_count": 45,
   "id": "c0c97502",
   "metadata": {},
   "outputs": [
    {
     "data": {
      "text/plain": [
       "False"
      ]
     },
     "execution_count": 45,
     "metadata": {},
     "output_type": "execute_result"
    }
   ],
   "source": [
    "\"Mert\" in notlar"
   ]
  },
  {
   "cell_type": "code",
   "execution_count": 46,
   "id": "48ad0e49",
   "metadata": {},
   "outputs": [
    {
     "data": {
      "text/plain": [
       "True"
      ]
     },
     "execution_count": 46,
     "metadata": {},
     "output_type": "execute_result"
    }
   ],
   "source": [
    "\"Deniz\" in notlar"
   ]
  }
 ],
 "metadata": {
  "kernelspec": {
   "display_name": "Python 3 (ipykernel)",
   "language": "python",
   "name": "python3"
  },
  "language_info": {
   "codemirror_mode": {
    "name": "ipython",
    "version": 3
   },
   "file_extension": ".py",
   "mimetype": "text/x-python",
   "name": "python",
   "nbconvert_exporter": "python",
   "pygments_lexer": "ipython3",
   "version": "3.11.5"
  }
 },
 "nbformat": 4,
 "nbformat_minor": 5
}
