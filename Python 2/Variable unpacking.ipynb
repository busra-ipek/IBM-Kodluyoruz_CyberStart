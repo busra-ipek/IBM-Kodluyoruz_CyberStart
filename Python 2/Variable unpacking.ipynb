{
 "cells": [
  {
   "cell_type": "markdown",
   "id": "4ce60d53",
   "metadata": {},
   "source": [
    "\n",
    "# Variable unpacking\n",
    "\n",
    "+ Tek seferde birden fazla değişkene değeer vermek için ne yapılabilir?"
   ]
  },
  {
   "cell_type": "markdown",
   "id": "c4cfde1e",
   "metadata": {},
   "source": [
    "+ Aşağıdaki kodun sonucu"
   ]
  },
  {
   "cell_type": "markdown",
   "id": "20b7bc9a",
   "metadata": {},
   "source": [
    "x=4"
   ]
  },
  {
   "cell_type": "markdown",
   "id": "ed06c4d7",
   "metadata": {},
   "source": [
    "y=7"
   ]
  },
  {
   "cell_type": "markdown",
   "id": "f4938196",
   "metadata": {},
   "source": [
    "ifadesi ile aynıdır."
   ]
  },
  {
   "cell_type": "code",
   "execution_count": 3,
   "id": "25ddfe0b",
   "metadata": {},
   "outputs": [],
   "source": [
    "x, y = (4,7)"
   ]
  },
  {
   "cell_type": "code",
   "execution_count": 4,
   "id": "e888ef4a",
   "metadata": {},
   "outputs": [
    {
     "data": {
      "text/plain": [
       "4"
      ]
     },
     "execution_count": 4,
     "metadata": {},
     "output_type": "execute_result"
    }
   ],
   "source": [
    "x"
   ]
  },
  {
   "cell_type": "code",
   "execution_count": 5,
   "id": "631eb9e9",
   "metadata": {},
   "outputs": [
    {
     "data": {
      "text/plain": [
       "7"
      ]
     },
     "execution_count": 5,
     "metadata": {},
     "output_type": "execute_result"
    }
   ],
   "source": [
    "y"
   ]
  },
  {
   "cell_type": "code",
   "execution_count": 6,
   "id": "4a34f711",
   "metadata": {},
   "outputs": [],
   "source": [
    "x, y, z = (4,7,11) "
   ]
  },
  {
   "cell_type": "code",
   "execution_count": 7,
   "id": "9fc02e81",
   "metadata": {},
   "outputs": [
    {
     "name": "stdout",
     "output_type": "stream",
     "text": [
      "4 7 11\n"
     ]
    }
   ],
   "source": [
    "print(x,y,z)"
   ]
  },
  {
   "cell_type": "code",
   "execution_count": 8,
   "id": "a3fcf9c0",
   "metadata": {},
   "outputs": [],
   "source": [
    "x, _ = (4,7)\n",
    "\n",
    "# _ varsa demek ki bu _ifadesi kullanılmayacak anlamına gelir. Hiçbir anlam ifade etmez."
   ]
  },
  {
   "cell_type": "markdown",
   "id": "123d8fcc",
   "metadata": {},
   "source": [
    "\n",
    "# Soldaki ve sağdaki yapı farklı yapıdaysa"
   ]
  },
  {
   "cell_type": "code",
   "execution_count": 9,
   "id": "fd218e47",
   "metadata": {
    "collapsed": true
   },
   "outputs": [
    {
     "ename": "ValueError",
     "evalue": "too many values to unpack (expected 3)",
     "output_type": "error",
     "traceback": [
      "\u001b[1;31m------------------------------------------------------------------------\u001b[0m",
      "\u001b[1;31mValueError\u001b[0m                             Traceback (most recent call last)",
      "Cell \u001b[1;32mIn[9], line 1\u001b[0m\n\u001b[1;32m----> 1\u001b[0m x, y, z \u001b[38;5;241m=\u001b[39m (\u001b[38;5;241m4\u001b[39m, \u001b[38;5;241m7\u001b[39m, \u001b[38;5;241m11\u001b[39m, \u001b[38;5;241m4\u001b[39m, \u001b[38;5;241m21\u001b[39m)\n",
      "\u001b[1;31mValueError\u001b[0m: too many values to unpack (expected 3)"
     ]
    }
   ],
   "source": [
    "x, y, z = (4, 7, 11, 4, 21)\n",
    "\n",
    "# Bu ifade hata verir."
   ]
  },
  {
   "cell_type": "markdown",
   "id": "9f59779f",
   "metadata": {},
   "source": [
    "+ Bunu gidermek için * yapısını kullanabiliriz. \n",
    "\n",
    "+ Alttaki kod şu anlama geliyor; ilk iki elemanı x ve y' ye eşitle, sonuna kadar olan tüm elemanları z'ye eşitle. Bunun sonucunda da z değişkeni 11,4,21 değerlerinden oluşur ve tipi de list olur."
   ]
  },
  {
   "cell_type": "code",
   "execution_count": 11,
   "id": "fc887a18",
   "metadata": {},
   "outputs": [],
   "source": [
    "x,y, *z = (4,7,11,4,21)"
   ]
  },
  {
   "cell_type": "code",
   "execution_count": null,
   "id": "795c61bd",
   "metadata": {},
   "outputs": [],
   "source": []
  },
  {
   "cell_type": "code",
   "execution_count": 12,
   "id": "cdc90edb",
   "metadata": {},
   "outputs": [
    {
     "data": {
      "text/plain": [
       "4"
      ]
     },
     "execution_count": 12,
     "metadata": {},
     "output_type": "execute_result"
    }
   ],
   "source": [
    "x"
   ]
  },
  {
   "cell_type": "code",
   "execution_count": 13,
   "id": "6d8a880d",
   "metadata": {},
   "outputs": [
    {
     "data": {
      "text/plain": [
       "7"
      ]
     },
     "execution_count": 13,
     "metadata": {},
     "output_type": "execute_result"
    }
   ],
   "source": [
    "y"
   ]
  },
  {
   "cell_type": "code",
   "execution_count": 14,
   "id": "63f0fc80",
   "metadata": {},
   "outputs": [
    {
     "data": {
      "text/plain": [
       "[11, 4, 21]"
      ]
     },
     "execution_count": 14,
     "metadata": {},
     "output_type": "execute_result"
    }
   ],
   "source": [
    "z"
   ]
  },
  {
   "cell_type": "code",
   "execution_count": 15,
   "id": "285a0400",
   "metadata": {},
   "outputs": [
    {
     "data": {
      "text/plain": [
       "list"
      ]
     },
     "execution_count": 15,
     "metadata": {},
     "output_type": "execute_result"
    }
   ],
   "source": [
    "type(z)"
   ]
  },
  {
   "cell_type": "markdown",
   "id": "e1097ab7",
   "metadata": {},
   "source": [
    "+ Örneğin ilk 2 değeri eşitleyip kala değerleri görmezden gelmek istiyorsak..."
   ]
  },
  {
   "cell_type": "code",
   "execution_count": 16,
   "id": "32292fe5",
   "metadata": {},
   "outputs": [],
   "source": [
    "x, y,*_ = (4,7,11)"
   ]
  },
  {
   "cell_type": "code",
   "execution_count": 17,
   "id": "c7d50852",
   "metadata": {},
   "outputs": [
    {
     "data": {
      "text/plain": [
       "4"
      ]
     },
     "execution_count": 17,
     "metadata": {},
     "output_type": "execute_result"
    }
   ],
   "source": [
    "x"
   ]
  },
  {
   "cell_type": "code",
   "execution_count": 18,
   "id": "138174d9",
   "metadata": {},
   "outputs": [
    {
     "data": {
      "text/plain": [
       "7"
      ]
     },
     "execution_count": 18,
     "metadata": {},
     "output_type": "execute_result"
    }
   ],
   "source": [
    "y"
   ]
  },
  {
   "cell_type": "markdown",
   "id": "8e023f50",
   "metadata": {},
   "source": [
    "+ İlk 2 ve son değeri belirli bir değişkene, arada kalanların hepsini de başka bir değişkene eşitlemek isityorsak..."
   ]
  },
  {
   "cell_type": "code",
   "execution_count": 19,
   "id": "2226ca7f",
   "metadata": {},
   "outputs": [],
   "source": [
    "x, y, *z, t = (4,7,11,4,21)"
   ]
  },
  {
   "cell_type": "code",
   "execution_count": 20,
   "id": "35b25b89",
   "metadata": {},
   "outputs": [
    {
     "data": {
      "text/plain": [
       "4"
      ]
     },
     "execution_count": 20,
     "metadata": {},
     "output_type": "execute_result"
    }
   ],
   "source": [
    "x"
   ]
  },
  {
   "cell_type": "code",
   "execution_count": 21,
   "id": "83846255",
   "metadata": {},
   "outputs": [
    {
     "data": {
      "text/plain": [
       "7"
      ]
     },
     "execution_count": 21,
     "metadata": {},
     "output_type": "execute_result"
    }
   ],
   "source": [
    "y"
   ]
  },
  {
   "cell_type": "code",
   "execution_count": 23,
   "id": "82e33ca5",
   "metadata": {},
   "outputs": [
    {
     "data": {
      "text/plain": [
       "[11, 4]"
      ]
     },
     "execution_count": 23,
     "metadata": {},
     "output_type": "execute_result"
    }
   ],
   "source": [
    "z"
   ]
  },
  {
   "cell_type": "code",
   "execution_count": 24,
   "id": "217558a9",
   "metadata": {},
   "outputs": [
    {
     "data": {
      "text/plain": [
       "21"
      ]
     },
     "execution_count": 24,
     "metadata": {},
     "output_type": "execute_result"
    }
   ],
   "source": [
    "t"
   ]
  },
  {
   "cell_type": "markdown",
   "id": "22b27fc2",
   "metadata": {},
   "source": [
    "+ Aynı şekilde son 2'yi de başa bir değişkene eşitleyebiliriz.\n",
    "\n",
    "+ Yani * karakterinin yeri değişebilir."
   ]
  },
  {
   "cell_type": "code",
   "execution_count": 31,
   "id": "ea029105",
   "metadata": {},
   "outputs": [],
   "source": [
    "x,y,*z, t,u = (4,7,11,4,21,32,2)"
   ]
  },
  {
   "cell_type": "code",
   "execution_count": 26,
   "id": "68fcfbe9",
   "metadata": {},
   "outputs": [
    {
     "data": {
      "text/plain": [
       "4"
      ]
     },
     "execution_count": 26,
     "metadata": {},
     "output_type": "execute_result"
    }
   ],
   "source": [
    "x"
   ]
  },
  {
   "cell_type": "code",
   "execution_count": 27,
   "id": "c097369f",
   "metadata": {},
   "outputs": [
    {
     "data": {
      "text/plain": [
       "7"
      ]
     },
     "execution_count": 27,
     "metadata": {},
     "output_type": "execute_result"
    }
   ],
   "source": [
    "y"
   ]
  },
  {
   "cell_type": "code",
   "execution_count": 28,
   "id": "ed1b29e2",
   "metadata": {},
   "outputs": [
    {
     "data": {
      "text/plain": [
       "[11, 4, 21]"
      ]
     },
     "execution_count": 28,
     "metadata": {},
     "output_type": "execute_result"
    }
   ],
   "source": [
    "z"
   ]
  },
  {
   "cell_type": "code",
   "execution_count": 29,
   "id": "630f246b",
   "metadata": {},
   "outputs": [
    {
     "data": {
      "text/plain": [
       "32"
      ]
     },
     "execution_count": 29,
     "metadata": {},
     "output_type": "execute_result"
    }
   ],
   "source": [
    "t"
   ]
  },
  {
   "cell_type": "code",
   "execution_count": 30,
   "id": "51913990",
   "metadata": {},
   "outputs": [
    {
     "data": {
      "text/plain": [
       "2"
      ]
     },
     "execution_count": 30,
     "metadata": {},
     "output_type": "execute_result"
    }
   ],
   "source": [
    "u"
   ]
  },
  {
   "cell_type": "markdown",
   "id": "94b1c436",
   "metadata": {},
   "source": [
    "+ Yukarıda eğer ki 4 değişken için 4 değer olsaydı ama yine de yıldız olsaydı o zaman z ifadesi tek değer alırdı ama yine de tipi liste olurdu."
   ]
  },
  {
   "cell_type": "code",
   "execution_count": 32,
   "id": "6e2c5d2e",
   "metadata": {},
   "outputs": [],
   "source": [
    "x, y, *z, t = (4,7,11,21)"
   ]
  },
  {
   "cell_type": "code",
   "execution_count": 33,
   "id": "f4c77b4f",
   "metadata": {},
   "outputs": [
    {
     "data": {
      "text/plain": [
       "[11]"
      ]
     },
     "execution_count": 33,
     "metadata": {},
     "output_type": "execute_result"
    }
   ],
   "source": [
    "z"
   ]
  },
  {
   "cell_type": "code",
   "execution_count": 34,
   "id": "8854aad9",
   "metadata": {},
   "outputs": [
    {
     "data": {
      "text/plain": [
       "list"
      ]
     },
     "execution_count": 34,
     "metadata": {},
     "output_type": "execute_result"
    }
   ],
   "source": [
    "type(z)"
   ]
  },
  {
   "cell_type": "code",
   "execution_count": 35,
   "id": "2b9926b8",
   "metadata": {},
   "outputs": [
    {
     "data": {
      "text/plain": [
       "21"
      ]
     },
     "execution_count": 35,
     "metadata": {},
     "output_type": "execute_result"
    }
   ],
   "source": [
    "t"
   ]
  },
  {
   "cell_type": "markdown",
   "id": "f1ebaa96",
   "metadata": {},
   "source": [
    "+ Ama aşağıdaki kod hata verir.\n",
    "\n",
    "+ Çünkü * karakteri 1 kere kullanılır, *' ın anlamı geriye kalan  hepsi için demektir.\n",
    "\n",
    "+ 2 tane yıldız kullanılırsa örneğin y ve t değişkenleri için kaç tane eleman alacağını bilemez..."
   ]
  },
  {
   "cell_type": "code",
   "execution_count": 36,
   "id": "fb379e3b",
   "metadata": {
    "collapsed": true
   },
   "outputs": [
    {
     "ename": "SyntaxError",
     "evalue": "multiple starred expressions in assignment (3813610825.py, line 1)",
     "output_type": "error",
     "traceback": [
      "\u001b[1;36m  Cell \u001b[1;32mIn[36], line 1\u001b[1;36m\u001b[0m\n\u001b[1;33m    x, *y, *t = (4, 7, 11, 4 )\u001b[0m\n\u001b[1;37m    ^\u001b[0m\n\u001b[1;31mSyntaxError\u001b[0m\u001b[1;31m:\u001b[0m multiple starred expressions in assignment\n"
     ]
    }
   ],
   "source": [
    "x, *y, *t = (4, 7, 11, 4 )"
   ]
  }
 ],
 "metadata": {
  "kernelspec": {
   "display_name": "Python 3 (ipykernel)",
   "language": "python",
   "name": "python3"
  },
  "language_info": {
   "codemirror_mode": {
    "name": "ipython",
    "version": 3
   },
   "file_extension": ".py",
   "mimetype": "text/x-python",
   "name": "python",
   "nbconvert_exporter": "python",
   "pygments_lexer": "ipython3",
   "version": "3.11.5"
  }
 },
 "nbformat": 4,
 "nbformat_minor": 5
}
