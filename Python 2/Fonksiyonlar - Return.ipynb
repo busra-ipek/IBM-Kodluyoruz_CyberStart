{
 "cells": [
  {
   "cell_type": "markdown",
   "id": "86fa95a1",
   "metadata": {},
   "source": [
    "# Return\n",
    "\n",
    "+ Fonksiyon sonuna return yazmazsak eğer fonksiyon bize herhangi bir değer döndürmez.\n",
    "\n",
    "+ def fonksiyonun_adı (input):"
   ]
  },
  {
   "cell_type": "markdown",
   "id": "112c4c3a",
   "metadata": {},
   "source": [
    " şeklinde fonksiyon tanımlanır.\n",
    " \n",
    " + Diğer yapılarda olduğu gibi bir kod bloğunnu belirttiğimiz yapıaya ait olduğunu anlatmak için tab kadar boşluk bırakıp fonksiyonun altın kodları yazarız.\n",
    " \n",
    " + Verdiğimiz değerin karesini alan bir fonksiyon yazalım...\n",
    " \n"
   ]
  },
  {
   "cell_type": "code",
   "execution_count": 12,
   "id": "cfa71955",
   "metadata": {},
   "outputs": [],
   "source": [
    "def square(x):\n",
    "    x*x\n",
    "\n",
    "# Bu kod bloğunu yazdığımızda sadece fonksiyon tanımlanır, kod bloğu çağrılmadan çalışmaz."
   ]
  },
  {
   "cell_type": "markdown",
   "id": "1d5d317d",
   "metadata": {},
   "source": [
    "+ fonksiyonu yazdıktan sonra tanımladığımız adla onu tekrar çağırabiliriz.\n",
    "\n",
    "+ fonksiyon_adı (inputlar), yazarak fonksiyonnu çağırabiliriz. Bir fonksiyonun inputlarını-parametrelerini parantez içine yazarız.\n",
    "\n",
    "+ Fonksiyon bazı durumlarda hiç input almayabilir, bazı durumlarda da birden fazla input alabilir.\n",
    "\n",
    "+ square fonksiyonunda bir input tanımlı olduğu için sadece bir input alabilir."
   ]
  },
  {
   "cell_type": "code",
   "execution_count": 13,
   "id": "4d146dbb",
   "metadata": {},
   "outputs": [],
   "source": [
    "square(3)"
   ]
  },
  {
   "cell_type": "code",
   "execution_count": 14,
   "id": "51046cf4",
   "metadata": {},
   "outputs": [],
   "source": [
    "a = square(3)"
   ]
  },
  {
   "cell_type": "code",
   "execution_count": 15,
   "id": "e57187eb",
   "metadata": {},
   "outputs": [],
   "source": [
    "a"
   ]
  },
  {
   "cell_type": "code",
   "execution_count": 16,
   "id": "cb9084e9",
   "metadata": {},
   "outputs": [
    {
     "name": "stdout",
     "output_type": "stream",
     "text": [
      "None\n"
     ]
    }
   ],
   "source": [
    "print(a)"
   ]
  },
  {
   "cell_type": "code",
   "execution_count": 17,
   "id": "c887af6c",
   "metadata": {},
   "outputs": [
    {
     "data": {
      "text/plain": [
       "NoneType"
      ]
     },
     "execution_count": 17,
     "metadata": {},
     "output_type": "execute_result"
    }
   ],
   "source": [
    "type(a)"
   ]
  },
  {
   "cell_type": "markdown",
   "id": "506a558d",
   "metadata": {},
   "source": [
    "+ square fonksiyonu biz x*x değerini çıktı olarak vermedi. Output olarak x*x değerini vermesi için bana bu değeri döndür diye özellikle söylemem lazım. Bunu da return keywordu ile yaparız..."
   ]
  },
  {
   "cell_type": "code",
   "execution_count": 18,
   "id": "aa491b0c",
   "metadata": {},
   "outputs": [],
   "source": [
    "def square(x):\n",
    "    \n",
    "    return x*x"
   ]
  },
  {
   "cell_type": "code",
   "execution_count": 21,
   "id": "f0ce64f2",
   "metadata": {},
   "outputs": [
    {
     "data": {
      "text/plain": [
       "4"
      ]
     },
     "execution_count": 21,
     "metadata": {},
     "output_type": "execute_result"
    }
   ],
   "source": [
    "square(2)  # 2*2 değerini çıktı olarak verir."
   ]
  },
  {
   "cell_type": "code",
   "execution_count": 23,
   "id": "38812ef8",
   "metadata": {},
   "outputs": [],
   "source": [
    "a=square(2)\n",
    "\n",
    "#Burada square(2) değerinin int 4'den hiçbir farkı yoktur. a=4 olur.\n",
    "# Bu değerle istediğini yapabilirsin."
   ]
  },
  {
   "cell_type": "code",
   "execution_count": 24,
   "id": "5fa2f1f9",
   "metadata": {},
   "outputs": [
    {
     "data": {
      "text/plain": [
       "5"
      ]
     },
     "execution_count": 24,
     "metadata": {},
     "output_type": "execute_result"
    }
   ],
   "source": [
    "1 + square(2)"
   ]
  },
  {
   "cell_type": "code",
   "execution_count": 25,
   "id": "09cb22a6",
   "metadata": {},
   "outputs": [],
   "source": [
    "def square(x):\n",
    "    \n",
    "    res= x*x\n",
    "    return res   # Bu fonksiyonda yine girilen inputun karesini alır."
   ]
  },
  {
   "cell_type": "code",
   "execution_count": 26,
   "id": "52d108e6",
   "metadata": {},
   "outputs": [
    {
     "data": {
      "text/plain": [
       "16"
      ]
     },
     "execution_count": 26,
     "metadata": {},
     "output_type": "execute_result"
    }
   ],
   "source": [
    "square(4)"
   ]
  },
  {
   "cell_type": "code",
   "execution_count": 27,
   "id": "8c218092",
   "metadata": {},
   "outputs": [
    {
     "data": {
      "text/plain": [
       "81"
      ]
     },
     "execution_count": 27,
     "metadata": {},
     "output_type": "execute_result"
    }
   ],
   "source": [
    "square(square(3))\n",
    "\n",
    "# Bu ifade square(9) ile aynı anlama gelir. Fonksiyon içine tekrar fonksiyon yazabilirsin."
   ]
  },
  {
   "cell_type": "markdown",
   "id": "febf06e6",
   "metadata": {},
   "source": [
    "+ Fonksiyon hiçbir input almayabilirdi..."
   ]
  },
  {
   "cell_type": "code",
   "execution_count": 29,
   "id": "5f241199",
   "metadata": {},
   "outputs": [],
   "source": [
    "def weird():\n",
    "    \n",
    "    return 5\n",
    "\n",
    "# weird() fonksiyonu her çalıştırıldığında 5 değerini çıktı olarak verir."
   ]
  },
  {
   "cell_type": "code",
   "execution_count": 30,
   "id": "801ab1c7",
   "metadata": {},
   "outputs": [
    {
     "data": {
      "text/plain": [
       "5"
      ]
     },
     "execution_count": 30,
     "metadata": {},
     "output_type": "execute_result"
    }
   ],
   "source": [
    "weird()"
   ]
  },
  {
   "cell_type": "markdown",
   "id": "1b5be0bb",
   "metadata": {},
   "source": [
    "+ Fonksiyonlar return ifadesini gördükten sonrasına bakmıyor, fonksiyon return keywordunun sağına yazılan değeri veriyor ve fonksiyondan çıkılıyor..."
   ]
  },
  {
   "cell_type": "code",
   "execution_count": 33,
   "id": "c39d8fa1",
   "metadata": {},
   "outputs": [],
   "source": [
    "def square(x):\n",
    "    \n",
    "    res = x * x\n",
    "    \n",
    "    return res   #returnden sonraki kodlar çalıştırılmaz, fonksiyon bitmiştir.\n",
    "\n",
    "    print(\"Square of \" + str(x) + \": \" + str(res))"
   ]
  },
  {
   "cell_type": "code",
   "execution_count": 34,
   "id": "1c8706e9",
   "metadata": {},
   "outputs": [
    {
     "data": {
      "text/plain": [
       "16"
      ]
     },
     "execution_count": 34,
     "metadata": {},
     "output_type": "execute_result"
    }
   ],
   "source": [
    "square(4)"
   ]
  },
  {
   "cell_type": "code",
   "execution_count": 35,
   "id": "6a2db455",
   "metadata": {},
   "outputs": [
    {
     "data": {
      "text/plain": [
       "18"
      ]
     },
     "execution_count": 35,
     "metadata": {},
     "output_type": "execute_result"
    }
   ],
   "source": [
    "square(4) + 2"
   ]
  },
  {
   "cell_type": "code",
   "execution_count": 36,
   "id": "6911c4dd",
   "metadata": {},
   "outputs": [],
   "source": [
    "def square(x):\n",
    "    \n",
    "    res = x*x\n",
    "    \n",
    "    print(\"Square of \" + str(x) + \": \" + str(res))\n",
    "    \n",
    "    return res"
   ]
  },
  {
   "cell_type": "code",
   "execution_count": 37,
   "id": "fd1babd5",
   "metadata": {},
   "outputs": [
    {
     "name": "stdout",
     "output_type": "stream",
     "text": [
      "Square of 4: 16\n"
     ]
    },
    {
     "data": {
      "text/plain": [
       "16"
      ]
     },
     "execution_count": 37,
     "metadata": {},
     "output_type": "execute_result"
    }
   ],
   "source": [
    "square(4)"
   ]
  },
  {
   "cell_type": "markdown",
   "id": "76d4454e",
   "metadata": {},
   "source": [
    "+ Fonksiyona durumsallık da katabiliriz, yani fonksiyon içinde if-elif-else karar yapıları da kullanılabilir."
   ]
  },
  {
   "cell_type": "code",
   "execution_count": 41,
   "id": "43893ab6",
   "metadata": {},
   "outputs": [],
   "source": [
    "def f(x):\n",
    "    \n",
    "    res = x * x\n",
    "    \n",
    "    if x % 2 == 0 :\n",
    "        return res\n",
    "    \n",
    "    else:\n",
    "        return res + 10\n",
    "    \n",
    "    print(\"Square of \" + str(x) + \": \" + str(res)) # çalışmaz burası"
   ]
  },
  {
   "cell_type": "code",
   "execution_count": 42,
   "id": "d260bed4",
   "metadata": {},
   "outputs": [
    {
     "data": {
      "text/plain": [
       "100"
      ]
     },
     "execution_count": 42,
     "metadata": {},
     "output_type": "execute_result"
    }
   ],
   "source": [
    "f(10)"
   ]
  },
  {
   "cell_type": "code",
   "execution_count": 43,
   "id": "094834bf",
   "metadata": {},
   "outputs": [
    {
     "data": {
      "text/plain": [
       "179"
      ]
     },
     "execution_count": 43,
     "metadata": {},
     "output_type": "execute_result"
    }
   ],
   "source": [
    "f(13)"
   ]
  },
  {
   "cell_type": "markdown",
   "id": "ba535c8a",
   "metadata": {},
   "source": [
    "+ Fonksiyonların içinde döngü mantığı da olabilir. for - while döngüleri..."
   ]
  },
  {
   "cell_type": "code",
   "execution_count": 46,
   "id": "68e84fc8",
   "metadata": {},
   "outputs": [],
   "source": [
    "def f(x):\n",
    "    \n",
    "    res = x * x\n",
    "    \n",
    "    for i in range(10):\n",
    "        res += 20\n",
    "        return res  # For döngüsü 1 kere çalışır ve döngü biter, fonksiyon da biter.\n",
    "        print(\"hey\")    # Bu kod çalışmaz."
   ]
  },
  {
   "cell_type": "code",
   "execution_count": 47,
   "id": "8885bb69",
   "metadata": {},
   "outputs": [
    {
     "data": {
      "text/plain": [
       "120"
      ]
     },
     "execution_count": 47,
     "metadata": {},
     "output_type": "execute_result"
    }
   ],
   "source": [
    "f(10)"
   ]
  },
  {
   "cell_type": "code",
   "execution_count": 48,
   "id": "92323b3d",
   "metadata": {},
   "outputs": [
    {
     "data": {
      "text/plain": [
       "143"
      ]
     },
     "execution_count": 48,
     "metadata": {},
     "output_type": "execute_result"
    }
   ],
   "source": [
    "f(10) + 23"
   ]
  },
  {
   "cell_type": "code",
   "execution_count": 49,
   "id": "9b123116",
   "metadata": {},
   "outputs": [],
   "source": [
    "def f(x):\n",
    "    \n",
    "    res = x * x\n",
    "    \n",
    "    for i in range(10):\n",
    "        res += 20\n",
    "        \n",
    "    return res"
   ]
  },
  {
   "cell_type": "code",
   "execution_count": 50,
   "id": "2619643e",
   "metadata": {},
   "outputs": [
    {
     "data": {
      "text/plain": [
       "300"
      ]
     },
     "execution_count": 50,
     "metadata": {},
     "output_type": "execute_result"
    }
   ],
   "source": [
    "f(10)"
   ]
  },
  {
   "cell_type": "code",
   "execution_count": 51,
   "id": "e24d6f44",
   "metadata": {},
   "outputs": [],
   "source": [
    "def f(x):\n",
    "    \n",
    "    l = []\n",
    "    res = x * x\n",
    "    \n",
    "    for i in range(10):\n",
    "        res +=20\n",
    "        l.append(res)\n",
    "        \n",
    "    return l"
   ]
  },
  {
   "cell_type": "code",
   "execution_count": 52,
   "id": "4da114e8",
   "metadata": {},
   "outputs": [
    {
     "data": {
      "text/plain": [
       "[120, 140, 160, 180, 200, 220, 240, 260, 280, 300]"
      ]
     },
     "execution_count": 52,
     "metadata": {},
     "output_type": "execute_result"
    }
   ],
   "source": [
    "f(10)"
   ]
  },
  {
   "cell_type": "markdown",
   "id": "add857da",
   "metadata": {},
   "source": [
    "# Void Fonksiyonlar (değer döndürmeyen fonksiyonlar)\n",
    "\n",
    "+ Bu fonksiyonlarda return değeri bulunmaz."
   ]
  },
  {
   "cell_type": "code",
   "execution_count": 53,
   "id": "3ce4af01",
   "metadata": {},
   "outputs": [],
   "source": [
    "def f(x):\n",
    "    x = 2"
   ]
  },
  {
   "cell_type": "code",
   "execution_count": 56,
   "id": "a500f69e",
   "metadata": {},
   "outputs": [],
   "source": [
    "f(2) # Hiçbir sonuç çıkmaz."
   ]
  },
  {
   "cell_type": "code",
   "execution_count": 57,
   "id": "6b300eea",
   "metadata": {
    "collapsed": true
   },
   "outputs": [
    {
     "ename": "TypeError",
     "evalue": "unsupported operand type(s) for +: 'NoneType' and 'int'",
     "output_type": "error",
     "traceback": [
      "\u001b[1;31m---------------------------------------------------------------------------\u001b[0m",
      "\u001b[1;31mTypeError\u001b[0m                                 Traceback (most recent call last)",
      "Cell \u001b[1;32mIn[57], line 1\u001b[0m\n\u001b[1;32m----> 1\u001b[0m f(\u001b[38;5;241m10\u001b[39m) \u001b[38;5;241m+\u001b[39m \u001b[38;5;241m4\u001b[39m\n",
      "\u001b[1;31mTypeError\u001b[0m: unsupported operand type(s) for +: 'NoneType' and 'int'"
     ]
    }
   ],
   "source": [
    "f(10) + 4\n",
    "# Nonetype + int değer toplanamaz, hata verir."
   ]
  },
  {
   "cell_type": "code",
   "execution_count": 58,
   "id": "500b9a29",
   "metadata": {},
   "outputs": [
    {
     "name": "stdout",
     "output_type": "stream",
     "text": [
      "None\n"
     ]
    }
   ],
   "source": [
    "print(f(3))"
   ]
  },
  {
   "cell_type": "code",
   "execution_count": 59,
   "id": "e922de92",
   "metadata": {},
   "outputs": [
    {
     "data": {
      "text/plain": [
       "NoneType"
      ]
     },
     "execution_count": 59,
     "metadata": {},
     "output_type": "execute_result"
    }
   ],
   "source": [
    "type(f(3))"
   ]
  },
  {
   "cell_type": "code",
   "execution_count": 60,
   "id": "e532626a",
   "metadata": {},
   "outputs": [],
   "source": [
    "# Bu kod x' in karesini değer olarakbize vermiyor, ssadece ekrana print içindekini yazdırır.\n",
    "\n",
    "def square(x):\n",
    "    \n",
    "    print(x, \"in/ün/un karesi: \",x*x)"
   ]
  },
  {
   "cell_type": "code",
   "execution_count": 61,
   "id": "67e3323f",
   "metadata": {},
   "outputs": [
    {
     "name": "stdout",
     "output_type": "stream",
     "text": [
      "3 in/ün/un karesi:  9\n"
     ]
    }
   ],
   "source": [
    "square(3)"
   ]
  },
  {
   "cell_type": "code",
   "execution_count": 62,
   "id": "d7ae4756",
   "metadata": {},
   "outputs": [
    {
     "name": "stdout",
     "output_type": "stream",
     "text": [
      "3 in/ün/un karesi:  9\n"
     ]
    },
    {
     "data": {
      "text/plain": [
       "NoneType"
      ]
     },
     "execution_count": 62,
     "metadata": {},
     "output_type": "execute_result"
    }
   ],
   "source": [
    "type(square(3))"
   ]
  },
  {
   "cell_type": "code",
   "execution_count": 63,
   "id": "7eab0df4",
   "metadata": {},
   "outputs": [],
   "source": [
    "# Hem bir değer bastırıp aynı anda o değeri çıktı olark verebilirdi.\n",
    "\n",
    "def square(x):\n",
    "    \n",
    "    res = x * x\n",
    "    \n",
    "    print(x, \"in/ün/un karesi: \", x * x)\n",
    " \n",
    "    return res"
   ]
  },
  {
   "cell_type": "code",
   "execution_count": 64,
   "id": "06de6aab",
   "metadata": {},
   "outputs": [
    {
     "name": "stdout",
     "output_type": "stream",
     "text": [
      "4 in/ün/un karesi:  16\n"
     ]
    },
    {
     "data": {
      "text/plain": [
       "16"
      ]
     },
     "execution_count": 64,
     "metadata": {},
     "output_type": "execute_result"
    }
   ],
   "source": [
    "square(4)"
   ]
  },
  {
   "cell_type": "code",
   "execution_count": 65,
   "id": "7ee3c0c9",
   "metadata": {},
   "outputs": [
    {
     "name": "stdout",
     "output_type": "stream",
     "text": [
      "4 in/ün/un karesi:  16\n"
     ]
    },
    {
     "data": {
      "text/plain": [
       "18"
      ]
     },
     "execution_count": 65,
     "metadata": {},
     "output_type": "execute_result"
    }
   ],
   "source": [
    "square(4) + 2"
   ]
  }
 ],
 "metadata": {
  "kernelspec": {
   "display_name": "Python 3 (ipykernel)",
   "language": "python",
   "name": "python3"
  },
  "language_info": {
   "codemirror_mode": {
    "name": "ipython",
    "version": 3
   },
   "file_extension": ".py",
   "mimetype": "text/x-python",
   "name": "python",
   "nbconvert_exporter": "python",
   "pygments_lexer": "ipython3",
   "version": "3.11.5"
  }
 },
 "nbformat": 4,
 "nbformat_minor": 5
}
