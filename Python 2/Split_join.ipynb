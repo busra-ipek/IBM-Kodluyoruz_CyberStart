{
 "cells": [
  {
   "cell_type": "markdown",
   "id": "6265bc55",
   "metadata": {},
   "source": [
    "# Split()\n",
    "\n",
    "+ Belirli bir bölme kriterine (koşula) göre string'in alt parçalarını listenin elemanlarına dönüştürebiliriz.\n",
    "\n",
    "+ Parantez içine hangi koşula göre böleceğimizi yazarız. Hiçbir şey yazmazsak default olarak boşluğa göre böler.\n",
    "\n",
    "+ String --> Liste"
   ]
  },
  {
   "cell_type": "code",
   "execution_count": 1,
   "id": "1cd69abe",
   "metadata": {},
   "outputs": [],
   "source": [
    "s = \"merhaba nasılsın\""
   ]
  },
  {
   "cell_type": "code",
   "execution_count": 2,
   "id": "39e46539",
   "metadata": {},
   "outputs": [
    {
     "data": {
      "text/plain": [
       "['merhaba', 'nasılsın']"
      ]
     },
     "execution_count": 2,
     "metadata": {},
     "output_type": "execute_result"
    }
   ],
   "source": [
    "s.split(\" \")"
   ]
  },
  {
   "cell_type": "markdown",
   "id": "8d4cf368",
   "metadata": {},
   "source": [
    "+  s değişkeninin boşluk karakterini gördükten sonra boşluktan  önceki ve sonraki ifadeleri listenin iki elemanıymış gibi ayırır. "
   ]
  },
  {
   "cell_type": "code",
   "execution_count": 3,
   "id": "41d761c8",
   "metadata": {},
   "outputs": [
    {
     "data": {
      "text/plain": [
       "['merhaba', 'nasılsın']"
      ]
     },
     "execution_count": 3,
     "metadata": {},
     "output_type": "execute_result"
    }
   ],
   "source": [
    "s.split()"
   ]
  },
  {
   "cell_type": "code",
   "execution_count": 4,
   "id": "4cb4eeae",
   "metadata": {},
   "outputs": [],
   "source": [
    "s2= \"limon,portakal,elma,karpuz\""
   ]
  },
  {
   "cell_type": "code",
   "execution_count": 6,
   "id": "54f297ad",
   "metadata": {},
   "outputs": [
    {
     "data": {
      "text/plain": [
       "['limon', 'portakal', 'elma', 'karpuz']"
      ]
     },
     "execution_count": 6,
     "metadata": {},
     "output_type": "execute_result"
    }
   ],
   "source": [
    "s2.split(\",\")"
   ]
  },
  {
   "cell_type": "markdown",
   "id": "0b015340",
   "metadata": {},
   "source": [
    "# join()\n",
    "\n",
    "+ Listenin elemanları arasında belirtilen yapıyı koyup stringe dönüştürür.\n",
    "\n",
    "+ Liste --> String\n",
    "\n",
    "+ \"koşul\".join(elemanları kullanılacak liste )\n",
    "\n",
    "+ Listenin elemanları arasına bu koşul konularak bir string ifadeye dönüştürülür."
   ]
  },
  {
   "cell_type": "code",
   "execution_count": 8,
   "id": "407750c6",
   "metadata": {},
   "outputs": [],
   "source": [
    "l=[\"limon\", \"portakal\", \"elma\"]"
   ]
  },
  {
   "cell_type": "code",
   "execution_count": 9,
   "id": "b610d618",
   "metadata": {},
   "outputs": [
    {
     "data": {
      "text/plain": [
       "'limon,portakal,elma'"
      ]
     },
     "execution_count": 9,
     "metadata": {},
     "output_type": "execute_result"
    }
   ],
   "source": [
    "\",\".join(l)"
   ]
  },
  {
   "cell_type": "code",
   "execution_count": 10,
   "id": "3cfe8029",
   "metadata": {},
   "outputs": [
    {
     "data": {
      "text/plain": [
       "'limon-portakal-elma'"
      ]
     },
     "execution_count": 10,
     "metadata": {},
     "output_type": "execute_result"
    }
   ],
   "source": [
    "\"-\".join(l)"
   ]
  },
  {
   "cell_type": "code",
   "execution_count": 11,
   "id": "99d0ae21",
   "metadata": {},
   "outputs": [],
   "source": [
    "s=\"/\".join(l)"
   ]
  },
  {
   "cell_type": "code",
   "execution_count": 12,
   "id": "98b2c135",
   "metadata": {},
   "outputs": [
    {
     "data": {
      "text/plain": [
       "'limon/portakal/elma'"
      ]
     },
     "execution_count": 12,
     "metadata": {},
     "output_type": "execute_result"
    }
   ],
   "source": [
    "s"
   ]
  }
 ],
 "metadata": {
  "kernelspec": {
   "display_name": "Python 3 (ipykernel)",
   "language": "python",
   "name": "python3"
  },
  "language_info": {
   "codemirror_mode": {
    "name": "ipython",
    "version": 3
   },
   "file_extension": ".py",
   "mimetype": "text/x-python",
   "name": "python",
   "nbconvert_exporter": "python",
   "pygments_lexer": "ipython3",
   "version": "3.11.5"
  }
 },
 "nbformat": 4,
 "nbformat_minor": 5
}
