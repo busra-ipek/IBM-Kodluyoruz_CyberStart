{
 "cells": [
  {
   "cell_type": "markdown",
   "id": "8ab89ec3",
   "metadata": {},
   "source": [
    "# Set\n",
    "\n",
    "+ Setleri kümeler olarak düşünebiliriz.\n",
    "\n",
    "+ Sadece özgün değerleri tutan, içerisinde bir eleman var mı yok mu, başka bir setle hangi elemnları farklı gibi işlemleri performanslı bir şekilde yapabileceğimiz bir veri yapısıdır.\n",
    "\n",
    "+ Dictionaryler gibi eleman sorgusu yapmak hızlıdır. Dictionarylerde key-value çift olarak bulunduğu için aynı uzunlukta bir set'e göre daha fazla yer kaplarlar.\n",
    "\n",
    "+ Setler indexlenemez ve mutable (değişebilir) değerlere sahiptirler.\n",
    "\n",
    "+ Dictionaryler gibi {} içerisinde tanımlanır."
   ]
  },
  {
   "cell_type": "markdown",
   "id": "421c6684",
   "metadata": {},
   "source": [
    "\n",
    "# Set Oluşturma\n"
   ]
  },
  {
   "cell_type": "code",
   "execution_count": 1,
   "id": "7c71613a",
   "metadata": {},
   "outputs": [],
   "source": [
    "s={1,2,3,4,5}"
   ]
  },
  {
   "cell_type": "code",
   "execution_count": 2,
   "id": "06b30b1b",
   "metadata": {},
   "outputs": [
    {
     "data": {
      "text/plain": [
       "{1, 2, 3, 4, 5}"
      ]
     },
     "execution_count": 2,
     "metadata": {},
     "output_type": "execute_result"
    }
   ],
   "source": [
    "s"
   ]
  },
  {
   "cell_type": "code",
   "execution_count": 4,
   "id": "3bb9e07a",
   "metadata": {},
   "outputs": [
    {
     "data": {
      "text/plain": [
       "set"
      ]
     },
     "execution_count": 4,
     "metadata": {},
     "output_type": "execute_result"
    }
   ],
   "source": [
    "type(s)\n",
    "# Dictionaryden farkı key değerleri olmamasıdır."
   ]
  },
  {
   "cell_type": "code",
   "execution_count": 6,
   "id": "19039f99",
   "metadata": {},
   "outputs": [],
   "source": [
    "s2={1,2,3,2,2,1,4,3,5,6}\n",
    "#set içerisinde aynı değerler olmamlıdır."
   ]
  },
  {
   "cell_type": "code",
   "execution_count": 7,
   "id": "e2843263",
   "metadata": {},
   "outputs": [
    {
     "data": {
      "text/plain": [
       "{1, 2, 3, 4, 5, 6}"
      ]
     },
     "execution_count": 7,
     "metadata": {},
     "output_type": "execute_result"
    }
   ],
   "source": [
    "s2 #Tekrarlanan değerler silindi."
   ]
  },
  {
   "cell_type": "markdown",
   "id": "cc28e410",
   "metadata": {},
   "source": [
    "\n",
    "+ Boş bir set oluşturma\n"
   ]
  },
  {
   "cell_type": "code",
   "execution_count": 9,
   "id": "54352a01",
   "metadata": {},
   "outputs": [],
   "source": [
    "a= {} # Boş dictionary oluşturma"
   ]
  },
  {
   "cell_type": "code",
   "execution_count": 10,
   "id": "06c2ae41",
   "metadata": {},
   "outputs": [
    {
     "data": {
      "text/plain": [
       "dict"
      ]
     },
     "execution_count": 10,
     "metadata": {},
     "output_type": "execute_result"
    }
   ],
   "source": [
    "type(a)"
   ]
  },
  {
   "cell_type": "code",
   "execution_count": 11,
   "id": "3bb17ba1",
   "metadata": {},
   "outputs": [],
   "source": [
    "s=set() #Boş bir set oluşturulur."
   ]
  },
  {
   "cell_type": "code",
   "execution_count": 12,
   "id": "9dda1365",
   "metadata": {},
   "outputs": [
    {
     "data": {
      "text/plain": [
       "set()"
      ]
     },
     "execution_count": 12,
     "metadata": {},
     "output_type": "execute_result"
    }
   ],
   "source": [
    "s"
   ]
  },
  {
   "cell_type": "code",
   "execution_count": 13,
   "id": "5f01af62",
   "metadata": {},
   "outputs": [],
   "source": [
    "l=[1,2,3,4]  #l bir listedir."
   ]
  },
  {
   "cell_type": "markdown",
   "id": "a22ab6e9",
   "metadata": {},
   "source": [
    "\n",
    "+ listenin içerisinde bir elemandan birden fazla olsaydı yine de set'in içinde aynı eleman olmazdı. Her eleman sadece bir kere yer alırdı."
   ]
  },
  {
   "cell_type": "code",
   "execution_count": 14,
   "id": "15df48c7",
   "metadata": {},
   "outputs": [],
   "source": [
    "s= set(l) # listenin elemanlarıyla bir set oluşturulur."
   ]
  },
  {
   "cell_type": "code",
   "execution_count": 15,
   "id": "4d46d874",
   "metadata": {},
   "outputs": [
    {
     "data": {
      "text/plain": [
       "{1, 2, 3, 4}"
      ]
     },
     "execution_count": 15,
     "metadata": {},
     "output_type": "execute_result"
    }
   ],
   "source": [
    "s"
   ]
  },
  {
   "cell_type": "markdown",
   "id": "43d39b6d",
   "metadata": {},
   "source": [
    "\n",
    "# Setler sadec özgün değerlerden oluşur\n",
    "\n",
    "+ Set yapısı içerisinde bir eleman birden fazla kez olamaz. Sdece farklı değerler set oluşturur.\n"
   ]
  },
  {
   "cell_type": "code",
   "execution_count": 16,
   "id": "6c513425",
   "metadata": {},
   "outputs": [],
   "source": [
    "t=(1,2,3,4,5,1)  #t bir tupledır."
   ]
  },
  {
   "cell_type": "code",
   "execution_count": 17,
   "id": "b7f54fc9",
   "metadata": {},
   "outputs": [],
   "source": [
    "s=set(t)"
   ]
  },
  {
   "cell_type": "code",
   "execution_count": 18,
   "id": "51e7ba6b",
   "metadata": {},
   "outputs": [
    {
     "data": {
      "text/plain": [
       "{1, 2, 3, 4, 5}"
      ]
     },
     "execution_count": 18,
     "metadata": {},
     "output_type": "execute_result"
    }
   ],
   "source": [
    "s"
   ]
  },
  {
   "cell_type": "code",
   "execution_count": 19,
   "id": "4244a448",
   "metadata": {},
   "outputs": [],
   "source": [
    "message= \"Merhaba, orada mısın?\""
   ]
  },
  {
   "cell_type": "code",
   "execution_count": 20,
   "id": "39bf2fb4",
   "metadata": {},
   "outputs": [],
   "source": [
    "# Stringler kullanılarak da set oluşturulabilir.\n",
    "s=set(message)"
   ]
  },
  {
   "cell_type": "code",
   "execution_count": 21,
   "id": "2b18540b",
   "metadata": {},
   "outputs": [
    {
     "data": {
      "text/plain": [
       "{' ', ',', '?', 'M', 'a', 'b', 'd', 'e', 'h', 'm', 'n', 'o', 'r', 's', 'ı'}"
      ]
     },
     "execution_count": 21,
     "metadata": {},
     "output_type": "execute_result"
    }
   ],
   "source": [
    "# \" \" (boşluk), virgül,soru işareti  ve harflerin tümü set içinde yazılır.\n",
    "# Ama hiçbir eleman tekrarlanmaz.\n",
    "#setler sıralı değildirler.\n",
    "\n",
    "s"
   ]
  },
  {
   "cell_type": "markdown",
   "id": "c2900387",
   "metadata": {},
   "source": [
    "\n",
    "# len()\n"
   ]
  },
  {
   "cell_type": "code",
   "execution_count": 24,
   "id": "2a557243",
   "metadata": {},
   "outputs": [],
   "source": [
    "s=set([1,2,3,4,5])"
   ]
  },
  {
   "cell_type": "code",
   "execution_count": 25,
   "id": "8e0f15ac",
   "metadata": {},
   "outputs": [
    {
     "data": {
      "text/plain": [
       "{1, 2, 3, 4, 5}"
      ]
     },
     "execution_count": 25,
     "metadata": {},
     "output_type": "execute_result"
    }
   ],
   "source": [
    "s"
   ]
  },
  {
   "cell_type": "code",
   "execution_count": 26,
   "id": "4839ff4b",
   "metadata": {},
   "outputs": [
    {
     "data": {
      "text/plain": [
       "5"
      ]
     },
     "execution_count": 26,
     "metadata": {},
     "output_type": "execute_result"
    }
   ],
   "source": [
    "len(s)"
   ]
  },
  {
   "cell_type": "code",
   "execution_count": 27,
   "id": "79ba820f",
   "metadata": {},
   "outputs": [],
   "source": [
    "t=(1,2,3,4,5,6,2,3,4,7,4)"
   ]
  },
  {
   "cell_type": "code",
   "execution_count": 31,
   "id": "ada9e51d",
   "metadata": {},
   "outputs": [
    {
     "data": {
      "text/plain": [
       "{1, 2, 3, 4, 5, 6, 7}"
      ]
     },
     "execution_count": 31,
     "metadata": {},
     "output_type": "execute_result"
    }
   ],
   "source": [
    "set(t)"
   ]
  },
  {
   "cell_type": "code",
   "execution_count": 32,
   "id": "defbc4bf",
   "metadata": {},
   "outputs": [
    {
     "data": {
      "text/plain": [
       "7"
      ]
     },
     "execution_count": 32,
     "metadata": {},
     "output_type": "execute_result"
    }
   ],
   "source": [
    "len(set(t))"
   ]
  },
  {
   "cell_type": "markdown",
   "id": "848002cc",
   "metadata": {},
   "source": [
    "\n",
    "# Setler indexlenemez\n"
   ]
  },
  {
   "cell_type": "code",
   "execution_count": 33,
   "id": "b4dc5a4f",
   "metadata": {},
   "outputs": [
    {
     "data": {
      "text/plain": [
       "{1, 2, 3, 4, 5, 6, 7}"
      ]
     },
     "execution_count": 33,
     "metadata": {},
     "output_type": "execute_result"
    }
   ],
   "source": [
    "s"
   ]
  },
  {
   "cell_type": "code",
   "execution_count": 34,
   "id": "4de3f63a",
   "metadata": {
    "collapsed": true
   },
   "outputs": [
    {
     "ename": "TypeError",
     "evalue": "'set' object is not subscriptable",
     "output_type": "error",
     "traceback": [
      "\u001b[1;31m---------------------------------------------------------------------------\u001b[0m",
      "\u001b[1;31mTypeError\u001b[0m                                 Traceback (most recent call last)",
      "Cell \u001b[1;32mIn[34], line 1\u001b[0m\n\u001b[1;32m----> 1\u001b[0m s[\u001b[38;5;241m0\u001b[39m]\n",
      "\u001b[1;31mTypeError\u001b[0m: 'set' object is not subscriptable"
     ]
    }
   ],
   "source": [
    "s[0]\n",
    "# setlerde indexleme olmadığı için hata verir."
   ]
  },
  {
   "cell_type": "markdown",
   "id": "a1265fe4",
   "metadata": {},
   "source": [
    "\n",
    "# Set yapısına  eleman ekleme\n",
    "\n",
    "+ add() fonksiyonu ile set yapısına eleman eklenir."
   ]
  },
  {
   "cell_type": "code",
   "execution_count": 48,
   "id": "130409ce",
   "metadata": {},
   "outputs": [],
   "source": [
    "s={1,2,3,4,5}"
   ]
  },
  {
   "cell_type": "code",
   "execution_count": 49,
   "id": "59b8654d",
   "metadata": {},
   "outputs": [],
   "source": [
    "s.add(6)"
   ]
  },
  {
   "cell_type": "code",
   "execution_count": 50,
   "id": "afaa69e1",
   "metadata": {},
   "outputs": [
    {
     "data": {
      "text/plain": [
       "{1, 2, 3, 4, 5, 6}"
      ]
     },
     "execution_count": 50,
     "metadata": {},
     "output_type": "execute_result"
    }
   ],
   "source": [
    "s"
   ]
  },
  {
   "cell_type": "code",
   "execution_count": null,
   "id": "9c91c2ca",
   "metadata": {},
   "outputs": [],
   "source": [
    "s.add(5)\n",
    "# 5 sadısı set içerisinde olduğu için ekleme yapılmaz ama bir hata da vermez."
   ]
  },
  {
   "cell_type": "code",
   "execution_count": 51,
   "id": "28dd5aec",
   "metadata": {},
   "outputs": [
    {
     "data": {
      "text/plain": [
       "{1, 2, 3, 4, 5, 6}"
      ]
     },
     "execution_count": 51,
     "metadata": {},
     "output_type": "execute_result"
    }
   ],
   "source": [
    "s"
   ]
  },
  {
   "cell_type": "markdown",
   "id": "42981d9d",
   "metadata": {},
   "source": [
    "\n",
    "# Set yapısından eleman silme\n",
    "\n",
    "+ remove() fonksiyonu ile set yapısından eleman silinir."
   ]
  },
  {
   "cell_type": "code",
   "execution_count": 52,
   "id": "b73c7b89",
   "metadata": {},
   "outputs": [
    {
     "data": {
      "text/plain": [
       "{1, 2, 3, 4, 5, 6}"
      ]
     },
     "execution_count": 52,
     "metadata": {},
     "output_type": "execute_result"
    }
   ],
   "source": [
    "s"
   ]
  },
  {
   "cell_type": "code",
   "execution_count": 53,
   "id": "01d4851a",
   "metadata": {},
   "outputs": [],
   "source": [
    "s.remove(2) #2 değeri silinir."
   ]
  },
  {
   "cell_type": "code",
   "execution_count": 54,
   "id": "e793429e",
   "metadata": {},
   "outputs": [
    {
     "data": {
      "text/plain": [
       "{1, 3, 4, 5, 6}"
      ]
     },
     "execution_count": 54,
     "metadata": {},
     "output_type": "execute_result"
    }
   ],
   "source": [
    "s"
   ]
  },
  {
   "cell_type": "code",
   "execution_count": 55,
   "id": "3fc6eb2d",
   "metadata": {
    "collapsed": true
   },
   "outputs": [
    {
     "ename": "KeyError",
     "evalue": "9",
     "output_type": "error",
     "traceback": [
      "\u001b[1;31m---------------------------------------------------------------------------\u001b[0m",
      "\u001b[1;31mKeyError\u001b[0m                                  Traceback (most recent call last)",
      "Cell \u001b[1;32mIn[55], line 2\u001b[0m\n\u001b[0;32m      1\u001b[0m \u001b[38;5;66;03m# set içeisinde olmayan bir elemanı silmeye çalışırsak hata verir.\u001b[39;00m\n\u001b[1;32m----> 2\u001b[0m s\u001b[38;5;241m.\u001b[39mremove(\u001b[38;5;241m9\u001b[39m)\n",
      "\u001b[1;31mKeyError\u001b[0m: 9"
     ]
    }
   ],
   "source": [
    "# set içeisinde olmayan bir elemanı silmeye çalışırsak hata verir.\n",
    "s.remove(9)"
   ]
  },
  {
   "cell_type": "code",
   "execution_count": 56,
   "id": "466b95a7",
   "metadata": {},
   "outputs": [
    {
     "data": {
      "text/plain": [
       "{1, 3, 4, 5, 6}"
      ]
     },
     "execution_count": 56,
     "metadata": {},
     "output_type": "execute_result"
    }
   ],
   "source": [
    "s"
   ]
  },
  {
   "cell_type": "markdown",
   "id": "662f8ce1",
   "metadata": {},
   "source": [
    "\n",
    "+ Eğer silmek istediğimiz eleman set içerisnde yoksa ve hata almak istemiyorsak , discard() fonksiyonunu kullanırız."
   ]
  },
  {
   "cell_type": "code",
   "execution_count": 62,
   "id": "997c8aae",
   "metadata": {},
   "outputs": [],
   "source": [
    "s.discard(10)"
   ]
  },
  {
   "cell_type": "code",
   "execution_count": 63,
   "id": "caa1c440",
   "metadata": {},
   "outputs": [
    {
     "data": {
      "text/plain": [
       "{1, 3, 4, 5, 6}"
      ]
     },
     "execution_count": 63,
     "metadata": {},
     "output_type": "execute_result"
    }
   ],
   "source": [
    "s"
   ]
  },
  {
   "cell_type": "code",
   "execution_count": 64,
   "id": "44e80493",
   "metadata": {},
   "outputs": [],
   "source": [
    "s.add(10)"
   ]
  },
  {
   "cell_type": "code",
   "execution_count": 65,
   "id": "c118e4c6",
   "metadata": {},
   "outputs": [
    {
     "data": {
      "text/plain": [
       "{1, 3, 4, 5, 6, 10}"
      ]
     },
     "execution_count": 65,
     "metadata": {},
     "output_type": "execute_result"
    }
   ],
   "source": [
    "s"
   ]
  },
  {
   "cell_type": "code",
   "execution_count": 67,
   "id": "37ad9698",
   "metadata": {},
   "outputs": [
    {
     "data": {
      "text/plain": [
       "{1, 3, 4, 5, 6}"
      ]
     },
     "execution_count": 67,
     "metadata": {},
     "output_type": "execute_result"
    }
   ],
   "source": [
    "s.discard(10)\n",
    "s"
   ]
  },
  {
   "cell_type": "markdown",
   "id": "bacba2bf",
   "metadata": {},
   "source": [
    "\n",
    "# Difference (fark)\n",
    "\n",
    "+ difference() fonksiyonu: s1 kümesi ile s2 kümesinin farklı elemanlarına bakmak için kullanılır....(s1-s2) veya (s1/s2)"
   ]
  },
  {
   "cell_type": "code",
   "execution_count": 68,
   "id": "061bc7ab",
   "metadata": {},
   "outputs": [],
   "source": [
    "s1=set([1,5,10])"
   ]
  },
  {
   "cell_type": "code",
   "execution_count": 69,
   "id": "00f512d5",
   "metadata": {},
   "outputs": [],
   "source": [
    "s2=set([2,5,3])"
   ]
  },
  {
   "cell_type": "code",
   "execution_count": null,
   "id": "8c5f11c0",
   "metadata": {},
   "outputs": [],
   "source": [
    "# s1 setinin hangi elemanları s2 setinin elemanlarından farklıdır."
   ]
  },
  {
   "cell_type": "code",
   "execution_count": 70,
   "id": "25868182",
   "metadata": {},
   "outputs": [
    {
     "data": {
      "text/plain": [
       "{1, 10}"
      ]
     },
     "execution_count": 70,
     "metadata": {},
     "output_type": "execute_result"
    }
   ],
   "source": [
    "s1.difference(s2)\n",
    "# Verilen cevap set yapısındadır."
   ]
  },
  {
   "cell_type": "code",
   "execution_count": 72,
   "id": "8a372cb0",
   "metadata": {},
   "outputs": [
    {
     "data": {
      "text/plain": [
       "{1, 10}"
      ]
     },
     "execution_count": 72,
     "metadata": {},
     "output_type": "execute_result"
    }
   ],
   "source": [
    "# \" - \" operatörü setlerde kullanıldığında bize farkı verir.\n",
    "# ister difference istersen - operatörünü kullan\n",
    "\n",
    "s1-s2\n"
   ]
  },
  {
   "cell_type": "code",
   "execution_count": 74,
   "id": "c4f30186",
   "metadata": {},
   "outputs": [
    {
     "data": {
      "text/plain": [
       "{2, 3}"
      ]
     },
     "execution_count": 74,
     "metadata": {},
     "output_type": "execute_result"
    }
   ],
   "source": [
    "s2.difference(s1)"
   ]
  },
  {
   "cell_type": "code",
   "execution_count": 75,
   "id": "d5ef6da2",
   "metadata": {},
   "outputs": [
    {
     "data": {
      "text/plain": [
       "{2, 3}"
      ]
     },
     "execution_count": 75,
     "metadata": {},
     "output_type": "execute_result"
    }
   ],
   "source": [
    "s2-s1"
   ]
  },
  {
   "attachments": {
    "maxresdefault.jpg": {
     "image/jpeg": "[encoded data removed]"
    }
   },
   "cell_type": "markdown",
   "id": "633f6a10",
   "metadata": {},
   "source": [
    "\n",
    "# Symmetric Difference \n",
    "\n",
    "+ s1' in s2'den farkı ile s2'nin s1'den farkının birleşimi\n",
    "\n",
    "+ (s1/s2) U (s2/s1) --> (s1 U s2) - (s1 n s2)\n",
    "\n",
    "+ U --> Birleşim....n --> Kesişim\n",
    "\n",
    "![maxresdefault.jpg](attachment:maxresdefault.jpg)"
   ]
  },
  {
   "cell_type": "code",
   "execution_count": 78,
   "id": "f263c9fb",
   "metadata": {},
   "outputs": [
    {
     "data": {
      "text/plain": [
       "{1, 5, 10}"
      ]
     },
     "execution_count": 78,
     "metadata": {},
     "output_type": "execute_result"
    }
   ],
   "source": [
    "s1"
   ]
  },
  {
   "cell_type": "code",
   "execution_count": 79,
   "id": "52bbfdf0",
   "metadata": {},
   "outputs": [
    {
     "data": {
      "text/plain": [
       "{2, 3, 5}"
      ]
     },
     "execution_count": 79,
     "metadata": {},
     "output_type": "execute_result"
    }
   ],
   "source": [
    "s2"
   ]
  },
  {
   "cell_type": "code",
   "execution_count": 81,
   "id": "0c239805",
   "metadata": {},
   "outputs": [
    {
     "data": {
      "text/plain": [
       "{1, 2, 3, 10}"
      ]
     },
     "execution_count": 81,
     "metadata": {},
     "output_type": "execute_result"
    }
   ],
   "source": [
    "# (s1-s2) U (s2-s1) veya A U B - (A n B)\n",
    "# Kümelerin sadece kesişimleri alınmaz.\n",
    "\n",
    "s1.symmetric_difference(s2)"
   ]
  },
  {
   "cell_type": "code",
   "execution_count": 84,
   "id": "eb3a0e35",
   "metadata": {},
   "outputs": [
    {
     "data": {
      "text/plain": [
       "{1, 2, 3, 10}"
      ]
     },
     "execution_count": 84,
     "metadata": {},
     "output_type": "execute_result"
    }
   ],
   "source": [
    "s2.symmetric_difference(s1)"
   ]
  },
  {
   "cell_type": "markdown",
   "id": "15f7f70d",
   "metadata": {},
   "source": [
    "\n",
    "# Intersection (kesişim) \n",
    "\n",
    "+ İki kümenin ortak elemanlarına bakılır."
   ]
  },
  {
   "cell_type": "code",
   "execution_count": 85,
   "id": "d4834155",
   "metadata": {},
   "outputs": [
    {
     "data": {
      "text/plain": [
       "{1, 5, 10}"
      ]
     },
     "execution_count": 85,
     "metadata": {},
     "output_type": "execute_result"
    }
   ],
   "source": [
    "s1"
   ]
  },
  {
   "cell_type": "code",
   "execution_count": 86,
   "id": "d4b1c6e1",
   "metadata": {},
   "outputs": [
    {
     "data": {
      "text/plain": [
       "{2, 3, 5}"
      ]
     },
     "execution_count": 86,
     "metadata": {},
     "output_type": "execute_result"
    }
   ],
   "source": [
    "s2"
   ]
  },
  {
   "cell_type": "code",
   "execution_count": 87,
   "id": "c8e8607a",
   "metadata": {},
   "outputs": [
    {
     "data": {
      "text/plain": [
       "{5}"
      ]
     },
     "execution_count": 87,
     "metadata": {},
     "output_type": "execute_result"
    }
   ],
   "source": [
    "s1.intersection(s2)"
   ]
  },
  {
   "cell_type": "code",
   "execution_count": 88,
   "id": "a2968d52",
   "metadata": {},
   "outputs": [
    {
     "data": {
      "text/plain": [
       "{5}"
      ]
     },
     "execution_count": 88,
     "metadata": {},
     "output_type": "execute_result"
    }
   ],
   "source": [
    "s2.intersection(s1)"
   ]
  },
  {
   "cell_type": "code",
   "execution_count": 89,
   "id": "9b233e12",
   "metadata": {},
   "outputs": [
    {
     "data": {
      "text/plain": [
       "{5}"
      ]
     },
     "execution_count": 89,
     "metadata": {},
     "output_type": "execute_result"
    }
   ],
   "source": [
    "# & operatörü setlere uygulanınca kesişim olur.\n",
    "\n",
    "s1 & s2"
   ]
  },
  {
   "cell_type": "code",
   "execution_count": 90,
   "id": "f752f576",
   "metadata": {},
   "outputs": [
    {
     "data": {
      "text/plain": [
       "{5}"
      ]
     },
     "execution_count": 90,
     "metadata": {},
     "output_type": "execute_result"
    }
   ],
   "source": [
    "# Bu işlem kesişim ile aynı sonucu verecektir.\n",
    "\n",
    "s1 -(s1-s2)"
   ]
  },
  {
   "cell_type": "code",
   "execution_count": 91,
   "id": "db7ca0fd",
   "metadata": {},
   "outputs": [
    {
     "data": {
      "text/plain": [
       "{1, 5, 10}"
      ]
     },
     "execution_count": 91,
     "metadata": {},
     "output_type": "execute_result"
    }
   ],
   "source": [
    "s1"
   ]
  },
  {
   "cell_type": "code",
   "execution_count": 92,
   "id": "af00a1d7",
   "metadata": {},
   "outputs": [],
   "source": [
    "# Kesişim yapıp s1 kümesinin değerini buna günceller.\n",
    "s1.intersection_update(s2) # s1=s1.intersection(s2) ifadesine denktir."
   ]
  },
  {
   "cell_type": "code",
   "execution_count": 93,
   "id": "07616034",
   "metadata": {},
   "outputs": [
    {
     "data": {
      "text/plain": [
       "{5}"
      ]
     },
     "execution_count": 93,
     "metadata": {},
     "output_type": "execute_result"
    }
   ],
   "source": [
    "s1"
   ]
  },
  {
   "cell_type": "markdown",
   "id": "6051acf8",
   "metadata": {},
   "source": [
    "\n",
    "# Union (Birleşim) \n",
    "\n",
    "+ İki kümenin tüm elemanları gösterilir. Fakat tekrarlayan eleman olmaz. Kesişim elemanları bir defa bulunur."
   ]
  },
  {
   "cell_type": "code",
   "execution_count": 94,
   "id": "541f7394",
   "metadata": {},
   "outputs": [],
   "source": [
    "s1= set([1,5,10])"
   ]
  },
  {
   "cell_type": "code",
   "execution_count": 96,
   "id": "bb67be1d",
   "metadata": {},
   "outputs": [
    {
     "data": {
      "text/plain": [
       "{1, 5, 10}"
      ]
     },
     "execution_count": 96,
     "metadata": {},
     "output_type": "execute_result"
    }
   ],
   "source": [
    "s1"
   ]
  },
  {
   "cell_type": "code",
   "execution_count": 97,
   "id": "fbd75a9c",
   "metadata": {},
   "outputs": [
    {
     "data": {
      "text/plain": [
       "{2, 3, 5}"
      ]
     },
     "execution_count": 97,
     "metadata": {},
     "output_type": "execute_result"
    }
   ],
   "source": [
    "s2"
   ]
  },
  {
   "cell_type": "code",
   "execution_count": 98,
   "id": "bb74bf87",
   "metadata": {},
   "outputs": [
    {
     "data": {
      "text/plain": [
       "{1, 2, 3, 5, 10}"
      ]
     },
     "execution_count": 98,
     "metadata": {},
     "output_type": "execute_result"
    }
   ],
   "source": [
    "s1.union(s2)"
   ]
  },
  {
   "cell_type": "code",
   "execution_count": 99,
   "id": "53b227a1",
   "metadata": {},
   "outputs": [
    {
     "data": {
      "text/plain": [
       "{1, 2, 3, 5, 10}"
      ]
     },
     "execution_count": 99,
     "metadata": {},
     "output_type": "execute_result"
    }
   ],
   "source": [
    "s2.union(s1)"
   ]
  },
  {
   "cell_type": "markdown",
   "id": "399a88bb",
   "metadata": {},
   "source": [
    "\n",
    "# Disjoint Sets\n",
    "\n",
    "+ s1 n s2 = Ø veya {} olup olmadığını kontrol eder.\n",
    "\n",
    "+ İki kümenin kesişimlerinin boş küme olup olmadığını kontrol eder. Boş küme ise True , kesişim varsa False döner."
   ]
  },
  {
   "cell_type": "code",
   "execution_count": 100,
   "id": "3a919c87",
   "metadata": {},
   "outputs": [
    {
     "data": {
      "text/plain": [
       "{1, 5, 10}"
      ]
     },
     "execution_count": 100,
     "metadata": {},
     "output_type": "execute_result"
    }
   ],
   "source": [
    "s1"
   ]
  },
  {
   "cell_type": "code",
   "execution_count": 101,
   "id": "db4762a6",
   "metadata": {},
   "outputs": [
    {
     "data": {
      "text/plain": [
       "{2, 3, 5}"
      ]
     },
     "execution_count": 101,
     "metadata": {},
     "output_type": "execute_result"
    }
   ],
   "source": [
    "s2"
   ]
  },
  {
   "cell_type": "code",
   "execution_count": 104,
   "id": "6b4cf1dc",
   "metadata": {},
   "outputs": [],
   "source": [
    "s3=set([13,11])"
   ]
  },
  {
   "cell_type": "code",
   "execution_count": 105,
   "id": "df44b829",
   "metadata": {},
   "outputs": [
    {
     "data": {
      "text/plain": [
       "{11, 13}"
      ]
     },
     "execution_count": 105,
     "metadata": {},
     "output_type": "execute_result"
    }
   ],
   "source": [
    "s3"
   ]
  },
  {
   "cell_type": "code",
   "execution_count": 103,
   "id": "eec6963d",
   "metadata": {},
   "outputs": [
    {
     "data": {
      "text/plain": [
       "False"
      ]
     },
     "execution_count": 103,
     "metadata": {},
     "output_type": "execute_result"
    }
   ],
   "source": [
    "# s1 n s2 != Ø (boş küme) değildir, o yüzden False döner.\n",
    "s1.isdisjoint(s2) #s2.isdisjoint(s2) aynı ifadedir.\n"
   ]
  },
  {
   "cell_type": "code",
   "execution_count": 106,
   "id": "493cee4c",
   "metadata": {},
   "outputs": [
    {
     "data": {
      "text/plain": [
       "True"
      ]
     },
     "execution_count": 106,
     "metadata": {},
     "output_type": "execute_result"
    }
   ],
   "source": [
    "#s1 ve s3 kümeleri arasında kesişim olmadığı için True döner\n",
    "s1.isdisjoint(s3) "
   ]
  },
  {
   "cell_type": "code",
   "execution_count": 108,
   "id": "dfff3e6a",
   "metadata": {},
   "outputs": [
    {
     "data": {
      "text/plain": [
       "True"
      ]
     },
     "execution_count": 108,
     "metadata": {},
     "output_type": "execute_result"
    }
   ],
   "source": [
    "len(s1.intersection(s3))== 0"
   ]
  },
  {
   "cell_type": "code",
   "execution_count": 111,
   "id": "6226fe3a",
   "metadata": {},
   "outputs": [
    {
     "data": {
      "text/plain": [
       "set()"
      ]
     },
     "execution_count": 111,
     "metadata": {},
     "output_type": "execute_result"
    }
   ],
   "source": [
    "s1.intersection(s3)\n",
    "# İkisi ayrık küme olduğu için sonuç boş küme- boş set çıkar."
   ]
  },
  {
   "cell_type": "markdown",
   "id": "1d383216",
   "metadata": {},
   "source": [
    "\n",
    "# Subset (Alt Küme)\n",
    "\n",
    "+ s1.issubset(s2), s1'in s2'nin alt kümesi olup olmadığını kontrol eder. Alt kümesi ise True , alt kümesi değilse False döner.\n"
   ]
  },
  {
   "cell_type": "code",
   "execution_count": 112,
   "id": "af5e11df",
   "metadata": {},
   "outputs": [
    {
     "data": {
      "text/plain": [
       "{1, 5, 10}"
      ]
     },
     "execution_count": 112,
     "metadata": {},
     "output_type": "execute_result"
    }
   ],
   "source": [
    "s1"
   ]
  },
  {
   "cell_type": "code",
   "execution_count": 113,
   "id": "fc1045b7",
   "metadata": {},
   "outputs": [
    {
     "data": {
      "text/plain": [
       "{2, 3, 5}"
      ]
     },
     "execution_count": 113,
     "metadata": {},
     "output_type": "execute_result"
    }
   ],
   "source": [
    "s2"
   ]
  },
  {
   "cell_type": "code",
   "execution_count": 114,
   "id": "8c42a729",
   "metadata": {},
   "outputs": [],
   "source": [
    "s3=set([2,5])"
   ]
  },
  {
   "cell_type": "code",
   "execution_count": 115,
   "id": "63e0b110",
   "metadata": {},
   "outputs": [
    {
     "data": {
      "text/plain": [
       "{2, 5}"
      ]
     },
     "execution_count": 115,
     "metadata": {},
     "output_type": "execute_result"
    }
   ],
   "source": [
    "s3"
   ]
  },
  {
   "cell_type": "code",
   "execution_count": 118,
   "id": "25c4b096",
   "metadata": {},
   "outputs": [
    {
     "data": {
      "text/plain": [
       "False"
      ]
     },
     "execution_count": 118,
     "metadata": {},
     "output_type": "execute_result"
    }
   ],
   "source": [
    "# s1, s2'nin alt kümesi midir?\n",
    "s1.issubset(s2)"
   ]
  },
  {
   "cell_type": "code",
   "execution_count": 117,
   "id": "721b572d",
   "metadata": {},
   "outputs": [
    {
     "data": {
      "text/plain": [
       "False"
      ]
     },
     "execution_count": 117,
     "metadata": {},
     "output_type": "execute_result"
    }
   ],
   "source": [
    "#s2 , s3'ün alt kümesi midir.?\n",
    "s2.issubset(s3)"
   ]
  },
  {
   "cell_type": "code",
   "execution_count": 119,
   "id": "7b87041a",
   "metadata": {},
   "outputs": [
    {
     "data": {
      "text/plain": [
       "True"
      ]
     },
     "execution_count": 119,
     "metadata": {},
     "output_type": "execute_result"
    }
   ],
   "source": [
    "# s3, s2'nin alt kümesi midir?\n",
    "s3.issubset(s2)"
   ]
  },
  {
   "cell_type": "markdown",
   "id": "f749c3b0",
   "metadata": {},
   "source": [
    "\n",
    "# Superset (Üst Küme)\n",
    "\n",
    "+ s2.issuperset(s3), s2'nin s3'ün üst kümesi olup olmadığını kontrol eder."
   ]
  },
  {
   "cell_type": "code",
   "execution_count": 120,
   "id": "273d4c49",
   "metadata": {},
   "outputs": [
    {
     "data": {
      "text/plain": [
       "{1, 5, 10}"
      ]
     },
     "execution_count": 120,
     "metadata": {},
     "output_type": "execute_result"
    }
   ],
   "source": [
    "s1"
   ]
  },
  {
   "cell_type": "code",
   "execution_count": 121,
   "id": "2768ca3d",
   "metadata": {},
   "outputs": [
    {
     "data": {
      "text/plain": [
       "{2, 3, 5}"
      ]
     },
     "execution_count": 121,
     "metadata": {},
     "output_type": "execute_result"
    }
   ],
   "source": [
    "s2"
   ]
  },
  {
   "cell_type": "code",
   "execution_count": 122,
   "id": "13bf36fa",
   "metadata": {},
   "outputs": [
    {
     "data": {
      "text/plain": [
       "{2, 5}"
      ]
     },
     "execution_count": 122,
     "metadata": {},
     "output_type": "execute_result"
    }
   ],
   "source": [
    "s3"
   ]
  },
  {
   "cell_type": "code",
   "execution_count": 123,
   "id": "962f1a0f",
   "metadata": {},
   "outputs": [
    {
     "data": {
      "text/plain": [
       "False"
      ]
     },
     "execution_count": 123,
     "metadata": {},
     "output_type": "execute_result"
    }
   ],
   "source": [
    "s2.issuperset(s1)\n",
    "# s2, s1'in üst kümesi midir?"
   ]
  },
  {
   "cell_type": "code",
   "execution_count": 125,
   "id": "ffface2c",
   "metadata": {},
   "outputs": [
    {
     "data": {
      "text/plain": [
       "True"
      ]
     },
     "execution_count": 125,
     "metadata": {},
     "output_type": "execute_result"
    }
   ],
   "source": [
    "s2.issuperset(s3)"
   ]
  }
 ],
 "metadata": {
  "kernelspec": {
   "display_name": "Python 3 (ipykernel)",
   "language": "python",
   "name": "python3"
  },
  "language_info": {
   "codemirror_mode": {
    "name": "ipython",
    "version": 3
   },
   "file_extension": ".py",
   "mimetype": "text/x-python",
   "name": "python",
   "nbconvert_exporter": "python",
   "pygments_lexer": "ipython3",
   "version": "3.11.5"
  }
 },
 "nbformat": 4,
 "nbformat_minor": 5
}
