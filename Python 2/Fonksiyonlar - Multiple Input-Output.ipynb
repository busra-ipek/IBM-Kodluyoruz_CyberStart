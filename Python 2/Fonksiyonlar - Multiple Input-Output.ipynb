{
 "cells": [
  {
   "cell_type": "markdown",
   "id": "50a007d6",
   "metadata": {},
   "source": [
    "\n",
    "# Birden çok input\n",
    "\n",
    "+ Fonksiyonların birden çok parametresi olabilir."
   ]
  },
  {
   "cell_type": "code",
   "execution_count": 1,
   "id": "fed7e51c",
   "metadata": {},
   "outputs": [],
   "source": [
    "def square(x):\n",
    "    return x*x"
   ]
  },
  {
   "cell_type": "code",
   "execution_count": 7,
   "id": "25b3bea1",
   "metadata": {},
   "outputs": [
    {
     "data": {
      "text/plain": [
       "9"
      ]
     },
     "execution_count": 7,
     "metadata": {},
     "output_type": "execute_result"
    }
   ],
   "source": [
    "square(3)"
   ]
  },
  {
   "cell_type": "code",
   "execution_count": 3,
   "id": "ab65dd2a",
   "metadata": {},
   "outputs": [],
   "source": [
    "def power(x,y):\n",
    "    \n",
    "    return x ** y\n",
    "\n",
    "# x**y = x^y ifadesine denktir."
   ]
  },
  {
   "cell_type": "code",
   "execution_count": 4,
   "id": "4db2dfa4",
   "metadata": {},
   "outputs": [
    {
     "data": {
      "text/plain": [
       "8"
      ]
     },
     "execution_count": 4,
     "metadata": {},
     "output_type": "execute_result"
    }
   ],
   "source": [
    "power(2,3)"
   ]
  },
  {
   "cell_type": "markdown",
   "id": "cc692fcc",
   "metadata": {},
   "source": [
    "\n",
    "# Birden çok değer döndüren fonksiyonlar"
   ]
  },
  {
   "cell_type": "code",
   "execution_count": 5,
   "id": "27c50cdb",
   "metadata": {},
   "outputs": [],
   "source": [
    "def f(x):\n",
    "    \n",
    "    return 2*x, 10*x"
   ]
  },
  {
   "cell_type": "code",
   "execution_count": 6,
   "id": "b5148ffb",
   "metadata": {},
   "outputs": [
    {
     "data": {
      "text/plain": [
       "(20, 100)"
      ]
     },
     "execution_count": 6,
     "metadata": {},
     "output_type": "execute_result"
    }
   ],
   "source": [
    "f(10)"
   ]
  },
  {
   "cell_type": "markdown",
   "id": "5dde7651",
   "metadata": {},
   "source": [
    "+ f fonksiyonunun sonucu tuple olarak döndürüldü."
   ]
  },
  {
   "cell_type": "code",
   "execution_count": 8,
   "id": "f4718d72",
   "metadata": {},
   "outputs": [],
   "source": [
    "a, b = f(10)\n",
    "\n",
    "# f fonksiyonunun 10 parametresinde elde ettiği sonuç a ve b değişkenlerine aktarılır."
   ]
  },
  {
   "cell_type": "code",
   "execution_count": 9,
   "id": "10f43549",
   "metadata": {},
   "outputs": [
    {
     "data": {
      "text/plain": [
       "20"
      ]
     },
     "execution_count": 9,
     "metadata": {},
     "output_type": "execute_result"
    }
   ],
   "source": [
    "a"
   ]
  },
  {
   "cell_type": "code",
   "execution_count": 10,
   "id": "7c988b15",
   "metadata": {},
   "outputs": [
    {
     "data": {
      "text/plain": [
       "100"
      ]
     },
     "execution_count": 10,
     "metadata": {},
     "output_type": "execute_result"
    }
   ],
   "source": [
    "b"
   ]
  },
  {
   "cell_type": "code",
   "execution_count": 11,
   "id": "5427d4a1",
   "metadata": {},
   "outputs": [],
   "source": [
    "def f(x,y):\n",
    "    \n",
    "    return 2*x*y, (10*x)**y"
   ]
  },
  {
   "cell_type": "code",
   "execution_count": 12,
   "id": "3d5941cb",
   "metadata": {},
   "outputs": [
    {
     "data": {
      "text/plain": [
       "(40, 10000)"
      ]
     },
     "execution_count": 12,
     "metadata": {},
     "output_type": "execute_result"
    }
   ],
   "source": [
    "f(10,2)"
   ]
  },
  {
   "cell_type": "markdown",
   "id": "23b8c4aa",
   "metadata": {},
   "source": [
    "+ Bir fonksiyonun birden fazla inputu/parametresi olabilir ve birden fazla outputu/sonuç üretebilir.\n",
    "\n",
    "+ Input-Outputlar birden fazla ise virgülle ayrılırlar"
   ]
  }
 ],
 "metadata": {
  "kernelspec": {
   "display_name": "Python 3 (ipykernel)",
   "language": "python",
   "name": "python3"
  },
  "language_info": {
   "codemirror_mode": {
    "name": "ipython",
    "version": 3
   },
   "file_extension": ".py",
   "mimetype": "text/x-python",
   "name": "python",
   "nbconvert_exporter": "python",
   "pygments_lexer": "ipython3",
   "version": "3.11.5"
  }
 },
 "nbformat": 4,
 "nbformat_minor": 5
}
