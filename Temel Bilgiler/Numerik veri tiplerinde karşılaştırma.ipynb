{
 "cells": [
  {
   "cell_type": "markdown",
   "id": "f8b65c58",
   "metadata": {},
   "source": [
    "# Numerik veri tiplerinde karşılaştırma\n",
    "\n",
    "+ Comparison operator'lar (karşılaştırma operatörleri) kullanılır. Bu karşılaştırmada cevaplar True veya False olur.\n",
    "\n",
    "+ i==j eşitlik/equality testi: i ve j birbirine eşitse boolean değeri True olur , eşit değilse False olur.\n",
    "\n",
    "+ i!=j eşitsizlik/inequality testi : i vve j birbirine eşit değilse True olur, eşitse false olur.\n",
    "\n",
    "+ i>j : i j' den büyükse True olur, eşit veya küçük ise False olur.\n",
    "\n",
    "+ i>= : i j' den büyük ve eşitse True olur, küçükse False olur.\n",
    "\n",
    "+ i<j: i j'den küçükse True olur, büyük veya eşitse False olur.\n",
    "\n",
    "+ i<=: i j'den küçük ve eşitse True olur, büyükse  False olur.\n"
   ]
  },
  {
   "cell_type": "code",
   "execution_count": 1,
   "id": "15c9b963",
   "metadata": {},
   "outputs": [
    {
     "data": {
      "text/plain": [
       "False"
      ]
     },
     "execution_count": 1,
     "metadata": {},
     "output_type": "execute_result"
    }
   ],
   "source": [
    "5==4"
   ]
  },
  {
   "cell_type": "code",
   "execution_count": 2,
   "id": "58a87bd2",
   "metadata": {},
   "outputs": [
    {
     "data": {
      "text/plain": [
       "True"
      ]
     },
     "execution_count": 2,
     "metadata": {},
     "output_type": "execute_result"
    }
   ],
   "source": [
    "7==7"
   ]
  },
  {
   "cell_type": "code",
   "execution_count": 4,
   "id": "1f7d0512",
   "metadata": {},
   "outputs": [],
   "source": [
    "k=10\n",
    "m=20"
   ]
  },
  {
   "cell_type": "code",
   "execution_count": 5,
   "id": "60024a7d",
   "metadata": {},
   "outputs": [
    {
     "data": {
      "text/plain": [
       "False"
      ]
     },
     "execution_count": 5,
     "metadata": {},
     "output_type": "execute_result"
    }
   ],
   "source": [
    "k==m"
   ]
  },
  {
   "cell_type": "code",
   "execution_count": 6,
   "id": "ac19e48d",
   "metadata": {},
   "outputs": [
    {
     "data": {
      "text/plain": [
       "False"
      ]
     },
     "execution_count": 6,
     "metadata": {},
     "output_type": "execute_result"
    }
   ],
   "source": [
    "5.3==5.4"
   ]
  },
  {
   "cell_type": "code",
   "execution_count": 10,
   "id": "1aef1569",
   "metadata": {},
   "outputs": [],
   "source": [
    "x=(0.3*3)+0.1\n",
    "y=1.0"
   ]
  },
  {
   "cell_type": "code",
   "execution_count": 11,
   "id": "f6375f05",
   "metadata": {},
   "outputs": [
    {
     "data": {
      "text/plain": [
       "False"
      ]
     },
     "execution_count": 11,
     "metadata": {},
     "output_type": "execute_result"
    }
   ],
   "source": [
    "x==y"
   ]
  },
  {
   "cell_type": "code",
   "execution_count": 12,
   "id": "dde07f9b",
   "metadata": {},
   "outputs": [
    {
     "data": {
      "text/plain": [
       "0.9999999999999999"
      ]
     },
     "execution_count": 12,
     "metadata": {},
     "output_type": "execute_result"
    }
   ],
   "source": [
    "x"
   ]
  },
  {
   "cell_type": "code",
   "execution_count": 13,
   "id": "de189812",
   "metadata": {},
   "outputs": [
    {
     "data": {
      "text/plain": [
       "True"
      ]
     },
     "execution_count": 13,
     "metadata": {},
     "output_type": "execute_result"
    }
   ],
   "source": [
    "6!=5"
   ]
  },
  {
   "cell_type": "code",
   "execution_count": 14,
   "id": "563f591c",
   "metadata": {},
   "outputs": [
    {
     "data": {
      "text/plain": [
       "False"
      ]
     },
     "execution_count": 14,
     "metadata": {},
     "output_type": "execute_result"
    }
   ],
   "source": [
    "3!=3"
   ]
  },
  {
   "cell_type": "code",
   "execution_count": 15,
   "id": "cdd5ebef",
   "metadata": {},
   "outputs": [
    {
     "data": {
      "text/plain": [
       "False"
      ]
     },
     "execution_count": 15,
     "metadata": {},
     "output_type": "execute_result"
    }
   ],
   "source": [
    "17>67"
   ]
  },
  {
   "cell_type": "code",
   "execution_count": 16,
   "id": "078c59e3",
   "metadata": {},
   "outputs": [
    {
     "data": {
      "text/plain": [
       "True"
      ]
     },
     "execution_count": 16,
     "metadata": {},
     "output_type": "execute_result"
    }
   ],
   "source": [
    "17>9"
   ]
  },
  {
   "cell_type": "code",
   "execution_count": 17,
   "id": "b519c034",
   "metadata": {},
   "outputs": [
    {
     "data": {
      "text/plain": [
       "True"
      ]
     },
     "execution_count": 17,
     "metadata": {},
     "output_type": "execute_result"
    }
   ],
   "source": [
    "23>=23"
   ]
  },
  {
   "cell_type": "code",
   "execution_count": 18,
   "id": "89247faf",
   "metadata": {},
   "outputs": [
    {
     "data": {
      "text/plain": [
       "True"
      ]
     },
     "execution_count": 18,
     "metadata": {},
     "output_type": "execute_result"
    }
   ],
   "source": [
    "56<67"
   ]
  },
  {
   "cell_type": "code",
   "execution_count": 19,
   "id": "55a1055e",
   "metadata": {},
   "outputs": [
    {
     "data": {
      "text/plain": [
       "True"
      ]
     },
     "execution_count": 19,
     "metadata": {},
     "output_type": "execute_result"
    }
   ],
   "source": [
    "56<=89"
   ]
  }
 ],
 "metadata": {
  "kernelspec": {
   "display_name": "Python 3 (ipykernel)",
   "language": "python",
   "name": "python3"
  },
  "language_info": {
   "codemirror_mode": {
    "name": "ipython",
    "version": 3
   },
   "file_extension": ".py",
   "mimetype": "text/x-python",
   "name": "python",
   "nbconvert_exporter": "python",
   "pygments_lexer": "ipython3",
   "version": "3.11.5"
  }
 },
 "nbformat": 4,
 "nbformat_minor": 5
}
