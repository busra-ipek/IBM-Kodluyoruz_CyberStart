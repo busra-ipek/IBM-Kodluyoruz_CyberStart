{
 "cells": [
  {
   "cell_type": "markdown",
   "id": "0259152c",
   "metadata": {},
   "source": [
    "# Döngüler (Loops)\n",
    "\n",
    "+ Bir işlemi veya bir kod bloğunu birden fazla kez çalıştırmak istiyorsak döngüleri kullanırız."
   ]
  },
  {
   "cell_type": "markdown",
   "id": "cfa4c60a",
   "metadata": {},
   "source": [
    "# while döngüsü\n",
    "\n",
    "+ while döngüsünde koşul doğru-True olduğu sürece while kod bloğu çalışır.\n",
    "\n",
    "+ while içindeki işlemler if kod bloğunda olduğu gibi boşluk bırakarak yazılır."
   ]
  },
  {
   "cell_type": "code",
   "execution_count": 3,
   "id": "3f956f52",
   "metadata": {},
   "outputs": [
    {
     "name": "stdout",
     "output_type": "stream",
     "text": [
      "Bir sayı giriniz: -13\n",
      "Girdiğiniz sayı negatiftir, lütfen pozitif bir sayı giriniz.\n",
      "Bir sayı giriniz: -74\n",
      "Girdiğiniz sayı negatiftir, lütfen pozitif bir sayı giriniz.\n",
      "Bir sayı giriniz: 58\n",
      "Girdiğiniz  58 sayısı pozitiftir.\n"
     ]
    }
   ],
   "source": [
    "x=int(input(\"Bir sayı giriniz: \"))\n",
    "\n",
    "while (x < 10 ):\n",
    "    print(\"Girdiğiniz sayı negatiftir, lütfen pozitif bir sayı giriniz.\")\n",
    "    x=int(input(\"Bir sayı giriniz: \"))\n",
    "    \n",
    "print(\"Girdiğiniz \",x , \"sayısı pozitiftir.\")"
   ]
  },
  {
   "cell_type": "code",
   "execution_count": 6,
   "id": "9e682608",
   "metadata": {},
   "outputs": [
    {
     "name": "stdout",
     "output_type": "stream",
     "text": [
      "0\n",
      "1\n",
      "2\n",
      "3\n"
     ]
    }
   ],
   "source": [
    "x = 0    #Başlangıç değeri\n",
    "\n",
    "while (x < 4) :      #Koşul - şart\n",
    "    print(x)\n",
    "    x=x+1       #Sayaç (x değeri her seferinde birer birer arttırılır.)"
   ]
  },
  {
   "cell_type": "markdown",
   "id": "be761801",
   "metadata": {},
   "source": [
    "+ 0'dan 100'e kadar olan sayıların toplamını bulan while döngüsü"
   ]
  },
  {
   "cell_type": "code",
   "execution_count": 9,
   "id": "8acf2871",
   "metadata": {},
   "outputs": [
    {
     "name": "stdout",
     "output_type": "stream",
     "text": [
      "5050\n"
     ]
    }
   ],
   "source": [
    "toplam=0\n",
    "x=0        #Başlangıç değeri\n",
    "\n",
    "while (x <= 100) :     #Koşul - şart\n",
    "    toplam += x\n",
    "    x += 1     #Sayaç (x değeri her seferinde birer birer arttırılır.)\n",
    "    \n",
    "print(toplam)"
   ]
  },
  {
   "cell_type": "markdown",
   "id": "5f74e311",
   "metadata": {},
   "source": [
    "+ Döngünün içinde kontrol edilen değişkeni güncelleyecek bir ifadenin (sayaç) olması gerekir.\n",
    "+ Sayaç olmazsa while döngüsü sonsuz döngüye girer."
   ]
  },
  {
   "cell_type": "code",
   "execution_count": null,
   "id": "87a4c709",
   "metadata": {},
   "outputs": [],
   "source": [
    "#Sayaç olmadığı için x değeri değişmez ve bu yüzden toplam değeride değişmeyecektir.\n",
    "toplam=0\n",
    "x=0        #Başlangıç değeri\n",
    "\n",
    "while (x <= 100) :     #Koşul - şart\n",
    "    toplam += x\n",
    "    print(x)  \n",
    "    \n",
    "print(toplam)"
   ]
  }
 ],
 "metadata": {
  "kernelspec": {
   "display_name": "Python 3 (ipykernel)",
   "language": "python",
   "name": "python3"
  },
  "language_info": {
   "codemirror_mode": {
    "name": "ipython",
    "version": 3
   },
   "file_extension": ".py",
   "mimetype": "text/x-python",
   "name": "python",
   "nbconvert_exporter": "python",
   "pygments_lexer": "ipython3",
   "version": "3.11.5"
  }
 },
 "nbformat": 4,
 "nbformat_minor": 5
}
