{
 "cells": [
  {
   "cell_type": "markdown",
   "id": "190637a4",
   "metadata": {},
   "source": [
    "# Branching - Programı dallandırma\n",
    "\n",
    "+ Koşulların True veya False olmasıyla dallanmalar gerçekleşir."
   ]
  },
  {
   "cell_type": "markdown",
   "id": "428ee0db",
   "metadata": {},
   "source": [
    "# if\n",
    "\n",
    "+ if (koşul):\n",
    "+  (Boşluk) işlemler\n",
    "\n",
    "+ Eğer koşulun/ şartın  değeri True ise if bloğunun içinde yazan işlemler yapılır.\n",
    "\n",
    "+ Yapılacak işlemlerin if bloğuna ait olduğunu belitmek için, if ' in alt satırında biraz boşluk bırakarak (tab tuşuna basabilirsin) işlemler yazılır. \n",
    "\n",
    "+ Boşluk bırakmazsan o işlem python tarafından yapılmaz."
   ]
  },
  {
   "cell_type": "code",
   "execution_count": 1,
   "id": "0f4f9204",
   "metadata": {},
   "outputs": [
    {
     "name": "stdout",
     "output_type": "stream",
     "text": [
      "Bir sayı giriniz: 8\n",
      "Sayınız çift sayıdır.\n",
      "Programınız sona ulaştı.\n"
     ]
    }
   ],
   "source": [
    "x= int(input(\"Bir sayı giriniz: \"))\n",
    "\n",
    "if (x % 2 == 0) :\n",
    "    print(\"Sayınız çift sayıdır.\")\n",
    "    \n",
    "print(\"Programınız sona ulaştı.\" )"
   ]
  },
  {
   "cell_type": "markdown",
   "id": "79373504",
   "metadata": {},
   "source": [
    " # else\n",
    "\n",
    "+ if veya elif/elself ile yapılan koşul/şart kontrolü False ise bu kod bloğu çalıştırılır."
   ]
  },
  {
   "cell_type": "code",
   "execution_count": 4,
   "id": "880171dd",
   "metadata": {},
   "outputs": [
    {
     "name": "stdout",
     "output_type": "stream",
     "text": [
      "Bir sayı giriniz: 7\n",
      "Sayınız tek sayıdır.\n",
      "Programınız sona ulaştı.\n"
     ]
    }
   ],
   "source": [
    "x= int(input(\"Bir sayı giriniz: \"))\n",
    "\n",
    "if (x % 2 == 0) :\n",
    "    print(\"Sayınız çift sayıdır.\")\n",
    "\n",
    "else :\n",
    "     print(\"Sayınız tek sayıdır.\")\n",
    "    \n",
    "print(\"Programınız sona ulaştı.\" )"
   ]
  },
  {
   "cell_type": "markdown",
   "id": "0f78a491",
   "metadata": {},
   "source": [
    "# elif\n",
    "\n",
    "+ elif, if ile baktığımız koşullara ek olarak başka koşulları da kontrol etmek istiyorsak kullanırız."
   ]
  },
  {
   "cell_type": "code",
   "execution_count": 7,
   "id": "8ab948a1",
   "metadata": {},
   "outputs": [
    {
     "name": "stdout",
     "output_type": "stream",
     "text": [
      "Bir sayı giriniz: 10\n",
      "Sayınız 10'a eşittir.\n",
      "Programınız sona ulaştı.\n"
     ]
    }
   ],
   "source": [
    "x= int(input(\"Bir sayı giriniz: \"))\n",
    "\n",
    "if (x < 10) :\n",
    "    print(\"Sayınız 10'dan küçüktür.\")\n",
    "\n",
    "elif (x==10):\n",
    "    print(\"Sayınız 10'a eşittir.\")\n",
    "    \n",
    "else :\n",
    "     print(\"Sayınız 10'dan büyüktür.\")\n",
    "    \n",
    "print(\"Programınız sona ulaştı.\" )"
   ]
  },
  {
   "cell_type": "code",
   "execution_count": 11,
   "id": "a95c9786",
   "metadata": {},
   "outputs": [
    {
     "name": "stdout",
     "output_type": "stream",
     "text": [
      "0 ile 100 arasında bir sayı giriniz: 83\n",
      "Sayınız 80 ile 90 arasında.\n",
      "Programınız sona ulaştı.\n"
     ]
    }
   ],
   "source": [
    "x= int(input(\"0 ile 100 arasında bir sayı giriniz: \"))\n",
    "\n",
    "if (x == 100) :\n",
    "    print(\"Sayınız 100.\")\n",
    "\n",
    "elif (x >= 90):\n",
    "    print(\"Sayınız 90 ile 100 arasında.\")\n",
    "\n",
    "elif (x >= 80):\n",
    "    print(\"Sayınız 80 ile 90 arasında.\")\n",
    "    \n",
    "else :\n",
    "     print(\"Sayınız 80'den küçüktür.\")\n",
    "    \n",
    "print(\"Programınız sona ulaştı.\" )"
   ]
  },
  {
   "cell_type": "markdown",
   "id": "e6d737c2",
   "metadata": {},
   "source": [
    "# Nested if\n",
    "\n",
    "+ if,else ve elif bloğunun içine yazdığımız kod normal koddan farklı değil, o yüzden bu kodların içine yine if, elif ve else yazabiliriz.\n"
   ]
  },
  {
   "cell_type": "code",
   "execution_count": 16,
   "id": "204b49e0",
   "metadata": {},
   "outputs": [
    {
     "name": "stdout",
     "output_type": "stream",
     "text": [
      "Bir sayı giriniz: 72\n",
      "Girdiğiniz sayı hem 2'ye hem de 3'e bölünür.\n",
      "Programınız sona ulaştı.\n"
     ]
    }
   ],
   "source": [
    "x=int(input(\"Bir sayı giriniz: \"))\n",
    "\n",
    "if (x % 3 == 0):\n",
    "    if (x % 2 == 0):\n",
    "        print(\"Girdiğiniz sayı hem 2'ye hem de 3'e bölünür.\")\n",
    "    else :\n",
    "        print(\"Girdiğiniz sayı 3'e bölünüyor ama 2'ye bölünmüyor.\")\n",
    "        \n",
    "else :\n",
    "    print(\"Girdiğiniz sayı 3'e bölünmüyor.\")\n",
    "    \n",
    "print(\"Programınız sona ulaştı.\" )   "
   ]
  },
  {
   "cell_type": "markdown",
   "id": "3aa4b17b",
   "metadata": {},
   "source": [
    "# Test olarak mantıksal operatörleri kullanmak"
   ]
  },
  {
   "cell_type": "code",
   "execution_count": 19,
   "id": "231971d9",
   "metadata": {},
   "outputs": [
    {
     "name": "stdout",
     "output_type": "stream",
     "text": [
      "Bir sayı giriniz: 6\n",
      "Girdiğiniz sayı hem 2'ye hem de 3'e bölünür.\n",
      "Programınız sona ulaştı.\n"
     ]
    }
   ],
   "source": [
    "x=int(input(\"Bir sayı giriniz: \"))\n",
    "\n",
    "if (x % 3== 0) and (x % 2)==0 :\n",
    "    print(\"Girdiğiniz sayı hem 2'ye hem de 3'e bölünür.\")\n",
    "\n",
    "print(\"Programınız sona ulaştı.\" ) "
   ]
  },
  {
   "cell_type": "code",
   "execution_count": 18,
   "id": "f41b7add",
   "metadata": {},
   "outputs": [
    {
     "name": "stdout",
     "output_type": "stream",
     "text": [
      "Bir sayı giriniz: 9\n",
      "Girdiğiniz sayı 2 veya 3'den en az birine bölünür.\n",
      "Programınız sona ulaştı.\n"
     ]
    }
   ],
   "source": [
    "x=int(input(\"Bir sayı giriniz: \"))\n",
    "\n",
    "if (x % 3== 0) or (x % 2)==0 :\n",
    "    print(\"Girdiğiniz sayı 2 veya 3'den en az birine bölünür.\")\n",
    "\n",
    "print(\"Programınız sona ulaştı.\" ) "
   ]
  }
 ],
 "metadata": {
  "kernelspec": {
   "display_name": "Python 3 (ipykernel)",
   "language": "python",
   "name": "python3"
  },
  "language_info": {
   "codemirror_mode": {
    "name": "ipython",
    "version": 3
   },
   "file_extension": ".py",
   "mimetype": "text/x-python",
   "name": "python",
   "nbconvert_exporter": "python",
   "pygments_lexer": "ipython3",
   "version": "3.11.5"
  }
 },
 "nbformat": 4,
 "nbformat_minor": 5
}
