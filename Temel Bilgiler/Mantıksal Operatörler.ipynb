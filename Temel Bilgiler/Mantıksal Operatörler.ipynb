{
 "cells": [
  {
   "cell_type": "markdown",
   "id": "43c9412e",
   "metadata": {},
   "source": [
    "# Mantıksal Operatörler- Logical Operators\n",
    "\n",
    "+ Boolean değişkenleri üzerine uygulanırlar.\n",
    "\n",
    "+ not,and/ve,or/veya örnektir."
   ]
  },
  {
   "cell_type": "markdown",
   "id": "c40443da",
   "metadata": {},
   "source": [
    "# not\n",
    "\n",
    "+ not True --> False olur.\n",
    "+ not False --> True olur."
   ]
  },
  {
   "cell_type": "code",
   "execution_count": 1,
   "id": "ec474cac",
   "metadata": {},
   "outputs": [
    {
     "data": {
      "text/plain": [
       "False"
      ]
     },
     "execution_count": 1,
     "metadata": {},
     "output_type": "execute_result"
    }
   ],
   "source": [
    "not True"
   ]
  },
  {
   "cell_type": "code",
   "execution_count": 2,
   "id": "cc0f2556",
   "metadata": {},
   "outputs": [
    {
     "data": {
      "text/plain": [
       "True"
      ]
     },
     "execution_count": 2,
     "metadata": {},
     "output_type": "execute_result"
    }
   ],
   "source": [
    "not False"
   ]
  },
  {
   "cell_type": "code",
   "execution_count": 3,
   "id": "2e240182",
   "metadata": {},
   "outputs": [
    {
     "data": {
      "text/plain": [
       "False"
      ]
     },
     "execution_count": 3,
     "metadata": {},
     "output_type": "execute_result"
    }
   ],
   "source": [
    "not 5<6\n",
    "# 5 ve 6 karşılaştırılır daha sonra çıkan bool değerinin \n",
    "# not-değil-tam tersi alınır."
   ]
  },
  {
   "cell_type": "code",
   "execution_count": 4,
   "id": "5b7842a0",
   "metadata": {},
   "outputs": [
    {
     "data": {
      "text/plain": [
       "False"
      ]
     },
     "execution_count": 4,
     "metadata": {},
     "output_type": "execute_result"
    }
   ],
   "source": [
    "not 5==5"
   ]
  },
  {
   "cell_type": "code",
   "execution_count": 6,
   "id": "42d4d9dd",
   "metadata": {},
   "outputs": [],
   "source": [
    "a=4\n",
    "b=10"
   ]
  },
  {
   "cell_type": "code",
   "execution_count": 7,
   "id": "ac2aa788",
   "metadata": {},
   "outputs": [
    {
     "data": {
      "text/plain": [
       "False"
      ]
     },
     "execution_count": 7,
     "metadata": {},
     "output_type": "execute_result"
    }
   ],
   "source": [
    "not a<b"
   ]
  },
  {
   "cell_type": "code",
   "execution_count": 8,
   "id": "274e0a3a",
   "metadata": {},
   "outputs": [
    {
     "data": {
      "text/plain": [
       "False"
      ]
     },
     "execution_count": 8,
     "metadata": {},
     "output_type": "execute_result"
    }
   ],
   "source": [
    "not (a<b)"
   ]
  },
  {
   "cell_type": "markdown",
   "id": "b7f42bdf",
   "metadata": {},
   "source": [
    "# and \n",
    "\n",
    "+ True and True = True olur.\n",
    "+ Diğer tüm ihtimallerde cevap False olur."
   ]
  },
  {
   "cell_type": "code",
   "execution_count": 9,
   "id": "e5fa2d70",
   "metadata": {},
   "outputs": [
    {
     "data": {
      "text/plain": [
       "True"
      ]
     },
     "execution_count": 9,
     "metadata": {},
     "output_type": "execute_result"
    }
   ],
   "source": [
    "True and True"
   ]
  },
  {
   "cell_type": "code",
   "execution_count": 10,
   "id": "e6c196f7",
   "metadata": {},
   "outputs": [
    {
     "data": {
      "text/plain": [
       "False"
      ]
     },
     "execution_count": 10,
     "metadata": {},
     "output_type": "execute_result"
    }
   ],
   "source": [
    "True and False"
   ]
  },
  {
   "cell_type": "code",
   "execution_count": 11,
   "id": "879846e9",
   "metadata": {},
   "outputs": [
    {
     "data": {
      "text/plain": [
       "False"
      ]
     },
     "execution_count": 11,
     "metadata": {},
     "output_type": "execute_result"
    }
   ],
   "source": [
    "False and False"
   ]
  },
  {
   "cell_type": "code",
   "execution_count": 12,
   "id": "29278736",
   "metadata": {},
   "outputs": [],
   "source": [
    "a=4\n",
    "b=1\n",
    "c=10"
   ]
  },
  {
   "cell_type": "code",
   "execution_count": 13,
   "id": "c178fc64",
   "metadata": {},
   "outputs": [
    {
     "data": {
      "text/plain": [
       "True"
      ]
     },
     "execution_count": 13,
     "metadata": {},
     "output_type": "execute_result"
    }
   ],
   "source": [
    "(a>b) and (b<c)"
   ]
  },
  {
   "cell_type": "code",
   "execution_count": 15,
   "id": "ddad4ee5",
   "metadata": {},
   "outputs": [
    {
     "data": {
      "text/plain": [
       "False"
      ]
     },
     "execution_count": 15,
     "metadata": {},
     "output_type": "execute_result"
    }
   ],
   "source": [
    "(a>b) and (b>c)"
   ]
  },
  {
   "cell_type": "markdown",
   "id": "49b8e756",
   "metadata": {},
   "source": [
    "# or\n",
    "\n",
    "+ En az biri True ise cevap True olur.\n",
    "+ Yalnızca False or False = False ifadesinde cevap False olur."
   ]
  },
  {
   "cell_type": "code",
   "execution_count": 16,
   "id": "3e042016",
   "metadata": {},
   "outputs": [
    {
     "data": {
      "text/plain": [
       "True"
      ]
     },
     "execution_count": 16,
     "metadata": {},
     "output_type": "execute_result"
    }
   ],
   "source": [
    "True or True"
   ]
  },
  {
   "cell_type": "code",
   "execution_count": 17,
   "id": "68e6c8d5",
   "metadata": {},
   "outputs": [
    {
     "data": {
      "text/plain": [
       "True"
      ]
     },
     "execution_count": 17,
     "metadata": {},
     "output_type": "execute_result"
    }
   ],
   "source": [
    "False or True"
   ]
  },
  {
   "cell_type": "code",
   "execution_count": 18,
   "id": "5c3263e8",
   "metadata": {},
   "outputs": [
    {
     "data": {
      "text/plain": [
       "True"
      ]
     },
     "execution_count": 18,
     "metadata": {},
     "output_type": "execute_result"
    }
   ],
   "source": [
    "True or False"
   ]
  },
  {
   "cell_type": "code",
   "execution_count": 19,
   "id": "a8dd2cbb",
   "metadata": {},
   "outputs": [
    {
     "data": {
      "text/plain": [
       "False"
      ]
     },
     "execution_count": 19,
     "metadata": {},
     "output_type": "execute_result"
    }
   ],
   "source": [
    "False or False"
   ]
  },
  {
   "cell_type": "code",
   "execution_count": 20,
   "id": "446c85f5",
   "metadata": {},
   "outputs": [],
   "source": [
    "a=4\n",
    "b=1\n",
    "c=10"
   ]
  },
  {
   "cell_type": "code",
   "execution_count": 21,
   "id": "f32529dc",
   "metadata": {},
   "outputs": [
    {
     "data": {
      "text/plain": [
       "True"
      ]
     },
     "execution_count": 21,
     "metadata": {},
     "output_type": "execute_result"
    }
   ],
   "source": [
    "(a>b) or (b<c)"
   ]
  },
  {
   "cell_type": "code",
   "execution_count": 22,
   "id": "b2ae4921",
   "metadata": {},
   "outputs": [
    {
     "data": {
      "text/plain": [
       "True"
      ]
     },
     "execution_count": 22,
     "metadata": {},
     "output_type": "execute_result"
    }
   ],
   "source": [
    "(a>b)or(b>c)"
   ]
  },
  {
   "cell_type": "code",
   "execution_count": 23,
   "id": "9e4afd06",
   "metadata": {},
   "outputs": [
    {
     "data": {
      "text/plain": [
       "False"
      ]
     },
     "execution_count": 23,
     "metadata": {},
     "output_type": "execute_result"
    }
   ],
   "source": [
    "(a<b) or (b>c)"
   ]
  },
  {
   "cell_type": "markdown",
   "id": "82bbed15",
   "metadata": {},
   "source": [
    "# Short Circuit \n",
    "\n",
    "+ and operatöründe ilk ifadenin değerinin False olduğunu biliyorsan ikinci ifadenin ne olduğunun bir önemi yoktur zaten cevap False çıkacaktır.\n",
    "\n",
    "+ or operatöründe ilk ifadenin değerinin True olduğunu biliyorsan ikinci ifadenin ne olduğunun bir önemi yoktur zaten cevap True çıkacaktır."
   ]
  },
  {
   "cell_type": "code",
   "execution_count": 24,
   "id": "bf6b1117",
   "metadata": {},
   "outputs": [
    {
     "data": {
      "text/plain": [
       "False"
      ]
     },
     "execution_count": 24,
     "metadata": {},
     "output_type": "execute_result"
    }
   ],
   "source": [
    "(5 < 3) and print(\"hey\")\n",
    "#ilk ifade  kontrol edildi FALSE olduğu için ikinci ifadeye bakılmadan\n",
    "# direkt olarak False yazdırıldı."
   ]
  },
  {
   "cell_type": "code",
   "execution_count": 25,
   "id": "497064ba",
   "metadata": {},
   "outputs": [
    {
     "data": {
      "text/plain": [
       "True"
      ]
     },
     "execution_count": 25,
     "metadata": {},
     "output_type": "execute_result"
    }
   ],
   "source": [
    "(5 > 3) or print(\"hey\")\n",
    "#ilk ifade  kontrol edildi TRUE olduğu için ikinci ifadeye bakılmadan\n",
    "# direkt olarak True yazdırıldı."
   ]
  },
  {
   "cell_type": "code",
   "execution_count": 27,
   "id": "f090285a",
   "metadata": {},
   "outputs": [
    {
     "name": "stdout",
     "output_type": "stream",
     "text": [
      "hey\n"
     ]
    }
   ],
   "source": [
    "(5 < 3) or print(\"hey\")\n",
    "# ilk cevap False olduğu için ikinciye baktı ve ekrana yazdırdı."
   ]
  },
  {
   "cell_type": "code",
   "execution_count": 29,
   "id": "1d4184f0",
   "metadata": {},
   "outputs": [
    {
     "name": "stdout",
     "output_type": "stream",
     "text": [
      "hey\n"
     ]
    }
   ],
   "source": [
    "(5 > 3) and print(\"hey\")\n",
    "#ilk cevap true olduğu için ikinci tarafa baktı."
   ]
  },
  {
   "cell_type": "markdown",
   "id": "4cf12030",
   "metadata": {},
   "source": [
    "#  & - and operatörü\n",
    "\n",
    "+ & 'da and'ın yaptığını yapar short circuit davranışı göstermez.\n",
    "\n",
    "+ Bu operatör kullanılırsa ilk cevap FALSE olsa bile ikinci tarafa bakıyor."
   ]
  },
  {
   "cell_type": "code",
   "execution_count": 30,
   "id": "d4a82c81",
   "metadata": {},
   "outputs": [
    {
     "data": {
      "text/plain": [
       "True"
      ]
     },
     "execution_count": 30,
     "metadata": {},
     "output_type": "execute_result"
    }
   ],
   "source": [
    "(2==2) & (3==3)"
   ]
  },
  {
   "cell_type": "code",
   "execution_count": 32,
   "id": "d48e30a0",
   "metadata": {
    "collapsed": true
   },
   "outputs": [
    {
     "name": "stdout",
     "output_type": "stream",
     "text": [
      "hey\n"
     ]
    },
    {
     "ename": "TypeError",
     "evalue": "unsupported operand type(s) for &: 'bool' and 'NoneType'",
     "output_type": "error",
     "traceback": [
      "\u001b[1;31m---------------------------------------------------------------------------\u001b[0m",
      "\u001b[1;31mTypeError\u001b[0m                                 Traceback (most recent call last)",
      "Cell \u001b[1;32mIn[32], line 1\u001b[0m\n\u001b[1;32m----> 1\u001b[0m (\u001b[38;5;241m5\u001b[39m \u001b[38;5;241m<\u001b[39m \u001b[38;5;241m3\u001b[39m) \u001b[38;5;241m&\u001b[39m \u001b[38;5;28mprint\u001b[39m(\u001b[38;5;124m\"\u001b[39m\u001b[38;5;124mhey\u001b[39m\u001b[38;5;124m\"\u001b[39m)\n",
      "\u001b[1;31mTypeError\u001b[0m: unsupported operand type(s) for &: 'bool' and 'NoneType'"
     ]
    }
   ],
   "source": [
    "(5 < 3) & print(\"hey\")"
   ]
  },
  {
   "cell_type": "markdown",
   "id": "b12187d3",
   "metadata": {},
   "source": [
    "+ Üstteki kod hata verir çünkü and boolean ile Nonetype karşılaştırıken hata vermez ama & hata verir. Değişken türlerinin aynı olamaası gerekiyor."
   ]
  },
  {
   "cell_type": "markdown",
   "id": "d7aa752c",
   "metadata": {},
   "source": [
    "# | - or operatörü\n",
    "\n",
    "+ |' da or operatörünün yaptığını yapar ama short-circuit davranışı göstermez.\n",
    "\n",
    "+ Bu operatör kullanılırsa ilk cevap True olsa bile ikinci tarafa bakıyor."
   ]
  },
  {
   "cell_type": "code",
   "execution_count": 39,
   "id": "7a1c1f88",
   "metadata": {},
   "outputs": [
    {
     "data": {
      "text/plain": [
       "True"
      ]
     },
     "execution_count": 39,
     "metadata": {},
     "output_type": "execute_result"
    }
   ],
   "source": [
    "(2==2) | (3 < 3)"
   ]
  },
  {
   "cell_type": "code",
   "execution_count": 40,
   "id": "196d3c77",
   "metadata": {
    "collapsed": true
   },
   "outputs": [
    {
     "name": "stdout",
     "output_type": "stream",
     "text": [
      "hey\n"
     ]
    },
    {
     "ename": "TypeError",
     "evalue": "unsupported operand type(s) for |: 'bool' and 'NoneType'",
     "output_type": "error",
     "traceback": [
      "\u001b[1;31m---------------------------------------------------------------------------\u001b[0m",
      "\u001b[1;31mTypeError\u001b[0m                                 Traceback (most recent call last)",
      "Cell \u001b[1;32mIn[40], line 1\u001b[0m\n\u001b[1;32m----> 1\u001b[0m (\u001b[38;5;241m5\u001b[39m\u001b[38;5;241m>\u001b[39m\u001b[38;5;241m3\u001b[39m) \u001b[38;5;241m|\u001b[39m \u001b[38;5;28mprint\u001b[39m (\u001b[38;5;124m\"\u001b[39m\u001b[38;5;124mhey\u001b[39m\u001b[38;5;124m\"\u001b[39m)\n",
      "\u001b[1;31mTypeError\u001b[0m: unsupported operand type(s) for |: 'bool' and 'NoneType'"
     ]
    }
   ],
   "source": [
    "(5>3) | print (\"hey\")"
   ]
  },
  {
   "cell_type": "markdown",
   "id": "9f07c48a",
   "metadata": {},
   "source": [
    "+ Üstteki kod hata verir çünkü or boolean ile Nonetype karşılaştırıken hata vermez ama | hata verir. Değişken türlerinin aynı olaması gerekiyor."
   ]
  }
 ],
 "metadata": {
  "kernelspec": {
   "display_name": "Python 3 (ipykernel)",
   "language": "python",
   "name": "python3"
  },
  "language_info": {
   "codemirror_mode": {
    "name": "ipython",
    "version": 3
   },
   "file_extension": ".py",
   "mimetype": "text/x-python",
   "name": "python",
   "nbconvert_exporter": "python",
   "pygments_lexer": "ipython3",
   "version": "3.11.5"
  }
 },
 "nbformat": 4,
 "nbformat_minor": 5
}
