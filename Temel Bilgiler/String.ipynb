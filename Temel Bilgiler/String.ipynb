{
 "cells": [
  {
   "cell_type": "markdown",
   "id": "c682eba1",
   "metadata": {},
   "source": [
    "# String \n",
    "\n",
    " -String karakterlerden oluşan bir dizidir. Bu karakterler harfler,öel karakterler(-,\",?,<,> vb.) , sayılar ve boşluk-space- karakter olarak tanımlanır.\n",
    " \n",
    " -Bir şeyi string olarak belirtmek için yazılacak ifadeler \" \" -çift tırnak- veya ' ' -tek tırnak- içerisine yazılır.Tırnak içerisinde gördüklerini karakter dizisi olarak algıla diyoruz.\n",
    " \n",
    " -String non-scalar bir veri tipidir.\n",
    " \n",
    " -Stringler immutable veri tipidir. Immutable: Elemanların değerleri değiştirilemez."
   ]
  },
  {
   "cell_type": "code",
   "execution_count": 1,
   "id": "5ca17f3d",
   "metadata": {},
   "outputs": [
    {
     "data": {
      "text/plain": [
       "'5'"
      ]
     },
     "execution_count": 1,
     "metadata": {},
     "output_type": "execute_result"
    }
   ],
   "source": [
    "\"5\"\n",
    "# tınak içinde yazdığından dolayı 5 değerinin türü int değildir o bir string ifadedir.\n"
   ]
  },
  {
   "cell_type": "code",
   "execution_count": 2,
   "id": "a98ebb40",
   "metadata": {},
   "outputs": [
    {
     "data": {
      "text/plain": [
       "str"
      ]
     },
     "execution_count": 2,
     "metadata": {},
     "output_type": "execute_result"
    }
   ],
   "source": [
    "type(\"78\")"
   ]
  },
  {
   "cell_type": "code",
   "execution_count": 3,
   "id": "93ec5c38",
   "metadata": {},
   "outputs": [
    {
     "data": {
      "text/plain": [
       "'a'"
      ]
     },
     "execution_count": 3,
     "metadata": {},
     "output_type": "execute_result"
    }
   ],
   "source": [
    "'a'"
   ]
  },
  {
   "cell_type": "code",
   "execution_count": 4,
   "id": "73df472c",
   "metadata": {},
   "outputs": [
    {
     "data": {
      "text/plain": [
       "'Hello'"
      ]
     },
     "execution_count": 4,
     "metadata": {},
     "output_type": "execute_result"
    }
   ],
   "source": [
    "\"Hello\""
   ]
  },
  {
   "cell_type": "code",
   "execution_count": 5,
   "id": "98d1fcd4",
   "metadata": {},
   "outputs": [
    {
     "data": {
      "text/plain": [
       "'67*45'"
      ]
     },
     "execution_count": 5,
     "metadata": {},
     "output_type": "execute_result"
    }
   ],
   "source": [
    "\"67*45\""
   ]
  },
  {
   "cell_type": "code",
   "execution_count": 6,
   "id": "3c74c4a4",
   "metadata": {},
   "outputs": [
    {
     "data": {
      "text/plain": [
       "'Bugün 23 Nisan Hep Neşeyle Doluyor İnsan...'"
      ]
     },
     "execution_count": 6,
     "metadata": {},
     "output_type": "execute_result"
    }
   ],
   "source": [
    "\"Bugün 23 Nisan Hep Neşeyle Doluyor İnsan...\""
   ]
  },
  {
   "cell_type": "code",
   "execution_count": 7,
   "id": "c7faf9e6",
   "metadata": {},
   "outputs": [
    {
     "data": {
      "text/plain": [
       "str"
      ]
     },
     "execution_count": 7,
     "metadata": {},
     "output_type": "execute_result"
    }
   ],
   "source": [
    "type(\"Python derslerini hiç sevmiyorum\")"
   ]
  },
  {
   "cell_type": "code",
   "execution_count": 12,
   "id": "70ef8bda",
   "metadata": {
    "collapsed": true
   },
   "outputs": [
    {
     "ename": "SyntaxError",
     "evalue": "unterminated string literal (detected at line 1) (2359407176.py, line 1)",
     "output_type": "error",
     "traceback": [
      "\u001b[1;36m  Cell \u001b[1;32mIn[12], line 1\u001b[1;36m\u001b[0m\n\u001b[1;33m    'Bugün İstanbul'a gidiyorum.' #hata verirrr\u001b[0m\n\u001b[1;37m                                ^\u001b[0m\n\u001b[1;31mSyntaxError\u001b[0m\u001b[1;31m:\u001b[0m unterminated string literal (detected at line 1)\n"
     ]
    }
   ],
   "source": [
    "'Bugün İstanbul'a gidiyorum.' \n",
    "#hata verirrr"
   ]
  },
  {
   "cell_type": "code",
   "execution_count": 9,
   "id": "d6fd0039",
   "metadata": {},
   "outputs": [
    {
     "data": {
      "text/plain": [
       "\"Bana 'Bugün ne yapıyorsun?' demişti\""
      ]
     },
     "execution_count": 9,
     "metadata": {},
     "output_type": "execute_result"
    }
   ],
   "source": [
    "\"Bana 'Bugün ne yapıyorsun?' demişti\""
   ]
  },
  {
   "cell_type": "markdown",
   "id": "e4e4b056",
   "metadata": {},
   "source": [
    "Escape sequences\n",
    "\n",
    "+ \\ operatörü karaktere özel karaktermiş gibi davranması için kullanılır. Hangi karakter özel karakter kullanılacaksa onun önüne konur.\n",
    "\n",
    "\n",
    "+ \\n arkasındaki ifadeyi alt satıra geçirir, \\t bir tab tuşu kadar boşluk bırakır."
   ]
  },
  {
   "cell_type": "code",
   "execution_count": 10,
   "id": "7aae2f4e",
   "metadata": {},
   "outputs": [
    {
     "data": {
      "text/plain": [
       "'Bana \"Bugün ne yapıyorsun?\" dedi'"
      ]
     },
     "execution_count": 10,
     "metadata": {},
     "output_type": "execute_result"
    }
   ],
   "source": [
    "\"Bana \\\"Bugün ne yapıyorsun?\\\" dedi\""
   ]
  },
  {
   "cell_type": "code",
   "execution_count": 13,
   "id": "0c6be584",
   "metadata": {},
   "outputs": [
    {
     "data": {
      "text/plain": [
       "\"Bugün Kadıköy'e gidiyorum.\""
      ]
     },
     "execution_count": 13,
     "metadata": {},
     "output_type": "execute_result"
    }
   ],
   "source": [
    "\"Bugün Kadıköy\\'e gidiyorum.\""
   ]
  },
  {
   "cell_type": "code",
   "execution_count": 14,
   "id": "225545ce",
   "metadata": {},
   "outputs": [
    {
     "name": "stdout",
     "output_type": "stream",
     "text": [
      " hey\n",
      " nasılsın\n"
     ]
    }
   ],
   "source": [
    "print(\" hey\\n nasılsın\")"
   ]
  },
  {
   "cell_type": "code",
   "execution_count": 15,
   "id": "168662da",
   "metadata": {},
   "outputs": [
    {
     "name": "stdout",
     "output_type": "stream",
     "text": [
      "iyiyim \t sen\n"
     ]
    }
   ],
   "source": [
    "print(\"iyiyim \\t sen\")"
   ]
  },
  {
   "cell_type": "markdown",
   "id": "cb620a21",
   "metadata": {},
   "source": [
    "\n",
    "Stringlerde değer atama (variable assignment)\n",
    "\n"
   ]
  },
  {
   "cell_type": "code",
   "execution_count": 16,
   "id": "05636635",
   "metadata": {},
   "outputs": [],
   "source": [
    "merhaba= \"Merhaba nasılsın bugün?\""
   ]
  },
  {
   "cell_type": "code",
   "execution_count": 17,
   "id": "868f83ab",
   "metadata": {},
   "outputs": [
    {
     "name": "stdout",
     "output_type": "stream",
     "text": [
      "Merhaba nasılsın bugün?\n"
     ]
    }
   ],
   "source": [
    "print(merhaba)"
   ]
  },
  {
   "cell_type": "markdown",
   "id": "4db04738",
   "metadata": {},
   "source": [
    "String Concatenation\n",
    "\n",
    "+ \" + \" operatörü sayısal veri tiplerinde toplama işlemi yaparken, string veri tiplerinde ise concenation(birleştirme) olacaktır. İki string birleştirilerek yan yana yazılır. "
   ]
  },
  {
   "cell_type": "code",
   "execution_count": 18,
   "id": "ae94be99",
   "metadata": {},
   "outputs": [
    {
     "data": {
      "text/plain": [
       "'54'"
      ]
     },
     "execution_count": 18,
     "metadata": {},
     "output_type": "execute_result"
    }
   ],
   "source": [
    "\"5\" + \"4\""
   ]
  },
  {
   "cell_type": "code",
   "execution_count": 19,
   "id": "213f0ab1",
   "metadata": {},
   "outputs": [
    {
     "data": {
      "text/plain": [
       "'hey nasılsın'"
      ]
     },
     "execution_count": 19,
     "metadata": {},
     "output_type": "execute_result"
    }
   ],
   "source": [
    "\"hey \"+ \"nasılsın\""
   ]
  },
  {
   "cell_type": "code",
   "execution_count": 20,
   "id": "874b15dc",
   "metadata": {},
   "outputs": [
    {
     "data": {
      "text/plain": [
       "'hey nasılsın'"
      ]
     },
     "execution_count": 20,
     "metadata": {},
     "output_type": "execute_result"
    }
   ],
   "source": [
    "\"hey\" + \" \" + \"nasılsın\""
   ]
  },
  {
   "cell_type": "code",
   "execution_count": 24,
   "id": "cf687649",
   "metadata": {},
   "outputs": [],
   "source": [
    "mesaj=\"Merhaba\""
   ]
  },
  {
   "cell_type": "code",
   "execution_count": 22,
   "id": "780610af",
   "metadata": {},
   "outputs": [],
   "source": [
    "isim=\"Berkay\""
   ]
  },
  {
   "cell_type": "code",
   "execution_count": 25,
   "id": "6b37a4a9",
   "metadata": {},
   "outputs": [
    {
     "data": {
      "text/plain": [
       "'Merhaba Berkay'"
      ]
     },
     "execution_count": 25,
     "metadata": {},
     "output_type": "execute_result"
    }
   ],
   "source": [
    "mesaj + \" \" + isim"
   ]
  },
  {
   "cell_type": "code",
   "execution_count": 28,
   "id": "faec85f1",
   "metadata": {},
   "outputs": [],
   "source": [
    "karsılama=mesaj + \" \" + isim"
   ]
  },
  {
   "cell_type": "code",
   "execution_count": 29,
   "id": "725a4051",
   "metadata": {},
   "outputs": [
    {
     "name": "stdout",
     "output_type": "stream",
     "text": [
      "Merhaba Berkay\n"
     ]
    }
   ],
   "source": [
    "print(karsılama)"
   ]
  },
  {
   "cell_type": "markdown",
   "id": "39baaccb",
   "metadata": {},
   "source": [
    "Successive concatenation (Ardışık Birleştirme)\n",
    "\n",
    "+ \" * \" operatörü sayı objeleri için çarpım olarak tanımlanmışken,string için ardı ardına birleştirme işlemi yapar."
   ]
  },
  {
   "cell_type": "code",
   "execution_count": 30,
   "id": "e0cd8c0f",
   "metadata": {},
   "outputs": [
    {
     "data": {
      "text/plain": [
       "'heyheyheyhey'"
      ]
     },
     "execution_count": 30,
     "metadata": {},
     "output_type": "execute_result"
    }
   ],
   "source": [
    "4 * \"hey\""
   ]
  },
  {
   "cell_type": "code",
   "execution_count": 31,
   "id": "73255b83",
   "metadata": {},
   "outputs": [
    {
     "data": {
      "text/plain": [
       "'hahahahahaha'"
      ]
     },
     "execution_count": 31,
     "metadata": {},
     "output_type": "execute_result"
    }
   ],
   "source": [
    "\"ha\" * 6"
   ]
  },
  {
   "cell_type": "code",
   "execution_count": 33,
   "id": "0f87e8ea",
   "metadata": {},
   "outputs": [
    {
     "data": {
      "text/plain": [
       "'10000000000'"
      ]
     },
     "execution_count": 33,
     "metadata": {},
     "output_type": "execute_result"
    }
   ],
   "source": [
    "\"1\" +\"0\"*10"
   ]
  },
  {
   "cell_type": "markdown",
   "id": "0393096b",
   "metadata": {},
   "source": [
    "len() -LENGTH-  metodu\n",
    "\n",
    "+ Kullandığımız string ifadenin kaç karakterden oluştuğunu verir"
   ]
  },
  {
   "cell_type": "code",
   "execution_count": 34,
   "id": "8646b13f",
   "metadata": {},
   "outputs": [
    {
     "data": {
      "text/plain": [
       "1"
      ]
     },
     "execution_count": 34,
     "metadata": {},
     "output_type": "execute_result"
    }
   ],
   "source": [
    "len(\"4\")"
   ]
  },
  {
   "cell_type": "code",
   "execution_count": 35,
   "id": "34396013",
   "metadata": {},
   "outputs": [
    {
     "data": {
      "text/plain": [
       "3"
      ]
     },
     "execution_count": 35,
     "metadata": {},
     "output_type": "execute_result"
    }
   ],
   "source": [
    "len(\"hey\")"
   ]
  },
  {
   "cell_type": "code",
   "execution_count": 36,
   "id": "f34deeaf",
   "metadata": {},
   "outputs": [
    {
     "data": {
      "text/plain": [
       "16"
      ]
     },
     "execution_count": 36,
     "metadata": {},
     "output_type": "execute_result"
    }
   ],
   "source": [
    "len(\"merhaba nasılsın\")"
   ]
  },
  {
   "cell_type": "code",
   "execution_count": 38,
   "id": "bd3c95dc",
   "metadata": {},
   "outputs": [
    {
     "data": {
      "text/plain": [
       "2"
      ]
     },
     "execution_count": 38,
     "metadata": {},
     "output_type": "execute_result"
    }
   ],
   "source": [
    "len(\"  \")\n",
    "#boşluklar karakter olarak sayılır."
   ]
  },
  {
   "cell_type": "markdown",
   "id": "e9b40650",
   "metadata": {},
   "source": [
    "Indexing - elemanlara erişme-\n",
    "\n",
    "+ Bir karakter dizisinin elemanlarına erişmek iççin yapacağımız işleme indexing  deniyor. Bu indexing ifadesi [] kullanılarak yapılır.\n",
    "\n",
    "+indexler 0 dan başlar len-1 e kadar devam ederler."
   ]
  },
  {
   "cell_type": "code",
   "execution_count": 41,
   "id": "dc2ad275",
   "metadata": {},
   "outputs": [],
   "source": [
    "isim=\"Deniz\"\n",
    "#indexler: 0-D ,1-e, 2-n, 3-i, 4-z"
   ]
  },
  {
   "cell_type": "code",
   "execution_count": 42,
   "id": "39c196f6",
   "metadata": {},
   "outputs": [
    {
     "data": {
      "text/plain": [
       "'e'"
      ]
     },
     "execution_count": 42,
     "metadata": {},
     "output_type": "execute_result"
    }
   ],
   "source": [
    "isim[1]\n",
    "# isim değişkenin değerinden 1 indexine sahip olan karakter gösterilir."
   ]
  },
  {
   "cell_type": "code",
   "execution_count": 44,
   "id": "89091152",
   "metadata": {},
   "outputs": [
    {
     "data": {
      "text/plain": [
       "'i'"
      ]
     },
     "execution_count": 44,
     "metadata": {},
     "output_type": "execute_result"
    }
   ],
   "source": [
    "\"Deniz\"[3]"
   ]
  },
  {
   "cell_type": "code",
   "execution_count": 45,
   "id": "a2365d94",
   "metadata": {},
   "outputs": [
    {
     "data": {
      "text/plain": [
       "'D'"
      ]
     },
     "execution_count": 45,
     "metadata": {},
     "output_type": "execute_result"
    }
   ],
   "source": [
    "isim[0]"
   ]
  },
  {
   "cell_type": "code",
   "execution_count": 46,
   "id": "619dafc5",
   "metadata": {},
   "outputs": [
    {
     "data": {
      "text/plain": [
       "5"
      ]
     },
     "execution_count": 46,
     "metadata": {},
     "output_type": "execute_result"
    }
   ],
   "source": [
    "len(isim)"
   ]
  },
  {
   "cell_type": "code",
   "execution_count": 47,
   "id": "14b5d574",
   "metadata": {},
   "outputs": [
    {
     "data": {
      "text/plain": [
       "'z'"
      ]
     },
     "execution_count": 47,
     "metadata": {},
     "output_type": "execute_result"
    }
   ],
   "source": [
    "isim[len(isim)-1]\n",
    "#isim değişkeninin son elemanını verir."
   ]
  },
  {
   "cell_type": "code",
   "execution_count": 48,
   "id": "974775cc",
   "metadata": {},
   "outputs": [
    {
     "data": {
      "text/plain": [
       "'z'"
      ]
     },
     "execution_count": 48,
     "metadata": {},
     "output_type": "execute_result"
    }
   ],
   "source": [
    "isim[-1]\n",
    "#isim değişkeninin son elemanını verir."
   ]
  },
  {
   "cell_type": "code",
   "execution_count": 50,
   "id": "4955c410",
   "metadata": {},
   "outputs": [
    {
     "data": {
      "text/plain": [
       "'i'"
      ]
     },
     "execution_count": 50,
     "metadata": {},
     "output_type": "execute_result"
    }
   ],
   "source": [
    "isim[-2]\n",
    "#tersten indexleme yapılır."
   ]
  },
  {
   "cell_type": "code",
   "execution_count": 51,
   "id": "84de30b5",
   "metadata": {},
   "outputs": [
    {
     "data": {
      "text/plain": [
       "'Deniz'"
      ]
     },
     "execution_count": 51,
     "metadata": {},
     "output_type": "execute_result"
    }
   ],
   "source": [
    "isim"
   ]
  },
  {
   "cell_type": "code",
   "execution_count": 52,
   "id": "63b55bd3",
   "metadata": {
    "collapsed": true
   },
   "outputs": [
    {
     "ename": "TypeError",
     "evalue": "'str' object does not support item assignment",
     "output_type": "error",
     "traceback": [
      "\u001b[1;31m---------------------------------------------------------------------------\u001b[0m",
      "\u001b[1;31mTypeError\u001b[0m                                 Traceback (most recent call last)",
      "Cell \u001b[1;32mIn[52], line 1\u001b[0m\n\u001b[1;32m----> 1\u001b[0m isim[\u001b[38;5;241m0\u001b[39m]\u001b[38;5;241m=\u001b[39m\u001b[38;5;124m\"\u001b[39m\u001b[38;5;124mB\u001b[39m\u001b[38;5;124m\"\u001b[39m\n",
      "\u001b[1;31mTypeError\u001b[0m: 'str' object does not support item assignment"
     ]
    }
   ],
   "source": [
    "isim[0]=\"B\"\n",
    "#bu kod çalışmaz hata verirr..."
   ]
  },
  {
   "cell_type": "markdown",
   "id": "6ad14ebb",
   "metadata": {},
   "source": [
    "Slicing(Dilimleme)\n",
    "\n",
    "+ Birden fazla eleman istenildiğinde kullanılır.\n",
    "+ [0:3] dediğimizde ilk elemandan başlanarak 3. elemana kadar olan karakterler ekrana yazdırlır. Fakat indexi 3 olan karakter ekrana yazdırılmaz. \n",
    "+ [0:3] -->  0,1, ve 2. indexine sahip karakterler\n",
    "+ Başlangıç değeri yerine hiçbir şey yazmazsan 0 olarak kabul edilir.\n",
    "+ Bitiş değerini yazmazsan len olarak alınır.\n",
    "+ Başlangıç:Bitiş:Artış şeklinde de yazılabilir."
   ]
  },
  {
   "cell_type": "code",
   "execution_count": 53,
   "id": "14215376",
   "metadata": {},
   "outputs": [
    {
     "data": {
      "text/plain": [
       "'Den'"
      ]
     },
     "execution_count": 53,
     "metadata": {},
     "output_type": "execute_result"
    }
   ],
   "source": [
    "isim[0:3]"
   ]
  },
  {
   "cell_type": "code",
   "execution_count": 54,
   "id": "75d35ed5",
   "metadata": {},
   "outputs": [
    {
     "data": {
      "text/plain": [
       "'eniz'"
      ]
     },
     "execution_count": 54,
     "metadata": {},
     "output_type": "execute_result"
    }
   ],
   "source": [
    "isim[1:]"
   ]
  },
  {
   "cell_type": "code",
   "execution_count": 58,
   "id": "00491505",
   "metadata": {},
   "outputs": [
    {
     "data": {
      "text/plain": [
       "'Deni'"
      ]
     },
     "execution_count": 58,
     "metadata": {},
     "output_type": "execute_result"
    }
   ],
   "source": [
    "isim[0:4]"
   ]
  },
  {
   "cell_type": "code",
   "execution_count": 55,
   "id": "60100b0f",
   "metadata": {},
   "outputs": [
    {
     "data": {
      "text/plain": [
       "'Deni'"
      ]
     },
     "execution_count": 55,
     "metadata": {},
     "output_type": "execute_result"
    }
   ],
   "source": [
    "isim[:4]"
   ]
  },
  {
   "cell_type": "code",
   "execution_count": 56,
   "id": "ccfe123d",
   "metadata": {},
   "outputs": [
    {
     "data": {
      "text/plain": [
       "'ni'"
      ]
     },
     "execution_count": 56,
     "metadata": {},
     "output_type": "execute_result"
    }
   ],
   "source": [
    "isim[2:4]"
   ]
  },
  {
   "cell_type": "code",
   "execution_count": 59,
   "id": "cf353243",
   "metadata": {},
   "outputs": [
    {
     "data": {
      "text/plain": [
       "'eniz'"
      ]
     },
     "execution_count": 59,
     "metadata": {},
     "output_type": "execute_result"
    }
   ],
   "source": [
    "isim[1:20]"
   ]
  },
  {
   "cell_type": "code",
   "execution_count": 60,
   "id": "f0afdd61",
   "metadata": {},
   "outputs": [
    {
     "data": {
      "text/plain": [
       "'Dn'"
      ]
     },
     "execution_count": 60,
     "metadata": {},
     "output_type": "execute_result"
    }
   ],
   "source": [
    "isim[0:4:2]"
   ]
  },
  {
   "cell_type": "code",
   "execution_count": 61,
   "id": "6d38f0ac",
   "metadata": {},
   "outputs": [
    {
     "data": {
      "text/plain": [
       "'ez'"
      ]
     },
     "execution_count": 61,
     "metadata": {},
     "output_type": "execute_result"
    }
   ],
   "source": [
    "isim[1:27:3]"
   ]
  },
  {
   "cell_type": "code",
   "execution_count": 63,
   "id": "6b2cab5d",
   "metadata": {},
   "outputs": [
    {
     "data": {
      "text/plain": [
       "'zn'"
      ]
     },
     "execution_count": 63,
     "metadata": {},
     "output_type": "execute_result"
    }
   ],
   "source": [
    "isim[30:1:-2]"
   ]
  },
  {
   "cell_type": "markdown",
   "id": "ba801dbb",
   "metadata": {},
   "source": [
    "Casting in Strings --> stringlerde veri tipi dğiştirme"
   ]
  },
  {
   "cell_type": "code",
   "execution_count": 64,
   "id": "818ba597",
   "metadata": {},
   "outputs": [],
   "source": [
    "a=\"5\""
   ]
  },
  {
   "cell_type": "code",
   "execution_count": 65,
   "id": "d6bb159a",
   "metadata": {},
   "outputs": [],
   "source": [
    "b=\"5.3\""
   ]
  },
  {
   "cell_type": "code",
   "execution_count": 66,
   "id": "cff571e4",
   "metadata": {},
   "outputs": [
    {
     "data": {
      "text/plain": [
       "5"
      ]
     },
     "execution_count": 66,
     "metadata": {},
     "output_type": "execute_result"
    }
   ],
   "source": [
    "int(a)"
   ]
  },
  {
   "cell_type": "code",
   "execution_count": 67,
   "id": "6c7bbb8c",
   "metadata": {
    "collapsed": true
   },
   "outputs": [
    {
     "ename": "ValueError",
     "evalue": "invalid literal for int() with base 10: '5.3'",
     "output_type": "error",
     "traceback": [
      "\u001b[1;31m---------------------------------------------------------------------------\u001b[0m",
      "\u001b[1;31mValueError\u001b[0m                                Traceback (most recent call last)",
      "Cell \u001b[1;32mIn[67], line 1\u001b[0m\n\u001b[1;32m----> 1\u001b[0m \u001b[38;5;28mint\u001b[39m(b)\n",
      "\u001b[1;31mValueError\u001b[0m: invalid literal for int() with base 10: '5.3'"
     ]
    }
   ],
   "source": [
    "int(b)\n",
    "#kod hata verir çünkü b stringden floata dönüştürülebilir."
   ]
  },
  {
   "cell_type": "code",
   "execution_count": 68,
   "id": "d018b46c",
   "metadata": {},
   "outputs": [
    {
     "data": {
      "text/plain": [
       "5.3"
      ]
     },
     "execution_count": 68,
     "metadata": {},
     "output_type": "execute_result"
    }
   ],
   "source": [
    "float(b)"
   ]
  },
  {
   "cell_type": "code",
   "execution_count": 70,
   "id": "64654e05",
   "metadata": {},
   "outputs": [
    {
     "data": {
      "text/plain": [
       "5"
      ]
     },
     "execution_count": 70,
     "metadata": {},
     "output_type": "execute_result"
    }
   ],
   "source": [
    "int(float(b))\n",
    "# b değişkeni önce floata daha sonra int çevrilmiştir."
   ]
  },
  {
   "cell_type": "markdown",
   "id": "85adc564",
   "metadata": {},
   "source": [
    "Input- Kullanıcıdan veri girişi\n",
    "\n",
    "+ input() ifadesinin içine yazılan mesaj kullanıcıya gösterilerek, kullanıcının bir girdi girmesi sağlanır ve enter a basması beklenir. Ve girilen girdi string olarak kabul edilir.\n"
   ]
  },
  {
   "cell_type": "code",
   "execution_count": 72,
   "id": "d39e7efe",
   "metadata": {},
   "outputs": [
    {
     "name": "stdout",
     "output_type": "stream",
     "text": [
      "Bir sayı girin: 7\n"
     ]
    }
   ],
   "source": [
    "x=input(\"Bir sayı girin: \")"
   ]
  },
  {
   "cell_type": "code",
   "execution_count": 74,
   "id": "e26d8c66",
   "metadata": {
    "collapsed": true
   },
   "outputs": [
    {
     "ename": "TypeError",
     "evalue": "can only concatenate str (not \"int\") to str",
     "output_type": "error",
     "traceback": [
      "\u001b[1;31m---------------------------------------------------------------------------\u001b[0m",
      "\u001b[1;31mTypeError\u001b[0m                                 Traceback (most recent call last)",
      "Cell \u001b[1;32mIn[74], line 1\u001b[0m\n\u001b[1;32m----> 1\u001b[0m x\u001b[38;5;241m+\u001b[39m\u001b[38;5;241m10\u001b[39m\n",
      "\u001b[1;31mTypeError\u001b[0m: can only concatenate str (not \"int\") to str"
     ]
    }
   ],
   "source": [
    "x+10\n",
    "# hata mesajı verir çünkü kullanıcının girdiği değer string türünde\n",
    "#kabul edilir bu yuzden tip dönüşümü/casting kullanılmalıdır."
   ]
  },
  {
   "cell_type": "code",
   "execution_count": 75,
   "id": "b64a7384",
   "metadata": {},
   "outputs": [
    {
     "data": {
      "text/plain": [
       "str"
      ]
     },
     "execution_count": 75,
     "metadata": {},
     "output_type": "execute_result"
    }
   ],
   "source": [
    "type(x)"
   ]
  },
  {
   "cell_type": "code",
   "execution_count": 78,
   "id": "90fd2b29",
   "metadata": {},
   "outputs": [
    {
     "data": {
      "text/plain": [
       "'7'"
      ]
     },
     "execution_count": 78,
     "metadata": {},
     "output_type": "execute_result"
    }
   ],
   "source": [
    "x"
   ]
  },
  {
   "cell_type": "code",
   "execution_count": 76,
   "id": "a4b7fa7d",
   "metadata": {},
   "outputs": [
    {
     "data": {
      "text/plain": [
       "7"
      ]
     },
     "execution_count": 76,
     "metadata": {},
     "output_type": "execute_result"
    }
   ],
   "source": [
    "int(x)\n",
    "# x değişkeni string türünden int türüne dönüştürülür."
   ]
  },
  {
   "cell_type": "code",
   "execution_count": 80,
   "id": "baaeb655",
   "metadata": {},
   "outputs": [
    {
     "data": {
      "text/plain": [
       "17"
      ]
     },
     "execution_count": 80,
     "metadata": {},
     "output_type": "execute_result"
    }
   ],
   "source": [
    "int(x)+10"
   ]
  },
  {
   "cell_type": "code",
   "execution_count": 81,
   "id": "af9ab939",
   "metadata": {},
   "outputs": [
    {
     "name": "stdout",
     "output_type": "stream",
     "text": [
      "Bir sayı girin: 81\n"
     ]
    }
   ],
   "source": [
    "x=int(input(\"Bir sayı girin: \"))\n",
    "#Bu şekilde direkt olarak girilen değer int türünde kabul edilebilir."
   ]
  },
  {
   "cell_type": "code",
   "execution_count": 82,
   "id": "85ee5a2a",
   "metadata": {},
   "outputs": [
    {
     "data": {
      "text/plain": [
       "int"
      ]
     },
     "execution_count": 82,
     "metadata": {},
     "output_type": "execute_result"
    }
   ],
   "source": [
    "type(x)"
   ]
  },
  {
   "cell_type": "code",
   "execution_count": 83,
   "id": "4ea3f378",
   "metadata": {},
   "outputs": [
    {
     "data": {
      "text/plain": [
       "91"
      ]
     },
     "execution_count": 83,
     "metadata": {},
     "output_type": "execute_result"
    }
   ],
   "source": [
    "x+10"
   ]
  },
  {
   "cell_type": "code",
   "execution_count": 85,
   "id": "dcdc367f",
   "metadata": {},
   "outputs": [
    {
     "name": "stdout",
     "output_type": "stream",
     "text": [
      "İsim giriniz: Büşra\n"
     ]
    }
   ],
   "source": [
    "isim=input(\"İsim giriniz: \")"
   ]
  },
  {
   "cell_type": "code",
   "execution_count": 86,
   "id": "00ea0aa9",
   "metadata": {},
   "outputs": [
    {
     "name": "stdout",
     "output_type": "stream",
     "text": [
      "Mesaj giriniz: Merhaba\n"
     ]
    }
   ],
   "source": [
    "mesaj=input(\"Mesaj giriniz: \")"
   ]
  },
  {
   "cell_type": "code",
   "execution_count": 87,
   "id": "a3865ef6",
   "metadata": {},
   "outputs": [
    {
     "data": {
      "text/plain": [
       "'Merhaba Büşra'"
      ]
     },
     "execution_count": 87,
     "metadata": {},
     "output_type": "execute_result"
    }
   ],
   "source": [
    "mesaj+ \" \" +isim"
   ]
  }
 ],
 "metadata": {
  "kernelspec": {
   "display_name": "Python 3 (ipykernel)",
   "language": "python",
   "name": "python3"
  },
  "language_info": {
   "codemirror_mode": {
    "name": "ipython",
    "version": 3
   },
   "file_extension": ".py",
   "mimetype": "text/x-python",
   "name": "python",
   "nbconvert_exporter": "python",
   "pygments_lexer": "ipython3",
   "version": "3.11.5"
  }
 },
 "nbformat": 4,
 "nbformat_minor": 5
}
