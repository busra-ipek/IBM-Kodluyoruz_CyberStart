{
 "cells": [
  {
   "cell_type": "markdown",
   "id": "1d8f37ef",
   "metadata": {},
   "source": [
    "# Break\n",
    "\n",
    "+ Belli bir şart sağlandığı zaman döngüden çıkılmasını sağlar \n",
    "\n",
    "+ break komutuyla döngüden çıkılır."
   ]
  },
  {
   "cell_type": "code",
   "execution_count": 5,
   "id": "d7e33966",
   "metadata": {},
   "outputs": [
    {
     "name": "stdout",
     "output_type": "stream",
     "text": [
      "0\n",
      "1\n",
      "2\n"
     ]
    }
   ],
   "source": [
    "for i in range(10): # i [0,9] değerlerini alır 10 değerini almaz.\n",
    "    if (i == 3 ) :\n",
    "        break\n",
    "    print(i)"
   ]
  },
  {
   "cell_type": "code",
   "execution_count": 6,
   "id": "6b71f5c5",
   "metadata": {},
   "outputs": [
    {
     "name": "stdout",
     "output_type": "stream",
     "text": [
      "1\n",
      "2\n"
     ]
    }
   ],
   "source": [
    "x=0\n",
    "\n",
    "while (x<10):\n",
    "    \n",
    "    x+=1\n",
    "    \n",
    "    if x==3:\n",
    "        break\n",
    "        \n",
    "    print(x)"
   ]
  },
  {
   "cell_type": "markdown",
   "id": "6caabb87",
   "metadata": {},
   "source": [
    "# Continue\n",
    "\n",
    "+ Belli bir şart sağlandığı zaman bir sonraki iterasyona geçilir.\n",
    "\n",
    "+ continue komutuyla döngünün bir sonraki iterasyonu çalıştırılır ve break gibi döngüden çıkılmaz.\n",
    "\n",
    "+ continue ifadesi sonrasındaki for işlemlerini yapmaz."
   ]
  },
  {
   "cell_type": "code",
   "execution_count": 7,
   "id": "600c5e04",
   "metadata": {},
   "outputs": [
    {
     "name": "stdout",
     "output_type": "stream",
     "text": [
      "0\n",
      "1\n",
      "2\n",
      "4\n",
      "5\n",
      "6\n",
      "7\n",
      "8\n",
      "9\n"
     ]
    }
   ],
   "source": [
    "for i in range(10):\n",
    "    if i==3 : # 3 değeri atlanır ve ekrana yazılmaz.\n",
    "        continue\n",
    "    print(i)"
   ]
  },
  {
   "cell_type": "code",
   "execution_count": 8,
   "id": "246e7ffc",
   "metadata": {},
   "outputs": [
    {
     "name": "stdout",
     "output_type": "stream",
     "text": [
      "1\n",
      "2\n",
      "4\n",
      "5\n",
      "6\n",
      "7\n",
      "8\n",
      "9\n",
      "10\n"
     ]
    }
   ],
   "source": [
    "x=0\n",
    "\n",
    "while (x<10):\n",
    "    \n",
    "    x+=1\n",
    "    \n",
    "    if x==3:\n",
    "        continue\n",
    "        \n",
    "    print(x)"
   ]
  }
 ],
 "metadata": {
  "kernelspec": {
   "display_name": "Python 3 (ipykernel)",
   "language": "python",
   "name": "python3"
  },
  "language_info": {
   "codemirror_mode": {
    "name": "ipython",
    "version": 3
   },
   "file_extension": ".py",
   "mimetype": "text/x-python",
   "name": "python",
   "nbconvert_exporter": "python",
   "pygments_lexer": "ipython3",
   "version": "3.11.5"
  }
 },
 "nbformat": 4,
 "nbformat_minor": 5
}
