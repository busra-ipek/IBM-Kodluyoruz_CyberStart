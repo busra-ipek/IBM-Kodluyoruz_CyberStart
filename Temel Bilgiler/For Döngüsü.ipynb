{
 "cells": [
  {
   "cell_type": "markdown",
   "id": "65aacad8",
   "metadata": {},
   "source": [
    "# for\n",
    "\n",
    "+ for değişken_ismi in obje\n",
    "\n",
    "+ for döngüsü \"in\" ifadesinden sonra yazdığımız yapının bütün değerleri üzerinde dolanıp, yapının eleman sayısı kadar for döngüsünü çalıştırır.\n",
    "\n",
    "+ for döngüsünün en başında değişken, objenin ilk elemanının değerini alıyor ve for döngüsü 1 kere çalıştırılıyor. Daha sonra değişken, objenin ikinci elemanının değerini alıyor ve tekrardan döngü çalıştırılıyor. Bu for döngüsü objenin tüm elemanları bitene kadar devam ediyor."
   ]
  },
  {
   "cell_type": "code",
   "execution_count": 5,
   "id": "d16e0b6e",
   "metadata": {},
   "outputs": [
    {
     "name": "stdout",
     "output_type": "stream",
     "text": [
      "h\n",
      "e\n",
      "y\n"
     ]
    }
   ],
   "source": [
    "for c in \"hey\":\n",
    "    print(c)\n",
    "# c değişkeni sırasıyla hey ifadesinin değerlerini alır."
   ]
  },
  {
   "cell_type": "code",
   "execution_count": 6,
   "id": "ada9b414",
   "metadata": {},
   "outputs": [
    {
     "name": "stdout",
     "output_type": "stream",
     "text": [
      "a\n",
      "p\n",
      "p\n",
      "l\n",
      "e\n"
     ]
    }
   ],
   "source": [
    "for c in \"apple\":\n",
    "    print(c)"
   ]
  },
  {
   "cell_type": "markdown",
   "id": "0cf99c26",
   "metadata": {},
   "source": [
    "# range() - aralık\n",
    "\n",
    "+ Bir kod kümesinde belirli sayıda döngü yapmak için kullanılır.\n",
    "\n",
    "+ range() işlevi, varsayılan olarak 0'dan başlayan ve birer birer artan (varsayılan olarak) ve belirtilen sayıda biten bir sayı dizisini döndürür.\n",
    "\n",
    "+ range( başlangıç, bitiş, artış) şeklinde de olabilir.\n",
    "\n",
    "+ Örneğin; Range(6)'nın 0 ila 6 arasındaki değerler değil, 0 ila 5 arasındaki değerleri alır. 6 değeri dahil değildir.\n",
    "\n",
    "+ range(3): 0,1 ve 2 değerlerini alır yani 3 tane sayı alır. Fakat 3 değeri dahil değildir.\n",
    "\n",
    "+  range(2, 30, 3 ):  değişken 2' den başlar 29'a kadar üçer üçer artarak değerler alır."
   ]
  },
  {
   "cell_type": "code",
   "execution_count": 7,
   "id": "d847dc47",
   "metadata": {},
   "outputs": [
    {
     "name": "stdout",
     "output_type": "stream",
     "text": [
      "5050\n"
     ]
    }
   ],
   "source": [
    "toplam=0\n",
    "\n",
    "for x in range(101) :\n",
    "    toplam+=x\n",
    "\n",
    "print(toplam)"
   ]
  },
  {
   "cell_type": "code",
   "execution_count": 8,
   "id": "ddca921d",
   "metadata": {},
   "outputs": [
    {
     "name": "stdout",
     "output_type": "stream",
     "text": [
      "0\n",
      "1\n",
      "2\n",
      "3\n",
      "4\n"
     ]
    }
   ],
   "source": [
    "for x in range(5):\n",
    "    print(x)"
   ]
  },
  {
   "cell_type": "code",
   "execution_count": 11,
   "id": "e9bb73aa",
   "metadata": {},
   "outputs": [
    {
     "name": "stdout",
     "output_type": "stream",
     "text": [
      "3125\n"
     ]
    }
   ],
   "source": [
    "toplam=1\n",
    "for i in range(5):\n",
    "    toplam *= 5\n",
    "    \n",
    "print(toplam)"
   ]
  },
  {
   "cell_type": "markdown",
   "id": "c2cea11a",
   "metadata": {},
   "source": [
    "+ for döngülerinde kullanılmayan bir değişken olduğu zaman bunu \"_\" karakteri ile gösteririz.\n",
    "\n",
    "+ üstteki döngüde de i değişkeni hiçbir yerde kullanılmamaktadır. For döngüsünü kaç defa çalıştıracağımızı belirtir."
   ]
  },
  {
   "cell_type": "code",
   "execution_count": 12,
   "id": "1fbb6185",
   "metadata": {},
   "outputs": [
    {
     "name": "stdout",
     "output_type": "stream",
     "text": [
      "3125\n"
     ]
    }
   ],
   "source": [
    "toplam=1\n",
    "for _ in range(5):\n",
    "    toplam *= 5\n",
    "    \n",
    "print(toplam)"
   ]
  },
  {
   "cell_type": "markdown",
   "id": "ecbef32c",
   "metadata": {},
   "source": [
    "# for vs while\n",
    "\n",
    "+ while yapısında kaç kere iterasyon yapacağımız (döngüyü çalıştıracağımız sayı) belirsizdir.Çünkü şart doğru olduğu sürece while döngüsü çalışır.\n",
    "\n",
    "+ fakat for döngüsünde eleman sayısı kadar döngü çalıştırılır. (break veya continue ile döngü bölünmezse)\n",
    "\n",
    "+ Bir for döngüsünü while döngüsüyle yazabiliriz. Fakat while döngüsünü for kullanarak yazamayız. Çünkü for döngüsünde koşulu kontrol etme/ test mekanizması yoktur."
   ]
  },
  {
   "cell_type": "code",
   "execution_count": 13,
   "id": "1174216a",
   "metadata": {},
   "outputs": [],
   "source": [
    "s=\"merhaba\""
   ]
  },
  {
   "cell_type": "code",
   "execution_count": 14,
   "id": "b124d362",
   "metadata": {},
   "outputs": [
    {
     "name": "stdout",
     "output_type": "stream",
     "text": [
      "m\n",
      "e\n",
      "r\n",
      "h\n",
      "a\n",
      "b\n",
      "a\n"
     ]
    }
   ],
   "source": [
    "for c in s:\n",
    "    print (c)"
   ]
  },
  {
   "cell_type": "code",
   "execution_count": 15,
   "id": "815b8b0d",
   "metadata": {},
   "outputs": [
    {
     "name": "stdout",
     "output_type": "stream",
     "text": [
      "m\n",
      "e\n",
      "r\n",
      "h\n",
      "a\n",
      "b\n",
      "a\n"
     ]
    }
   ],
   "source": [
    "n= len(s)\n",
    "index=0\n",
    "\n",
    "while (index < n):\n",
    "    print(s[index])\n",
    "    index += 1"
   ]
  }
 ],
 "metadata": {
  "kernelspec": {
   "display_name": "Python 3 (ipykernel)",
   "language": "python",
   "name": "python3"
  },
  "language_info": {
   "codemirror_mode": {
    "name": "ipython",
    "version": 3
   },
   "file_extension": ".py",
   "mimetype": "text/x-python",
   "name": "python",
   "nbconvert_exporter": "python",
   "pygments_lexer": "ipython3",
   "version": "3.11.5"
  }
 },
 "nbformat": 4,
 "nbformat_minor": 5
}
