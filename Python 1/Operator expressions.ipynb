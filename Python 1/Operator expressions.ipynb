{
 "cells": [
  {
   "cell_type": "markdown",
   "id": "acbcddf0",
   "metadata": {},
   "source": [
    "# Operator Expressions- operatör ifadeleri\n"
   ]
  },
  {
   "cell_type": "markdown",
   "id": "b3d8b4a9",
   "metadata": {},
   "source": [
    "\" + \" operatörü\n",
    "\n",
    "+ int + int= int olur\n",
    "+ float + float= float olur.\n",
    "+ int + float= float olur.\n"
   ]
  },
  {
   "cell_type": "code",
   "execution_count": 1,
   "id": "5814c2d0",
   "metadata": {},
   "outputs": [
    {
     "data": {
      "text/plain": [
       "4"
      ]
     },
     "execution_count": 1,
     "metadata": {},
     "output_type": "execute_result"
    }
   ],
   "source": [
    "2+2"
   ]
  },
  {
   "cell_type": "code",
   "execution_count": 2,
   "id": "4afe0b07",
   "metadata": {},
   "outputs": [
    {
     "data": {
      "text/plain": [
       "int"
      ]
     },
     "execution_count": 2,
     "metadata": {},
     "output_type": "execute_result"
    }
   ],
   "source": [
    "type(2+2)"
   ]
  },
  {
   "cell_type": "code",
   "execution_count": 4,
   "id": "309a879b",
   "metadata": {},
   "outputs": [
    {
     "data": {
      "text/plain": [
       "10.1"
      ]
     },
     "execution_count": 4,
     "metadata": {},
     "output_type": "execute_result"
    }
   ],
   "source": [
    "4.3+5.8"
   ]
  },
  {
   "cell_type": "code",
   "execution_count": 5,
   "id": "ec8a18b1",
   "metadata": {},
   "outputs": [
    {
     "data": {
      "text/plain": [
       "float"
      ]
     },
     "execution_count": 5,
     "metadata": {},
     "output_type": "execute_result"
    }
   ],
   "source": [
    "type(8.12+3.4)"
   ]
  },
  {
   "cell_type": "code",
   "execution_count": 6,
   "id": "60005785",
   "metadata": {},
   "outputs": [
    {
     "data": {
      "text/plain": [
       "11.7"
      ]
     },
     "execution_count": 6,
     "metadata": {},
     "output_type": "execute_result"
    }
   ],
   "source": [
    "5+6.7"
   ]
  },
  {
   "cell_type": "code",
   "execution_count": 7,
   "id": "951acca9",
   "metadata": {},
   "outputs": [
    {
     "data": {
      "text/plain": [
       "float"
      ]
     },
     "execution_count": 7,
     "metadata": {},
     "output_type": "execute_result"
    }
   ],
   "source": [
    "type(3+9.5)"
   ]
  },
  {
   "cell_type": "markdown",
   "id": "6a609f64",
   "metadata": {},
   "source": [
    "\" - \" operatörü\n",
    "\n",
    "+ int - int= int olur\n",
    "+ float - float= float olur.\n",
    "+ int - float= float olur."
   ]
  },
  {
   "cell_type": "code",
   "execution_count": 8,
   "id": "01bd1c25",
   "metadata": {},
   "outputs": [
    {
     "data": {
      "text/plain": [
       "1"
      ]
     },
     "execution_count": 8,
     "metadata": {},
     "output_type": "execute_result"
    }
   ],
   "source": [
    "3-2"
   ]
  },
  {
   "cell_type": "code",
   "execution_count": 9,
   "id": "c8168253",
   "metadata": {},
   "outputs": [
    {
     "data": {
      "text/plain": [
       "int"
      ]
     },
     "execution_count": 9,
     "metadata": {},
     "output_type": "execute_result"
    }
   ],
   "source": [
    "type(5-3)"
   ]
  },
  {
   "cell_type": "code",
   "execution_count": 11,
   "id": "1656a393",
   "metadata": {},
   "outputs": [
    {
     "data": {
      "text/plain": [
       "2.7"
      ]
     },
     "execution_count": 11,
     "metadata": {},
     "output_type": "execute_result"
    }
   ],
   "source": [
    "7.8-5.1"
   ]
  },
  {
   "cell_type": "code",
   "execution_count": 12,
   "id": "69e6fc19",
   "metadata": {},
   "outputs": [
    {
     "data": {
      "text/plain": [
       "7.949999999999999"
      ]
     },
     "execution_count": 12,
     "metadata": {},
     "output_type": "execute_result"
    }
   ],
   "source": [
    "13.95-6"
   ]
  },
  {
   "cell_type": "code",
   "execution_count": 13,
   "id": "3022d83a",
   "metadata": {},
   "outputs": [
    {
     "data": {
      "text/plain": [
       "float"
      ]
     },
     "execution_count": 13,
     "metadata": {},
     "output_type": "execute_result"
    }
   ],
   "source": [
    "type(23-18.54)"
   ]
  },
  {
   "cell_type": "markdown",
   "id": "ed5ed119",
   "metadata": {},
   "source": [
    "\" * \" operatörü\n",
    "\n",
    "+ bunun da veri tipleri - ve + operatörleri gibidir."
   ]
  },
  {
   "cell_type": "code",
   "execution_count": 14,
   "id": "4fb2ce06",
   "metadata": {},
   "outputs": [
    {
     "data": {
      "text/plain": [
       "35"
      ]
     },
     "execution_count": 14,
     "metadata": {},
     "output_type": "execute_result"
    }
   ],
   "source": [
    "5*7"
   ]
  },
  {
   "cell_type": "code",
   "execution_count": 15,
   "id": "6eb07da3",
   "metadata": {},
   "outputs": [
    {
     "data": {
      "text/plain": [
       "float"
      ]
     },
     "execution_count": 15,
     "metadata": {},
     "output_type": "execute_result"
    }
   ],
   "source": [
    "type(8.4*5.6)"
   ]
  },
  {
   "cell_type": "code",
   "execution_count": 16,
   "id": "8e0b0fd9",
   "metadata": {},
   "outputs": [
    {
     "data": {
      "text/plain": [
       "49.0"
      ]
     },
     "execution_count": 16,
     "metadata": {},
     "output_type": "execute_result"
    }
   ],
   "source": [
    "9.8*5"
   ]
  },
  {
   "cell_type": "code",
   "execution_count": 17,
   "id": "a11dadac",
   "metadata": {},
   "outputs": [
    {
     "data": {
      "text/plain": [
       "float"
      ]
     },
     "execution_count": 17,
     "metadata": {},
     "output_type": "execute_result"
    }
   ],
   "source": [
    "type(6.7*9)"
   ]
  },
  {
   "cell_type": "markdown",
   "id": "4631551a",
   "metadata": {},
   "source": [
    "\" / \" operatörü\n",
    "\n",
    "+ İşlleme giren verilerin tipi ne olursa olsun sonuç float olurr."
   ]
  },
  {
   "cell_type": "code",
   "execution_count": 18,
   "id": "62f99cfe",
   "metadata": {},
   "outputs": [
    {
     "data": {
      "text/plain": [
       "1.5"
      ]
     },
     "execution_count": 18,
     "metadata": {},
     "output_type": "execute_result"
    }
   ],
   "source": [
    "3/2"
   ]
  },
  {
   "cell_type": "code",
   "execution_count": 19,
   "id": "f1f561e4",
   "metadata": {},
   "outputs": [
    {
     "data": {
      "text/plain": [
       "2.0"
      ]
     },
     "execution_count": 19,
     "metadata": {},
     "output_type": "execute_result"
    }
   ],
   "source": [
    "4/2"
   ]
  },
  {
   "cell_type": "code",
   "execution_count": 20,
   "id": "91f021d8",
   "metadata": {},
   "outputs": [
    {
     "data": {
      "text/plain": [
       "float"
      ]
     },
     "execution_count": 20,
     "metadata": {},
     "output_type": "execute_result"
    }
   ],
   "source": [
    "type(5.3/0.6)"
   ]
  },
  {
   "cell_type": "code",
   "execution_count": 21,
   "id": "79f50a4d",
   "metadata": {},
   "outputs": [
    {
     "data": {
      "text/plain": [
       "float"
      ]
     },
     "execution_count": 21,
     "metadata": {},
     "output_type": "execute_result"
    }
   ],
   "source": [
    "type(27/5.6)"
   ]
  },
  {
   "cell_type": "markdown",
   "id": "089e0d2c",
   "metadata": {},
   "source": [
    "\" // \" operatörü  --> int division\n",
    "\n",
    "+ Eğer işleme girenlerden biri bile float ise cevap float olur.\n",
    "+ Bölme işleminin tam kısmını cevap olarak alır..."
   ]
  },
  {
   "cell_type": "code",
   "execution_count": 22,
   "id": "27d448bf",
   "metadata": {},
   "outputs": [
    {
     "data": {
      "text/plain": [
       "2"
      ]
     },
     "execution_count": 22,
     "metadata": {},
     "output_type": "execute_result"
    }
   ],
   "source": [
    "5//2"
   ]
  },
  {
   "cell_type": "code",
   "execution_count": 23,
   "id": "c8440114",
   "metadata": {},
   "outputs": [
    {
     "data": {
      "text/plain": [
       "2.0"
      ]
     },
     "execution_count": 23,
     "metadata": {},
     "output_type": "execute_result"
    }
   ],
   "source": [
    "5//2.5"
   ]
  },
  {
   "cell_type": "code",
   "execution_count": 24,
   "id": "2f64dfb4",
   "metadata": {},
   "outputs": [
    {
     "data": {
      "text/plain": [
       "0.0"
      ]
     },
     "execution_count": 24,
     "metadata": {},
     "output_type": "execute_result"
    }
   ],
   "source": [
    "4.2//5"
   ]
  },
  {
   "cell_type": "code",
   "execution_count": 25,
   "id": "70254972",
   "metadata": {},
   "outputs": [
    {
     "data": {
      "text/plain": [
       "1.0"
      ]
     },
     "execution_count": 25,
     "metadata": {},
     "output_type": "execute_result"
    }
   ],
   "source": [
    "8.3//5"
   ]
  },
  {
   "cell_type": "markdown",
   "id": "d99efd1f",
   "metadata": {},
   "source": [
    "\" % \" mod operatörü\n",
    "\n",
    "+ Birbirine bölünen sayılardan kalnı cevap olarak verir.\n",
    "+ Eğer girdiler  float ise cevap float olur , değilse integer olur. "
   ]
  },
  {
   "cell_type": "code",
   "execution_count": 26,
   "id": "bc38c348",
   "metadata": {},
   "outputs": [
    {
     "data": {
      "text/plain": [
       "1"
      ]
     },
     "execution_count": 26,
     "metadata": {},
     "output_type": "execute_result"
    }
   ],
   "source": [
    "5%2"
   ]
  },
  {
   "cell_type": "code",
   "execution_count": 27,
   "id": "af826a3a",
   "metadata": {},
   "outputs": [
    {
     "data": {
      "text/plain": [
       "1"
      ]
     },
     "execution_count": 27,
     "metadata": {},
     "output_type": "execute_result"
    }
   ],
   "source": [
    "10%3"
   ]
  },
  {
   "cell_type": "code",
   "execution_count": 28,
   "id": "a0c77a2e",
   "metadata": {},
   "outputs": [
    {
     "data": {
      "text/plain": [
       "0.5"
      ]
     },
     "execution_count": 28,
     "metadata": {},
     "output_type": "execute_result"
    }
   ],
   "source": [
    "2.5%2"
   ]
  },
  {
   "cell_type": "code",
   "execution_count": 29,
   "id": "642c329e",
   "metadata": {},
   "outputs": [
    {
     "data": {
      "text/plain": [
       "19.0"
      ]
     },
     "execution_count": 29,
     "metadata": {},
     "output_type": "execute_result"
    }
   ],
   "source": [
    "87.4%34.2"
   ]
  },
  {
   "cell_type": "markdown",
   "id": "93b0e6d0",
   "metadata": {},
   "source": [
    "\" ** \" operatörü  -->üs alma işlemi\n",
    "\n",
    "+ Girdilerden en az biri float ise cevap float olur, ikisi de pozitif integer ise cevap int olur.\n",
    "+ Negatiflik varsa float olur."
   ]
  },
  {
   "cell_type": "code",
   "execution_count": 30,
   "id": "fe588670",
   "metadata": {},
   "outputs": [
    {
     "data": {
      "text/plain": [
       "8"
      ]
     },
     "execution_count": 30,
     "metadata": {},
     "output_type": "execute_result"
    }
   ],
   "source": [
    "2**3"
   ]
  },
  {
   "cell_type": "code",
   "execution_count": 31,
   "id": "adacd791",
   "metadata": {},
   "outputs": [
    {
     "data": {
      "text/plain": [
       "81"
      ]
     },
     "execution_count": 31,
     "metadata": {},
     "output_type": "execute_result"
    }
   ],
   "source": [
    "3**4"
   ]
  },
  {
   "cell_type": "code",
   "execution_count": 32,
   "id": "a377c24e",
   "metadata": {},
   "outputs": [
    {
     "data": {
      "text/plain": [
       "5.76"
      ]
     },
     "execution_count": 32,
     "metadata": {},
     "output_type": "execute_result"
    }
   ],
   "source": [
    "2.4**2"
   ]
  },
  {
   "cell_type": "code",
   "execution_count": 34,
   "id": "38d12b4d",
   "metadata": {},
   "outputs": [
    {
     "data": {
      "text/plain": [
       "0.02040816326530612"
      ]
     },
     "execution_count": 34,
     "metadata": {},
     "output_type": "execute_result"
    }
   ],
   "source": [
    "7** -2"
   ]
  },
  {
   "cell_type": "code",
   "execution_count": 35,
   "id": "73ac9e36",
   "metadata": {},
   "outputs": [
    {
     "data": {
      "text/plain": [
       "1.174618943088019"
      ]
     },
     "execution_count": 35,
     "metadata": {},
     "output_type": "execute_result"
    }
   ],
   "source": [
    "5**0.1"
   ]
  },
  {
   "cell_type": "markdown",
   "id": "4a0f49ff",
   "metadata": {},
   "source": [
    "print(): Ekrana bir şeyi yazdırmak istediğimizde print kullanırız.\n"
   ]
  },
  {
   "cell_type": "code",
   "execution_count": 37,
   "id": "2710086d",
   "metadata": {},
   "outputs": [
    {
     "name": "stdout",
     "output_type": "stream",
     "text": [
      "5\n"
     ]
    }
   ],
   "source": [
    "print(5)"
   ]
  },
  {
   "cell_type": "code",
   "execution_count": 38,
   "id": "7f924136",
   "metadata": {},
   "outputs": [
    {
     "name": "stdout",
     "output_type": "stream",
     "text": [
      "56.78\n"
     ]
    }
   ],
   "source": [
    "print(56.78)"
   ]
  }
 ],
 "metadata": {
  "kernelspec": {
   "display_name": "Python 3 (ipykernel)",
   "language": "python",
   "name": "python3"
  },
  "language_info": {
   "codemirror_mode": {
    "name": "ipython",
    "version": 3
   },
   "file_extension": ".py",
   "mimetype": "text/x-python",
   "name": "python",
   "nbconvert_exporter": "python",
   "pygments_lexer": "ipython3",
   "version": "3.11.5"
  }
 },
 "nbformat": 4,
 "nbformat_minor": 5
}
