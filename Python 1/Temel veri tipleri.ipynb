{
 "cells": [
  {
   "cell_type": "markdown",
   "id": "b2cb2952",
   "metadata": {},
   "source": [
    "Temel Veri Tipleri\n",
    "\n",
    "Scalar: daha alt parçalara bölünemeyen yapılar sayılar vb.\n",
    "non-scalar:daha alt parçalara bölünebilen yapılar -sayıların ard arda koyulması örnektir."
   ]
  },
  {
   "cell_type": "markdown",
   "id": "90c132ef",
   "metadata": {},
   "source": [
    "a) integers - tam sayılar"
   ]
  },
  {
   "cell_type": "code",
   "execution_count": 1,
   "id": "0ea50291",
   "metadata": {},
   "outputs": [
    {
     "data": {
      "text/plain": [
       "2"
      ]
     },
     "execution_count": 1,
     "metadata": {},
     "output_type": "execute_result"
    }
   ],
   "source": [
    "2\n"
   ]
  },
  {
   "cell_type": "code",
   "execution_count": 2,
   "id": "be587b8a",
   "metadata": {},
   "outputs": [
    {
     "data": {
      "text/plain": [
       "3"
      ]
     },
     "execution_count": 2,
     "metadata": {},
     "output_type": "execute_result"
    }
   ],
   "source": [
    "3"
   ]
  },
  {
   "cell_type": "markdown",
   "id": "ed4fec18",
   "metadata": {},
   "source": [
    "b)floats - kesirli sayılar\n"
   ]
  },
  {
   "cell_type": "code",
   "execution_count": 3,
   "id": "0a46d3cf",
   "metadata": {},
   "outputs": [
    {
     "data": {
      "text/plain": [
       "2.0"
      ]
     },
     "execution_count": 3,
     "metadata": {},
     "output_type": "execute_result"
    }
   ],
   "source": [
    "2.0"
   ]
  },
  {
   "cell_type": "code",
   "execution_count": 4,
   "id": "e8b2d356",
   "metadata": {},
   "outputs": [
    {
     "data": {
      "text/plain": [
       "3.0"
      ]
     },
     "execution_count": 4,
     "metadata": {},
     "output_type": "execute_result"
    }
   ],
   "source": [
    "3."
   ]
  },
  {
   "cell_type": "code",
   "execution_count": 5,
   "id": "38ea3f8b",
   "metadata": {},
   "outputs": [
    {
     "data": {
      "text/plain": [
       "3.75"
      ]
     },
     "execution_count": 5,
     "metadata": {},
     "output_type": "execute_result"
    }
   ],
   "source": [
    "3.75"
   ]
  },
  {
   "cell_type": "markdown",
   "id": "a81a4e3c",
   "metadata": {},
   "source": [
    "c)boolean\n",
    "\n",
    "Bir şeyin doğru -true- veya yanlış -false- olduğunu belirten yapılardır. if-else kullanımında daha sık  görülür.\n"
   ]
  },
  {
   "cell_type": "code",
   "execution_count": 6,
   "id": "96effedf",
   "metadata": {},
   "outputs": [
    {
     "data": {
      "text/plain": [
       "True"
      ]
     },
     "execution_count": 6,
     "metadata": {},
     "output_type": "execute_result"
    }
   ],
   "source": [
    "True"
   ]
  },
  {
   "cell_type": "code",
   "execution_count": 7,
   "id": "ca5349c0",
   "metadata": {},
   "outputs": [
    {
     "data": {
      "text/plain": [
       "False"
      ]
     },
     "execution_count": 7,
     "metadata": {},
     "output_type": "execute_result"
    }
   ],
   "source": [
    "False"
   ]
  },
  {
   "cell_type": "code",
   "execution_count": 8,
   "id": "4f1184b7",
   "metadata": {},
   "outputs": [
    {
     "data": {
      "text/plain": [
       "False"
      ]
     },
     "execution_count": 8,
     "metadata": {},
     "output_type": "execute_result"
    }
   ],
   "source": [
    "2>35"
   ]
  },
  {
   "cell_type": "code",
   "execution_count": 9,
   "id": "69188abd",
   "metadata": {},
   "outputs": [
    {
     "data": {
      "text/plain": [
       "True"
      ]
     },
     "execution_count": 9,
     "metadata": {},
     "output_type": "execute_result"
    }
   ],
   "source": [
    "78<96"
   ]
  },
  {
   "cell_type": "markdown",
   "id": "c102e276",
   "metadata": {},
   "source": [
    "type(): verilerin tiplerine bakmak için kullanılır."
   ]
  },
  {
   "cell_type": "code",
   "execution_count": 10,
   "id": "4486b1b0",
   "metadata": {},
   "outputs": [
    {
     "data": {
      "text/plain": [
       "int"
      ]
     },
     "execution_count": 10,
     "metadata": {},
     "output_type": "execute_result"
    }
   ],
   "source": [
    "type(2)"
   ]
  },
  {
   "cell_type": "code",
   "execution_count": 11,
   "id": "0e29bc86",
   "metadata": {},
   "outputs": [
    {
     "data": {
      "text/plain": [
       "bool"
      ]
     },
     "execution_count": 11,
     "metadata": {},
     "output_type": "execute_result"
    }
   ],
   "source": [
    "type(True)"
   ]
  },
  {
   "cell_type": "code",
   "execution_count": 12,
   "id": "e1a6c5b0",
   "metadata": {},
   "outputs": [
    {
     "data": {
      "text/plain": [
       "float"
      ]
     },
     "execution_count": 12,
     "metadata": {},
     "output_type": "execute_result"
    }
   ],
   "source": [
    "type(8.7)"
   ]
  },
  {
   "cell_type": "markdown",
   "id": "e0d2b31b",
   "metadata": {},
   "source": [
    "Type Casting (Tip dönüştürmesi)\n",
    "\n",
    "Veri tiplerini birbirine dönüştürmek için kullanılır. int --> float veya float --> int tip dönüşümü yapılabilir. "
   ]
  },
  {
   "cell_type": "code",
   "execution_count": 13,
   "id": "e427c640",
   "metadata": {},
   "outputs": [
    {
     "data": {
      "text/plain": [
       "2"
      ]
     },
     "execution_count": 13,
     "metadata": {},
     "output_type": "execute_result"
    }
   ],
   "source": [
    "int(2.4) \n",
    "#float tipindeki(2.4) adlı veri int tipine dönüştürülür..."
   ]
  },
  {
   "cell_type": "code",
   "execution_count": 14,
   "id": "d202f743",
   "metadata": {},
   "outputs": [
    {
     "data": {
      "text/plain": [
       "4"
      ]
     },
     "execution_count": 14,
     "metadata": {},
     "output_type": "execute_result"
    }
   ],
   "source": [
    "#float --> int dönüşüm yaparken sayılar yuvarlanmaz sayının tam olan kısmı alınır\n",
    "int(4.9)"
   ]
  },
  {
   "cell_type": "code",
   "execution_count": 15,
   "id": "b974110d",
   "metadata": {},
   "outputs": [
    {
     "data": {
      "text/plain": [
       "4.2"
      ]
     },
     "execution_count": 15,
     "metadata": {},
     "output_type": "execute_result"
    }
   ],
   "source": [
    "float(4.2)"
   ]
  },
  {
   "cell_type": "code",
   "execution_count": 16,
   "id": "569b88b0",
   "metadata": {},
   "outputs": [
    {
     "data": {
      "text/plain": [
       "5.0"
      ]
     },
     "execution_count": 16,
     "metadata": {},
     "output_type": "execute_result"
    }
   ],
   "source": [
    "float(5)\n",
    "#int --> float dönüşüm yaparken tam sayının yanına sadece nokta konur ve sıfır eklenir."
   ]
  }
 ],
 "metadata": {
  "kernelspec": {
   "display_name": "Python 3 (ipykernel)",
   "language": "python",
   "name": "python3"
  },
  "language_info": {
   "codemirror_mode": {
    "name": "ipython",
    "version": 3
   },
   "file_extension": ".py",
   "mimetype": "text/x-python",
   "name": "python",
   "nbconvert_exporter": "python",
   "pygments_lexer": "ipython3",
   "version": "3.11.5"
  }
 },
 "nbformat": 4,
 "nbformat_minor": 5
}
