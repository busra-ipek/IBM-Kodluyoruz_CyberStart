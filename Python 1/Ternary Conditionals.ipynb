{
 "cells": [
  {
   "cell_type": "markdown",
   "id": "5b55c5db",
   "metadata": {},
   "source": [
    "# Ternary Conditionals\n",
    "\n",
    "+ if-else mntığını tek satırda kullanıp döndürülecek sonucu ona göre belirtmemizi sağlar."
   ]
  },
  {
   "cell_type": "code",
   "execution_count": 2,
   "id": "bb960564",
   "metadata": {},
   "outputs": [
    {
     "name": "stdout",
     "output_type": "stream",
     "text": [
      "x'in değeri 2 olsun mu? (y/n)n\n",
      "0\n"
     ]
    }
   ],
   "source": [
    "# cevap olarak \"y\" yes --> evet veya  \"n\" no --> hayır kabul edilir.\n",
    "\n",
    "cevap=input(\"x'in değeri 2 olsun mu? (y/n)\")\n",
    "\n",
    "if (cevap==\"y\") :\n",
    "    x=2\n",
    "\n",
    "else :\n",
    "    x=0\n",
    "\n",
    "print(x)"
   ]
  },
  {
   "cell_type": "markdown",
   "id": "7a41e83c",
   "metadata": {},
   "source": [
    "+ Üstteki kodun aynısı tek satırda şu şekilde yapılabilir."
   ]
  },
  {
   "cell_type": "code",
   "execution_count": 7,
   "id": "c274f5ed",
   "metadata": {},
   "outputs": [
    {
     "name": "stdout",
     "output_type": "stream",
     "text": [
      "x'in değeri 2 olsun mu? (y/n) --> n\n"
     ]
    }
   ],
   "source": [
    "cevap=input(\"x'in değeri 2 olsun mu? (y/n) --> \")"
   ]
  },
  {
   "cell_type": "code",
   "execution_count": 8,
   "id": "981df76c",
   "metadata": {},
   "outputs": [],
   "source": [
    "x=2 if cevap==\"y\" else 0"
   ]
  },
  {
   "cell_type": "code",
   "execution_count": 9,
   "id": "c32c8ba6",
   "metadata": {},
   "outputs": [
    {
     "name": "stdout",
     "output_type": "stream",
     "text": [
      "0\n"
     ]
    }
   ],
   "source": [
    "print(x)"
   ]
  },
  {
   "cell_type": "markdown",
   "id": "f7bca2f5",
   "metadata": {},
   "source": [
    "+ Daha düzenli bir şekilde yazarsak"
   ]
  },
  {
   "cell_type": "code",
   "execution_count": 12,
   "id": "5f3c0127",
   "metadata": {
    "scrolled": true
   },
   "outputs": [
    {
     "name": "stdout",
     "output_type": "stream",
     "text": [
      "x'in değeri 2 olsun mu? (y/n) --> y\n"
     ]
    }
   ],
   "source": [
    "cevap=input(\"x'in değeri 2 olsun mu? (y/n) --> \")"
   ]
  },
  {
   "cell_type": "code",
   "execution_count": 13,
   "id": "c12353f7",
   "metadata": {},
   "outputs": [
    {
     "data": {
      "text/plain": [
       "2"
      ]
     },
     "execution_count": 13,
     "metadata": {},
     "output_type": "execute_result"
    }
   ],
   "source": [
    "condition = cevap==\"y\"\n",
    "x=2 if condition else 0\n",
    "x"
   ]
  }
 ],
 "metadata": {
  "kernelspec": {
   "display_name": "Python 3 (ipykernel)",
   "language": "python",
   "name": "python3"
  },
  "language_info": {
   "codemirror_mode": {
    "name": "ipython",
    "version": 3
   },
   "file_extension": ".py",
   "mimetype": "text/x-python",
   "name": "python",
   "nbconvert_exporter": "python",
   "pygments_lexer": "ipython3",
   "version": "3.11.5"
  }
 },
 "nbformat": 4,
 "nbformat_minor": 5
}
