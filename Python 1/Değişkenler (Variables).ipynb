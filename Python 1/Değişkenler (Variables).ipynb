{
 "cells": [
  {
   "cell_type": "markdown",
   "id": "25edb681",
   "metadata": {},
   "source": [
    "# Değişkenler-variables\n",
    "\n",
    "Değişkenlere verilecek isim daha önce pythonda tanımlanmış default isimlerden biri olmamalıdır.(if,for,continue,break vb.)\n",
    "\n",
    "Değişkene değer atama işlemi = operatörüyle yapılır ve bu işlemede variable assignment denir. Bu işlemde değişkenin sağındaki değer atama operatörüyle değişkene atanır.\n"
   ]
  },
  {
   "cell_type": "code",
   "execution_count": 1,
   "id": "536a9f48",
   "metadata": {},
   "outputs": [],
   "source": [
    "a=2"
   ]
  },
  {
   "cell_type": "code",
   "execution_count": 2,
   "id": "c86afbd8",
   "metadata": {},
   "outputs": [
    {
     "data": {
      "text/plain": [
       "2"
      ]
     },
     "execution_count": 2,
     "metadata": {},
     "output_type": "execute_result"
    }
   ],
   "source": [
    "a"
   ]
  },
  {
   "cell_type": "code",
   "execution_count": 4,
   "id": "1e79701c",
   "metadata": {},
   "outputs": [
    {
     "data": {
      "text/plain": [
       "7"
      ]
     },
     "execution_count": 4,
     "metadata": {},
     "output_type": "execute_result"
    }
   ],
   "source": [
    "a+5\n",
    "# a değişkenine önceden 2 değeri atanmışştı daha sonra 5 ekledik ve sonuç 7 oldu"
   ]
  },
  {
   "cell_type": "code",
   "execution_count": 5,
   "id": "4588a635",
   "metadata": {},
   "outputs": [],
   "source": [
    "b=2*4"
   ]
  },
  {
   "cell_type": "code",
   "execution_count": 6,
   "id": "2bbc4520",
   "metadata": {},
   "outputs": [
    {
     "data": {
      "text/plain": [
       "8"
      ]
     },
     "execution_count": 6,
     "metadata": {},
     "output_type": "execute_result"
    }
   ],
   "source": [
    "b"
   ]
  },
  {
   "cell_type": "code",
   "execution_count": 7,
   "id": "1c088369",
   "metadata": {},
   "outputs": [
    {
     "data": {
      "text/plain": [
       "6"
      ]
     },
     "execution_count": 7,
     "metadata": {},
     "output_type": "execute_result"
    }
   ],
   "source": [
    "b-2"
   ]
  },
  {
   "cell_type": "code",
   "execution_count": 8,
   "id": "99a1f994",
   "metadata": {},
   "outputs": [],
   "source": [
    "b=a+5"
   ]
  },
  {
   "cell_type": "code",
   "execution_count": 9,
   "id": "14916124",
   "metadata": {},
   "outputs": [
    {
     "data": {
      "text/plain": [
       "7"
      ]
     },
     "execution_count": 9,
     "metadata": {},
     "output_type": "execute_result"
    }
   ],
   "source": [
    "b"
   ]
  },
  {
   "cell_type": "code",
   "execution_count": 10,
   "id": "d9a61e06",
   "metadata": {},
   "outputs": [],
   "source": [
    "a=a+9"
   ]
  },
  {
   "cell_type": "code",
   "execution_count": 11,
   "id": "e7b6e1aa",
   "metadata": {},
   "outputs": [
    {
     "data": {
      "text/plain": [
       "11"
      ]
     },
     "execution_count": 11,
     "metadata": {},
     "output_type": "execute_result"
    }
   ],
   "source": [
    "a"
   ]
  },
  {
   "cell_type": "code",
   "execution_count": 28,
   "id": "92b90e80",
   "metadata": {},
   "outputs": [],
   "source": [
    "limon_fiyat=15"
   ]
  },
  {
   "cell_type": "code",
   "execution_count": 34,
   "id": "b381aa22",
   "metadata": {},
   "outputs": [],
   "source": [
    "musteri1 = limon_fiyat*100"
   ]
  },
  {
   "cell_type": "code",
   "execution_count": 35,
   "id": "c0ef15e6",
   "metadata": {},
   "outputs": [],
   "source": [
    "musteri2 = limon_fiyat*70"
   ]
  },
  {
   "cell_type": "code",
   "execution_count": 36,
   "id": "2ffad2dc",
   "metadata": {},
   "outputs": [],
   "source": [
    "musteri3 = limon_fiyat*30"
   ]
  },
  {
   "cell_type": "code",
   "execution_count": 37,
   "id": "8c5287c4",
   "metadata": {},
   "outputs": [
    {
     "name": "stdout",
     "output_type": "stream",
     "text": [
      "1500\n"
     ]
    }
   ],
   "source": [
    "print(musteri1)"
   ]
  },
  {
   "cell_type": "code",
   "execution_count": 38,
   "id": "aac76f44",
   "metadata": {},
   "outputs": [
    {
     "name": "stdout",
     "output_type": "stream",
     "text": [
      "1050\n"
     ]
    }
   ],
   "source": [
    "print(musteri2)"
   ]
  },
  {
   "cell_type": "code",
   "execution_count": 39,
   "id": "70e6b8e1",
   "metadata": {},
   "outputs": [
    {
     "name": "stdout",
     "output_type": "stream",
     "text": [
      "450\n"
     ]
    }
   ],
   "source": [
    "print(musteri3)"
   ]
  }
 ],
 "metadata": {
  "kernelspec": {
   "display_name": "Python 3 (ipykernel)",
   "language": "python",
   "name": "python3"
  },
  "language_info": {
   "codemirror_mode": {
    "name": "ipython",
    "version": 3
   },
   "file_extension": ".py",
   "mimetype": "text/x-python",
   "name": "python",
   "nbconvert_exporter": "python",
   "pygments_lexer": "ipython3",
   "version": "3.11.5"
  }
 },
 "nbformat": 4,
 "nbformat_minor": 5
}
