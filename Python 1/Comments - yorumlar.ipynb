{
 "cells": [
  {
   "cell_type": "markdown",
   "id": "9ee5603f",
   "metadata": {},
   "source": [
    "# Comments\n"
   ]
  },
  {
   "cell_type": "markdown",
   "id": "5ec0d1c1",
   "metadata": {},
   "source": [
    "Tek satıra yorum ekleme\n"
   ]
  },
  {
   "cell_type": "code",
   "execution_count": 1,
   "id": "396c5ffb",
   "metadata": {},
   "outputs": [],
   "source": [
    "#limon değişkeni satılan limonları ifade eder.\n",
    "limon=2"
   ]
  },
  {
   "cell_type": "code",
   "execution_count": 2,
   "id": "f191b7a5",
   "metadata": {},
   "outputs": [
    {
     "name": "stdout",
     "output_type": "stream",
     "text": [
      "14\n"
     ]
    }
   ],
   "source": [
    "sonuc=limon*7  #sonuc değişkeni 1 haftada kaç limmon satıldığını verir.\n",
    "print(sonuc)"
   ]
  },
  {
   "cell_type": "markdown",
   "id": "abfd13fb",
   "metadata": {},
   "source": [
    "Birden çok satıra yorum ekleme"
   ]
  },
  {
   "cell_type": "code",
   "execution_count": 3,
   "id": "e63a5145",
   "metadata": {},
   "outputs": [
    {
     "name": "stdout",
     "output_type": "stream",
     "text": [
      "28\n"
     ]
    }
   ],
   "source": [
    "\"\"\"\n",
    "limon değişkeni satılan limonları ifade eder.\n",
    "\n",
    "sonuc değişkeni 1 haftada kaç limmon satıldığını verir.\n",
    "\n",
    "\"\"\"\n",
    "limon=2\n",
    "sonuc=limon*14\n",
    "print(sonuc)"
   ]
  }
 ],
 "metadata": {
  "kernelspec": {
   "display_name": "Python 3 (ipykernel)",
   "language": "python",
   "name": "python3"
  },
  "language_info": {
   "codemirror_mode": {
    "name": "ipython",
    "version": 3
   },
   "file_extension": ".py",
   "mimetype": "text/x-python",
   "name": "python",
   "nbconvert_exporter": "python",
   "pygments_lexer": "ipython3",
   "version": "3.11.5"
  }
 },
 "nbformat": 4,
 "nbformat_minor": 5
}
